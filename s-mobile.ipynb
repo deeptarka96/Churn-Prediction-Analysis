{
 "cells": [
  {
   "cell_type": "markdown",
   "metadata": {},
   "source": [
    "## S-Mobile: Predicting Customer Churn\n",
    "* Team-lead GitLab id:\n",
    "* Group name:\n",
    "* Team member names:"
   ]
  },
  {
   "cell_type": "markdown",
   "metadata": {},
   "source": [
    "## Setup\n",
    "\n",
    "Please complete this Jupyter notebook by answering the questions in `s-mobile.pdf` on Canvas (week9/). Create a Notebook and HTML file with all your results and comments and push both the Notebook and HTML file to GitLab when your team is done. All results MUST be reproducible (i.e., the TA and I must be able to recreate the HTML from the Jupyter Notebook file without changes or errors). This means that you should NOT use any python-packages that are not part of the rsm-msba-spark docker container.\n",
    "\n",
    "This is the fourth group assignment for MGTA 455 and you will be using git and GitLab. If two people edit the same file at the same time you could get what is called a \"merge conflict\". git will not decide for you who's change to accept so the team-lead will have to determine which edits to use. To avoid merge conflicts, **always** \"pull\" changes to the repo before you start working on any files. Then, when you are done, save and commit your changes, and then push them to GitLab. Make \"pull first\" a habit!"
   ]
  },
  {
   "cell_type": "code",
   "execution_count": 876,
   "metadata": {},
   "outputs": [],
   "source": [
    "import matplotlib as mpl\n",
    "import matplotlib.pyplot as plt\n",
    "import numpy as np\n",
    "import pandas as pd\n",
    "import pyrsm as rsm\n",
    "import statsmodels.formula.api as smf\n",
    "from sklearn import preprocessing\n",
    "from statsmodels.genmod.families import Binomial\n",
    "from statsmodels.genmod.families.links import logit\n",
    "from sklearn.metrics import roc_auc_score\n",
    "from clv.clv import clv_calculator"
   ]
  },
  {
   "cell_type": "code",
   "execution_count": 877,
   "metadata": {},
   "outputs": [],
   "source": [
    "mpl.rcParams[\"figure.dpi\"] = 150"
   ]
  },
  {
   "cell_type": "code",
   "execution_count": 878,
   "metadata": {},
   "outputs": [],
   "source": [
    "## load the data - this dataset must NOT be changed\n",
    "s_mobile = pd.read_pickle(\"data/s_mobile.pkl\")\n",
    "s_mobile[\"churn_yes\"] = (s_mobile[\"churn\"] == \"yes\").astype(int)"
   ]
  },
  {
   "cell_type": "markdown",
   "metadata": {},
   "source": [
    "If you want access to the full 5M row dataset, use the dropbox link below.\n",
    "\n",
    "https://www.dropbox.com/s/eli6a1q6qisacci/s_mobile_1M.pkl?dl=1\n",
    "\n",
    "The downside to using the dataset with 1M rows is, of course, that estimation time will increase substantially. I do NOT recommend you use this dataset to select your final model or for tuning hyper parameters. You can, however, use this larger dataset to re-estimate your chosen model and generate profit estimates for the representative sample."
   ]
  },
  {
   "cell_type": "code",
   "execution_count": 879,
   "metadata": {},
   "outputs": [
    {
     "data": {
      "text/markdown": [
       "## S-mobile\n",
       "\n",
       "Dataset used to investigate opportunities to decrease customer churn at S-mobile. The sample consists of three parts:\n",
       "\n",
       "1. A training sample with 27,300 observations and a 50% churn rate (\"training == 1\")\n",
       "2. A test sample with 11,700 observations and a 50% churn rate (\"training == 0\")\n",
       "3. A representative sample with 30,000 observations and a churn rate of 2%, i.e., the actual monthly churn rate for S-mobile (\"is.na(training)\" or \"representative == 1\")\n",
       "\n",
       "## Variables\n",
       "\n",
       "* customer: Customer ID\n",
       "* churn: Did consumer churn in the last 30 days? (yes or no)\n",
       "* changer: % change in revenue over the most recent 4 month period\n",
       "* changem: % change in minutes of use over the most recent 4 month period\n",
       "* revenue: Mean monthly revenue in SGD\n",
       "* mou: Mean monthly minutes of use\n",
       "* overage: Mean monthly overage minutes\n",
       "* roam: Mean number of roaming calls\n",
       "* conference: Mean number of conference calls\n",
       "* months: # of months the customer has had service with S-Mobile\n",
       "* uniqsubs: Number of individuals listed on the customer account\n",
       "* custcare: Mean number of calls to customer care \n",
       "* retcalls: Number of calls by the customer to the retention team\n",
       "* dropvce: Mean number of dropped voice calls \n",
       "* eqpdays: Number of days customer has owned current handset\n",
       "* refurb: Handset is refurbished (no or yes)\n",
       "* smartphone: Handset is a smartphone (no or yes)\n",
       "* creditr: High credit rating as opposed to medium or low (no or yes)\n",
       "* mcycle: Subscriber owns a motorcycle (no or yes)\n",
       "* car: Subscriber owns a car (no or yes)\n",
       "* travel: Subscriber has traveled internationally (no or yes)\n",
       "* region: Regions delineated by the 5 Community Development Council Districts (e.g., CS is Central Singapore)\n",
       "* occupation: Categorical variable with 4 occupation levels (professional, student, retired, or other)\n",
       "* training: 1 for training sample, 0 for test sample, NA for representative sample\n",
       "* representative: 1 for representative sample, 0 for training and test sample\n"
      ],
      "text/plain": [
       "<IPython.core.display.Markdown object>"
      ]
     },
     "metadata": {},
     "output_type": "display_data"
    }
   ],
   "source": [
    "# show dataset description\n",
    "rsm.describe(s_mobile)"
   ]
  },
  {
   "cell_type": "markdown",
   "metadata": {},
   "source": [
    "Use `smf.glm` with `freq_weights` and `cov_type` like in the below example\n",
    "    \n",
    "```python\n",
    "lr = smf.glm(\n",
    "    formula=\"churn_yes ~ changer + changem + ...\",\n",
    "    family=Binomial(link=logit()),\n",
    "    data=pentathlon_nptb.query(\"training == 1\"),\n",
    "    freq_weights=s_mobile.loc[mobile.training == 1, \"cweight\"],\n",
    ").fit(cov_type=\"HC1\")\n",
    "```"
   ]
  },
  {
   "cell_type": "code",
   "execution_count": 880,
   "metadata": {},
   "outputs": [
    {
     "name": "stdout",
     "output_type": "stream",
     "text": [
      "     index     OR   OR%  2.5%  97.5% p.values    \n",
      "1  changer  1.001  0.1%   1.0  1.002    0.006  **\n"
     ]
    }
   ],
   "source": [
    "# run python code from another notebook\n",
    "%run ./sub-notebooks/model1.ipynb"
   ]
  },
  {
   "cell_type": "code",
   "execution_count": 881,
   "metadata": {},
   "outputs": [
    {
     "name": "stdout",
     "output_type": "stream",
     "text": [
      "\n",
      "You just accessed a function from your first python packages!\n",
      "Change the code in utils/function.py to whatever you need for this assignment\n",
      "Use 'from utils import functions' to get access to your code\n",
      "You can add modules to import from by adding additional .py files to the 'utils' directory\n",
      "Note: If you make changes to the content of this file you will have to restart the notebook kernel to get the updates\n",
      "\n"
     ]
    }
   ],
   "source": [
    "# importing functions from a module/package\n",
    "from utils import functions\n",
    "functions.example()"
   ]
  },
  {
   "cell_type": "markdown",
   "metadata": {},
   "source": [
    "## Question answers"
   ]
  },
  {
   "cell_type": "markdown",
   "metadata": {},
   "source": [
    "### Question 1"
   ]
  },
  {
   "cell_type": "markdown",
   "metadata": {},
   "source": [
    "#### Exploratory Data Analysis\n",
    "\n",
    "Descriptive statistics in the training data"
   ]
  },
  {
   "cell_type": "code",
   "execution_count": 882,
   "metadata": {},
   "outputs": [
    {
     "data": {
      "text/html": [
       "<div>\n",
       "<style scoped>\n",
       "    .dataframe tbody tr th:only-of-type {\n",
       "        vertical-align: middle;\n",
       "    }\n",
       "\n",
       "    .dataframe tbody tr th {\n",
       "        vertical-align: top;\n",
       "    }\n",
       "\n",
       "    .dataframe thead th {\n",
       "        text-align: right;\n",
       "    }\n",
       "</style>\n",
       "<table border=\"1\" class=\"dataframe\">\n",
       "  <thead>\n",
       "    <tr style=\"text-align: right;\">\n",
       "      <th></th>\n",
       "      <th>mean</th>\n",
       "      <th>std</th>\n",
       "      <th>min</th>\n",
       "      <th>max</th>\n",
       "    </tr>\n",
       "  </thead>\n",
       "  <tbody>\n",
       "    <tr>\n",
       "      <th>changer</th>\n",
       "      <td>8.661245</td>\n",
       "      <td>28.956823</td>\n",
       "      <td>-62.0</td>\n",
       "      <td>305.0</td>\n",
       "    </tr>\n",
       "    <tr>\n",
       "      <th>changem</th>\n",
       "      <td>15.211392</td>\n",
       "      <td>51.885577</td>\n",
       "      <td>-78.0</td>\n",
       "      <td>521.0</td>\n",
       "    </tr>\n",
       "    <tr>\n",
       "      <th>revenue</th>\n",
       "      <td>57.211136</td>\n",
       "      <td>43.258950</td>\n",
       "      <td>0.0</td>\n",
       "      <td>856.0</td>\n",
       "    </tr>\n",
       "    <tr>\n",
       "      <th>mou</th>\n",
       "      <td>515.322308</td>\n",
       "      <td>525.458925</td>\n",
       "      <td>0.0</td>\n",
       "      <td>7668.0</td>\n",
       "    </tr>\n",
       "    <tr>\n",
       "      <th>overage</th>\n",
       "      <td>66.274286</td>\n",
       "      <td>69.258068</td>\n",
       "      <td>0.0</td>\n",
       "      <td>283.0</td>\n",
       "    </tr>\n",
       "    <tr>\n",
       "      <th>roam</th>\n",
       "      <td>1.197253</td>\n",
       "      <td>7.254327</td>\n",
       "      <td>0.0</td>\n",
       "      <td>692.0</td>\n",
       "    </tr>\n",
       "    <tr>\n",
       "      <th>conference</th>\n",
       "      <td>0.263480</td>\n",
       "      <td>1.083898</td>\n",
       "      <td>0.0</td>\n",
       "      <td>56.0</td>\n",
       "    </tr>\n",
       "    <tr>\n",
       "      <th>months</th>\n",
       "      <td>18.781502</td>\n",
       "      <td>9.595614</td>\n",
       "      <td>6.0</td>\n",
       "      <td>61.0</td>\n",
       "    </tr>\n",
       "    <tr>\n",
       "      <th>uniqsubs</th>\n",
       "      <td>1.546227</td>\n",
       "      <td>0.891051</td>\n",
       "      <td>1.0</td>\n",
       "      <td>18.0</td>\n",
       "    </tr>\n",
       "    <tr>\n",
       "      <th>custcare</th>\n",
       "      <td>2.288132</td>\n",
       "      <td>4.192970</td>\n",
       "      <td>0.0</td>\n",
       "      <td>32.0</td>\n",
       "    </tr>\n",
       "    <tr>\n",
       "      <th>retcalls</th>\n",
       "      <td>0.042527</td>\n",
       "      <td>0.222183</td>\n",
       "      <td>0.0</td>\n",
       "      <td>4.0</td>\n",
       "    </tr>\n",
       "    <tr>\n",
       "      <th>dropvce</th>\n",
       "      <td>2.946337</td>\n",
       "      <td>4.404301</td>\n",
       "      <td>0.0</td>\n",
       "      <td>67.0</td>\n",
       "    </tr>\n",
       "    <tr>\n",
       "      <th>eqpdays</th>\n",
       "      <td>538.632564</td>\n",
       "      <td>232.438835</td>\n",
       "      <td>22.0</td>\n",
       "      <td>1982.0</td>\n",
       "    </tr>\n",
       "    <tr>\n",
       "      <th>training</th>\n",
       "      <td>1.000000</td>\n",
       "      <td>0.000000</td>\n",
       "      <td>1.0</td>\n",
       "      <td>1.0</td>\n",
       "    </tr>\n",
       "    <tr>\n",
       "      <th>representative</th>\n",
       "      <td>0.000000</td>\n",
       "      <td>0.000000</td>\n",
       "      <td>0.0</td>\n",
       "      <td>0.0</td>\n",
       "    </tr>\n",
       "    <tr>\n",
       "      <th>churn_yes</th>\n",
       "      <td>0.500000</td>\n",
       "      <td>0.500009</td>\n",
       "      <td>0.0</td>\n",
       "      <td>1.0</td>\n",
       "    </tr>\n",
       "    <tr>\n",
       "      <th>churn_yes</th>\n",
       "      <td>0.500000</td>\n",
       "      <td>0.500009</td>\n",
       "      <td>0.0</td>\n",
       "      <td>1.0</td>\n",
       "    </tr>\n",
       "    <tr>\n",
       "      <th>churn_no</th>\n",
       "      <td>0.500000</td>\n",
       "      <td>0.500009</td>\n",
       "      <td>0.0</td>\n",
       "      <td>1.0</td>\n",
       "    </tr>\n",
       "    <tr>\n",
       "      <th>refurb_no</th>\n",
       "      <td>0.856374</td>\n",
       "      <td>0.350717</td>\n",
       "      <td>0.0</td>\n",
       "      <td>1.0</td>\n",
       "    </tr>\n",
       "    <tr>\n",
       "      <th>refurb_yes</th>\n",
       "      <td>0.143626</td>\n",
       "      <td>0.350717</td>\n",
       "      <td>0.0</td>\n",
       "      <td>1.0</td>\n",
       "    </tr>\n",
       "    <tr>\n",
       "      <th>smartphone_no</th>\n",
       "      <td>0.103077</td>\n",
       "      <td>0.304065</td>\n",
       "      <td>0.0</td>\n",
       "      <td>1.0</td>\n",
       "    </tr>\n",
       "    <tr>\n",
       "      <th>smartphone_yes</th>\n",
       "      <td>0.896923</td>\n",
       "      <td>0.304065</td>\n",
       "      <td>0.0</td>\n",
       "      <td>1.0</td>\n",
       "    </tr>\n",
       "    <tr>\n",
       "      <th>highcreditr_no</th>\n",
       "      <td>0.863114</td>\n",
       "      <td>0.343734</td>\n",
       "      <td>0.0</td>\n",
       "      <td>1.0</td>\n",
       "    </tr>\n",
       "    <tr>\n",
       "      <th>highcreditr_yes</th>\n",
       "      <td>0.136886</td>\n",
       "      <td>0.343734</td>\n",
       "      <td>0.0</td>\n",
       "      <td>1.0</td>\n",
       "    </tr>\n",
       "    <tr>\n",
       "      <th>mcycle_no</th>\n",
       "      <td>0.811795</td>\n",
       "      <td>0.390883</td>\n",
       "      <td>0.0</td>\n",
       "      <td>1.0</td>\n",
       "    </tr>\n",
       "    <tr>\n",
       "      <th>mcycle_yes</th>\n",
       "      <td>0.188205</td>\n",
       "      <td>0.390883</td>\n",
       "      <td>0.0</td>\n",
       "      <td>1.0</td>\n",
       "    </tr>\n",
       "    <tr>\n",
       "      <th>car_no</th>\n",
       "      <td>0.907949</td>\n",
       "      <td>0.289104</td>\n",
       "      <td>0.0</td>\n",
       "      <td>1.0</td>\n",
       "    </tr>\n",
       "    <tr>\n",
       "      <th>car_yes</th>\n",
       "      <td>0.092051</td>\n",
       "      <td>0.289104</td>\n",
       "      <td>0.0</td>\n",
       "      <td>1.0</td>\n",
       "    </tr>\n",
       "    <tr>\n",
       "      <th>travel_no</th>\n",
       "      <td>0.944212</td>\n",
       "      <td>0.229515</td>\n",
       "      <td>0.0</td>\n",
       "      <td>1.0</td>\n",
       "    </tr>\n",
       "    <tr>\n",
       "      <th>travel_yes</th>\n",
       "      <td>0.055788</td>\n",
       "      <td>0.229515</td>\n",
       "      <td>0.0</td>\n",
       "      <td>1.0</td>\n",
       "    </tr>\n",
       "    <tr>\n",
       "      <th>region_CS</th>\n",
       "      <td>0.239084</td>\n",
       "      <td>0.426532</td>\n",
       "      <td>0.0</td>\n",
       "      <td>1.0</td>\n",
       "    </tr>\n",
       "    <tr>\n",
       "      <th>region_NE</th>\n",
       "      <td>0.188278</td>\n",
       "      <td>0.390941</td>\n",
       "      <td>0.0</td>\n",
       "      <td>1.0</td>\n",
       "    </tr>\n",
       "    <tr>\n",
       "      <th>region_NW</th>\n",
       "      <td>0.191245</td>\n",
       "      <td>0.393289</td>\n",
       "      <td>0.0</td>\n",
       "      <td>1.0</td>\n",
       "    </tr>\n",
       "    <tr>\n",
       "      <th>region_SE</th>\n",
       "      <td>0.191429</td>\n",
       "      <td>0.393433</td>\n",
       "      <td>0.0</td>\n",
       "      <td>1.0</td>\n",
       "    </tr>\n",
       "    <tr>\n",
       "      <th>region_SW</th>\n",
       "      <td>0.189963</td>\n",
       "      <td>0.392279</td>\n",
       "      <td>0.0</td>\n",
       "      <td>1.0</td>\n",
       "    </tr>\n",
       "    <tr>\n",
       "      <th>occupation_other</th>\n",
       "      <td>0.628535</td>\n",
       "      <td>0.483205</td>\n",
       "      <td>0.0</td>\n",
       "      <td>1.0</td>\n",
       "    </tr>\n",
       "    <tr>\n",
       "      <th>occupation_professional</th>\n",
       "      <td>0.212088</td>\n",
       "      <td>0.408794</td>\n",
       "      <td>0.0</td>\n",
       "      <td>1.0</td>\n",
       "    </tr>\n",
       "    <tr>\n",
       "      <th>occupation_student</th>\n",
       "      <td>0.076154</td>\n",
       "      <td>0.265249</td>\n",
       "      <td>0.0</td>\n",
       "      <td>1.0</td>\n",
       "    </tr>\n",
       "    <tr>\n",
       "      <th>occupation_retired</th>\n",
       "      <td>0.083223</td>\n",
       "      <td>0.276225</td>\n",
       "      <td>0.0</td>\n",
       "      <td>1.0</td>\n",
       "    </tr>\n",
       "  </tbody>\n",
       "</table>\n",
       "</div>"
      ],
      "text/plain": [
       "                               mean         std   min     max\n",
       "changer                    8.661245   28.956823 -62.0   305.0\n",
       "changem                   15.211392   51.885577 -78.0   521.0\n",
       "revenue                   57.211136   43.258950   0.0   856.0\n",
       "mou                      515.322308  525.458925   0.0  7668.0\n",
       "overage                   66.274286   69.258068   0.0   283.0\n",
       "roam                       1.197253    7.254327   0.0   692.0\n",
       "conference                 0.263480    1.083898   0.0    56.0\n",
       "months                    18.781502    9.595614   6.0    61.0\n",
       "uniqsubs                   1.546227    0.891051   1.0    18.0\n",
       "custcare                   2.288132    4.192970   0.0    32.0\n",
       "retcalls                   0.042527    0.222183   0.0     4.0\n",
       "dropvce                    2.946337    4.404301   0.0    67.0\n",
       "eqpdays                  538.632564  232.438835  22.0  1982.0\n",
       "training                   1.000000    0.000000   1.0     1.0\n",
       "representative             0.000000    0.000000   0.0     0.0\n",
       "churn_yes                  0.500000    0.500009   0.0     1.0\n",
       "churn_yes                  0.500000    0.500009   0.0     1.0\n",
       "churn_no                   0.500000    0.500009   0.0     1.0\n",
       "refurb_no                  0.856374    0.350717   0.0     1.0\n",
       "refurb_yes                 0.143626    0.350717   0.0     1.0\n",
       "smartphone_no              0.103077    0.304065   0.0     1.0\n",
       "smartphone_yes             0.896923    0.304065   0.0     1.0\n",
       "highcreditr_no             0.863114    0.343734   0.0     1.0\n",
       "highcreditr_yes            0.136886    0.343734   0.0     1.0\n",
       "mcycle_no                  0.811795    0.390883   0.0     1.0\n",
       "mcycle_yes                 0.188205    0.390883   0.0     1.0\n",
       "car_no                     0.907949    0.289104   0.0     1.0\n",
       "car_yes                    0.092051    0.289104   0.0     1.0\n",
       "travel_no                  0.944212    0.229515   0.0     1.0\n",
       "travel_yes                 0.055788    0.229515   0.0     1.0\n",
       "region_CS                  0.239084    0.426532   0.0     1.0\n",
       "region_NE                  0.188278    0.390941   0.0     1.0\n",
       "region_NW                  0.191245    0.393289   0.0     1.0\n",
       "region_SE                  0.191429    0.393433   0.0     1.0\n",
       "region_SW                  0.189963    0.392279   0.0     1.0\n",
       "occupation_other           0.628535    0.483205   0.0     1.0\n",
       "occupation_professional    0.212088    0.408794   0.0     1.0\n",
       "occupation_student         0.076154    0.265249   0.0     1.0\n",
       "occupation_retired         0.083223    0.276225   0.0     1.0"
      ]
     },
     "execution_count": 882,
     "metadata": {},
     "output_type": "execute_result"
    }
   ],
   "source": [
    "pd.get_dummies(\n",
    "    s_mobile.loc[s_mobile.training == 1, \"churn\":],\n",
    ").agg([\"mean\", \"std\", \"min\", \"max\"]).T"
   ]
  },
  {
   "cell_type": "markdown",
   "metadata": {},
   "source": [
    "Churn in the representative sample"
   ]
  },
  {
   "cell_type": "code",
   "execution_count": 883,
   "metadata": {},
   "outputs": [
    {
     "data": {
      "text/html": [
       "<div>\n",
       "<style scoped>\n",
       "    .dataframe tbody tr th:only-of-type {\n",
       "        vertical-align: middle;\n",
       "    }\n",
       "\n",
       "    .dataframe tbody tr th {\n",
       "        vertical-align: top;\n",
       "    }\n",
       "\n",
       "    .dataframe thead th {\n",
       "        text-align: right;\n",
       "    }\n",
       "</style>\n",
       "<table border=\"1\" class=\"dataframe\">\n",
       "  <thead>\n",
       "    <tr style=\"text-align: right;\">\n",
       "      <th></th>\n",
       "      <th>mean</th>\n",
       "      <th>std</th>\n",
       "      <th>min</th>\n",
       "      <th>max</th>\n",
       "    </tr>\n",
       "  </thead>\n",
       "  <tbody>\n",
       "    <tr>\n",
       "      <th>changer</th>\n",
       "      <td>8.310567</td>\n",
       "      <td>28.496320</td>\n",
       "      <td>-90.0</td>\n",
       "      <td>437.0</td>\n",
       "    </tr>\n",
       "    <tr>\n",
       "      <th>changem</th>\n",
       "      <td>17.254533</td>\n",
       "      <td>51.375390</td>\n",
       "      <td>-78.0</td>\n",
       "      <td>540.0</td>\n",
       "    </tr>\n",
       "    <tr>\n",
       "      <th>revenue</th>\n",
       "      <td>56.634800</td>\n",
       "      <td>43.339533</td>\n",
       "      <td>0.0</td>\n",
       "      <td>1223.0</td>\n",
       "    </tr>\n",
       "    <tr>\n",
       "      <th>mou</th>\n",
       "      <td>540.767067</td>\n",
       "      <td>536.368824</td>\n",
       "      <td>0.0</td>\n",
       "      <td>7359.0</td>\n",
       "    </tr>\n",
       "    <tr>\n",
       "      <th>overage</th>\n",
       "      <td>61.723400</td>\n",
       "      <td>67.846131</td>\n",
       "      <td>0.0</td>\n",
       "      <td>265.0</td>\n",
       "    </tr>\n",
       "    <tr>\n",
       "      <th>roam</th>\n",
       "      <td>1.187867</td>\n",
       "      <td>10.058579</td>\n",
       "      <td>0.0</td>\n",
       "      <td>1112.0</td>\n",
       "    </tr>\n",
       "    <tr>\n",
       "      <th>conference</th>\n",
       "      <td>0.296400</td>\n",
       "      <td>1.284316</td>\n",
       "      <td>0.0</td>\n",
       "      <td>66.0</td>\n",
       "    </tr>\n",
       "    <tr>\n",
       "      <th>months</th>\n",
       "      <td>18.592767</td>\n",
       "      <td>9.928488</td>\n",
       "      <td>6.0</td>\n",
       "      <td>61.0</td>\n",
       "    </tr>\n",
       "    <tr>\n",
       "      <th>uniqsubs</th>\n",
       "      <td>1.501367</td>\n",
       "      <td>0.840013</td>\n",
       "      <td>1.0</td>\n",
       "      <td>12.0</td>\n",
       "    </tr>\n",
       "    <tr>\n",
       "      <th>custcare</th>\n",
       "      <td>2.514533</td>\n",
       "      <td>4.357846</td>\n",
       "      <td>0.0</td>\n",
       "      <td>32.0</td>\n",
       "    </tr>\n",
       "    <tr>\n",
       "      <th>retcalls</th>\n",
       "      <td>0.027333</td>\n",
       "      <td>0.176976</td>\n",
       "      <td>0.0</td>\n",
       "      <td>3.0</td>\n",
       "    </tr>\n",
       "    <tr>\n",
       "      <th>dropvce</th>\n",
       "      <td>3.029967</td>\n",
       "      <td>4.631089</td>\n",
       "      <td>0.0</td>\n",
       "      <td>98.0</td>\n",
       "    </tr>\n",
       "    <tr>\n",
       "      <th>eqpdays</th>\n",
       "      <td>509.338867</td>\n",
       "      <td>224.133500</td>\n",
       "      <td>13.0</td>\n",
       "      <td>1786.0</td>\n",
       "    </tr>\n",
       "    <tr>\n",
       "      <th>training</th>\n",
       "      <td>NaN</td>\n",
       "      <td>NaN</td>\n",
       "      <td>NaN</td>\n",
       "      <td>NaN</td>\n",
       "    </tr>\n",
       "    <tr>\n",
       "      <th>representative</th>\n",
       "      <td>1.000000</td>\n",
       "      <td>0.000000</td>\n",
       "      <td>1.0</td>\n",
       "      <td>1.0</td>\n",
       "    </tr>\n",
       "    <tr>\n",
       "      <th>churn_yes</th>\n",
       "      <td>0.020000</td>\n",
       "      <td>0.140002</td>\n",
       "      <td>0.0</td>\n",
       "      <td>1.0</td>\n",
       "    </tr>\n",
       "    <tr>\n",
       "      <th>churn_yes</th>\n",
       "      <td>0.020000</td>\n",
       "      <td>0.140002</td>\n",
       "      <td>0.0</td>\n",
       "      <td>1.0</td>\n",
       "    </tr>\n",
       "    <tr>\n",
       "      <th>churn_no</th>\n",
       "      <td>0.980000</td>\n",
       "      <td>0.140002</td>\n",
       "      <td>0.0</td>\n",
       "      <td>1.0</td>\n",
       "    </tr>\n",
       "    <tr>\n",
       "      <th>refurb_no</th>\n",
       "      <td>0.867333</td>\n",
       "      <td>0.339220</td>\n",
       "      <td>0.0</td>\n",
       "      <td>1.0</td>\n",
       "    </tr>\n",
       "    <tr>\n",
       "      <th>refurb_yes</th>\n",
       "      <td>0.132667</td>\n",
       "      <td>0.339220</td>\n",
       "      <td>0.0</td>\n",
       "      <td>1.0</td>\n",
       "    </tr>\n",
       "    <tr>\n",
       "      <th>smartphone_no</th>\n",
       "      <td>0.086433</td>\n",
       "      <td>0.281008</td>\n",
       "      <td>0.0</td>\n",
       "      <td>1.0</td>\n",
       "    </tr>\n",
       "    <tr>\n",
       "      <th>smartphone_yes</th>\n",
       "      <td>0.913567</td>\n",
       "      <td>0.281008</td>\n",
       "      <td>0.0</td>\n",
       "      <td>1.0</td>\n",
       "    </tr>\n",
       "    <tr>\n",
       "      <th>highcreditr_no</th>\n",
       "      <td>0.816233</td>\n",
       "      <td>0.387300</td>\n",
       "      <td>0.0</td>\n",
       "      <td>1.0</td>\n",
       "    </tr>\n",
       "    <tr>\n",
       "      <th>highcreditr_yes</th>\n",
       "      <td>0.183767</td>\n",
       "      <td>0.387300</td>\n",
       "      <td>0.0</td>\n",
       "      <td>1.0</td>\n",
       "    </tr>\n",
       "    <tr>\n",
       "      <th>mcycle_no</th>\n",
       "      <td>0.812933</td>\n",
       "      <td>0.389972</td>\n",
       "      <td>0.0</td>\n",
       "      <td>1.0</td>\n",
       "    </tr>\n",
       "    <tr>\n",
       "      <th>mcycle_yes</th>\n",
       "      <td>0.187067</td>\n",
       "      <td>0.389972</td>\n",
       "      <td>0.0</td>\n",
       "      <td>1.0</td>\n",
       "    </tr>\n",
       "    <tr>\n",
       "      <th>car_no</th>\n",
       "      <td>0.910233</td>\n",
       "      <td>0.285852</td>\n",
       "      <td>0.0</td>\n",
       "      <td>1.0</td>\n",
       "    </tr>\n",
       "    <tr>\n",
       "      <th>car_yes</th>\n",
       "      <td>0.089767</td>\n",
       "      <td>0.285852</td>\n",
       "      <td>0.0</td>\n",
       "      <td>1.0</td>\n",
       "    </tr>\n",
       "    <tr>\n",
       "      <th>travel_no</th>\n",
       "      <td>0.941700</td>\n",
       "      <td>0.234314</td>\n",
       "      <td>0.0</td>\n",
       "      <td>1.0</td>\n",
       "    </tr>\n",
       "    <tr>\n",
       "      <th>travel_yes</th>\n",
       "      <td>0.058300</td>\n",
       "      <td>0.234314</td>\n",
       "      <td>0.0</td>\n",
       "      <td>1.0</td>\n",
       "    </tr>\n",
       "    <tr>\n",
       "      <th>region_CS</th>\n",
       "      <td>0.199233</td>\n",
       "      <td>0.399431</td>\n",
       "      <td>0.0</td>\n",
       "      <td>1.0</td>\n",
       "    </tr>\n",
       "    <tr>\n",
       "      <th>region_NE</th>\n",
       "      <td>0.196167</td>\n",
       "      <td>0.397103</td>\n",
       "      <td>0.0</td>\n",
       "      <td>1.0</td>\n",
       "    </tr>\n",
       "    <tr>\n",
       "      <th>region_NW</th>\n",
       "      <td>0.201533</td>\n",
       "      <td>0.401152</td>\n",
       "      <td>0.0</td>\n",
       "      <td>1.0</td>\n",
       "    </tr>\n",
       "    <tr>\n",
       "      <th>region_SE</th>\n",
       "      <td>0.202133</td>\n",
       "      <td>0.401598</td>\n",
       "      <td>0.0</td>\n",
       "      <td>1.0</td>\n",
       "    </tr>\n",
       "    <tr>\n",
       "      <th>region_SW</th>\n",
       "      <td>0.200933</td>\n",
       "      <td>0.400705</td>\n",
       "      <td>0.0</td>\n",
       "      <td>1.0</td>\n",
       "    </tr>\n",
       "    <tr>\n",
       "      <th>occupation_other</th>\n",
       "      <td>0.630767</td>\n",
       "      <td>0.482605</td>\n",
       "      <td>0.0</td>\n",
       "      <td>1.0</td>\n",
       "    </tr>\n",
       "    <tr>\n",
       "      <th>occupation_professional</th>\n",
       "      <td>0.173600</td>\n",
       "      <td>0.378771</td>\n",
       "      <td>0.0</td>\n",
       "      <td>1.0</td>\n",
       "    </tr>\n",
       "    <tr>\n",
       "      <th>occupation_student</th>\n",
       "      <td>0.055133</td>\n",
       "      <td>0.228244</td>\n",
       "      <td>0.0</td>\n",
       "      <td>1.0</td>\n",
       "    </tr>\n",
       "    <tr>\n",
       "      <th>occupation_retired</th>\n",
       "      <td>0.140500</td>\n",
       "      <td>0.347511</td>\n",
       "      <td>0.0</td>\n",
       "      <td>1.0</td>\n",
       "    </tr>\n",
       "  </tbody>\n",
       "</table>\n",
       "</div>"
      ],
      "text/plain": [
       "                               mean         std   min     max\n",
       "changer                    8.310567   28.496320 -90.0   437.0\n",
       "changem                   17.254533   51.375390 -78.0   540.0\n",
       "revenue                   56.634800   43.339533   0.0  1223.0\n",
       "mou                      540.767067  536.368824   0.0  7359.0\n",
       "overage                   61.723400   67.846131   0.0   265.0\n",
       "roam                       1.187867   10.058579   0.0  1112.0\n",
       "conference                 0.296400    1.284316   0.0    66.0\n",
       "months                    18.592767    9.928488   6.0    61.0\n",
       "uniqsubs                   1.501367    0.840013   1.0    12.0\n",
       "custcare                   2.514533    4.357846   0.0    32.0\n",
       "retcalls                   0.027333    0.176976   0.0     3.0\n",
       "dropvce                    3.029967    4.631089   0.0    98.0\n",
       "eqpdays                  509.338867  224.133500  13.0  1786.0\n",
       "training                        NaN         NaN   NaN     NaN\n",
       "representative             1.000000    0.000000   1.0     1.0\n",
       "churn_yes                  0.020000    0.140002   0.0     1.0\n",
       "churn_yes                  0.020000    0.140002   0.0     1.0\n",
       "churn_no                   0.980000    0.140002   0.0     1.0\n",
       "refurb_no                  0.867333    0.339220   0.0     1.0\n",
       "refurb_yes                 0.132667    0.339220   0.0     1.0\n",
       "smartphone_no              0.086433    0.281008   0.0     1.0\n",
       "smartphone_yes             0.913567    0.281008   0.0     1.0\n",
       "highcreditr_no             0.816233    0.387300   0.0     1.0\n",
       "highcreditr_yes            0.183767    0.387300   0.0     1.0\n",
       "mcycle_no                  0.812933    0.389972   0.0     1.0\n",
       "mcycle_yes                 0.187067    0.389972   0.0     1.0\n",
       "car_no                     0.910233    0.285852   0.0     1.0\n",
       "car_yes                    0.089767    0.285852   0.0     1.0\n",
       "travel_no                  0.941700    0.234314   0.0     1.0\n",
       "travel_yes                 0.058300    0.234314   0.0     1.0\n",
       "region_CS                  0.199233    0.399431   0.0     1.0\n",
       "region_NE                  0.196167    0.397103   0.0     1.0\n",
       "region_NW                  0.201533    0.401152   0.0     1.0\n",
       "region_SE                  0.202133    0.401598   0.0     1.0\n",
       "region_SW                  0.200933    0.400705   0.0     1.0\n",
       "occupation_other           0.630767    0.482605   0.0     1.0\n",
       "occupation_professional    0.173600    0.378771   0.0     1.0\n",
       "occupation_student         0.055133    0.228244   0.0     1.0\n",
       "occupation_retired         0.140500    0.347511   0.0     1.0"
      ]
     },
     "execution_count": 883,
     "metadata": {},
     "output_type": "execute_result"
    }
   ],
   "source": [
    "pd.get_dummies(\n",
    "    s_mobile.loc[s_mobile.representative == 1, \"churn\":],\n",
    ").agg([\"mean\", \"std\", \"min\", \"max\"]).T"
   ]
  },
  {
   "cell_type": "code",
   "execution_count": 884,
   "metadata": {},
   "outputs": [],
   "source": [
    "s_mobile[\"churn_yes\"] = (s_mobile[\"churn\"] == \"yes\").astype(int)"
   ]
  },
  {
   "cell_type": "code",
   "execution_count": 885,
   "metadata": {},
   "outputs": [],
   "source": [
    "class_weight_dict = {0: 49, 1: 1}\n",
    "s_mobile[\"cweight\"] = rsm.ifelse(s_mobile.churn == \"yes\", class_weight_dict[1], class_weight_dict[0])"
   ]
  },
  {
   "cell_type": "markdown",
   "metadata": {},
   "source": [
    "#### Histograms of the variables"
   ]
  },
  {
   "cell_type": "code",
   "execution_count": 886,
   "metadata": {},
   "outputs": [
    {
     "data": {
      "image/png": "[encoded data removed]",
      "text/plain": [
       "<Figure size 1500x5850 with 26 Axes>"
      ]
     },
     "metadata": {
      "needs_background": "light"
     },
     "output_type": "display_data"
    }
   ],
   "source": [
    "rsm.distr_plot(s_mobile.query('training == 1').drop(columns='customer'))"
   ]
  },
  {
   "cell_type": "markdown",
   "metadata": {},
   "source": [
    "#### Checking the impact of each variable on churn"
   ]
  },
  {
   "cell_type": "code",
   "execution_count": 887,
   "metadata": {},
   "outputs": [
    {
     "name": "stdout",
     "output_type": "stream",
     "text": [
      "\n",
      "Cross-tabs\n",
      "Variables: churn_yes, refurb\n",
      "Null hyp: there is no association between churn_yes and refurb\n",
      "Alt. hyp: there is an association between churn_yes and refurb\n",
      "\n",
      "Observed:\n",
      "\n",
      "refurb         no    yes   Total\n",
      "churn_yes                       \n",
      "0          11,821  1,829  13,650\n",
      "1          11,558  2,092  13,650\n",
      "Total      23,379  3,921  27,300\n",
      "\n",
      "Expected: (row total x column total) / total\n",
      "\n",
      "refurb           no      yes     Total\n",
      "churn_yes                             \n",
      "0          11,689.5  1,960.5  13,650.0\n",
      "1          11,689.5  1,960.5  13,650.0\n",
      "Total      23,379.0  3,921.0  27,300.0\n",
      "\n",
      "Chi-squared: 20.6 df(1), p.value 0.0\n",
      "\n"
     ]
    }
   ],
   "source": [
    "ct = rsm.cross_tabs(s_mobile.query('training == 1'),'churn_yes','refurb')\n",
    "ct.summary()"
   ]
  },
  {
   "cell_type": "code",
   "execution_count": 888,
   "metadata": {},
   "outputs": [
    {
     "data": {
      "image/png": "[encoded data removed]",
      "text/plain": [
       "<Figure size 900x600 with 1 Axes>"
      ]
     },
     "metadata": {
      "needs_background": "light"
     },
     "output_type": "display_data"
    }
   ],
   "source": [
    "ct.plot()"
   ]
  },
  {
   "cell_type": "code",
   "execution_count": 889,
   "metadata": {},
   "outputs": [
    {
     "name": "stdout",
     "output_type": "stream",
     "text": [
      "\n",
      "Cross-tabs\n",
      "Variables: churn_yes, smartphone\n",
      "Null hyp: there is no association between churn_yes and smartphone\n",
      "Alt. hyp: there is an association between churn_yes and smartphone\n",
      "\n",
      "Observed:\n",
      "\n",
      "smartphone     no     yes   Total\n",
      "churn_yes                        \n",
      "0           1,161  12,489  13,650\n",
      "1           1,653  11,997  13,650\n",
      "Total       2,814  24,486  27,300\n",
      "\n",
      "Expected: (row total x column total) / total\n",
      "\n",
      "smartphone       no       yes     Total\n",
      "churn_yes                              \n",
      "0           1,407.0  12,243.0  13,650.0\n",
      "1           1,407.0  12,243.0  13,650.0\n",
      "Total       2,814.0  24,486.0  27,300.0\n",
      "\n",
      "Chi-squared: 95.91 df(1), p.value 0.0\n",
      "\n"
     ]
    }
   ],
   "source": [
    "#Checking the impact of each variable\n",
    "\n",
    "ct = rsm.cross_tabs(s_mobile.query('training == 1'),'churn_yes','smartphone')\n",
    "ct.summary()"
   ]
  },
  {
   "cell_type": "code",
   "execution_count": 890,
   "metadata": {},
   "outputs": [
    {
     "data": {
      "image/png": "[encoded data removed]",
      "text/plain": [
       "<Figure size 900x600 with 1 Axes>"
      ]
     },
     "metadata": {
      "needs_background": "light"
     },
     "output_type": "display_data"
    }
   ],
   "source": [
    "ct.plot()"
   ]
  },
  {
   "cell_type": "code",
   "execution_count": 891,
   "metadata": {},
   "outputs": [
    {
     "name": "stdout",
     "output_type": "stream",
     "text": [
      "\n",
      "Cross-tabs\n",
      "Variables: churn_yes, highcreditr\n",
      "Null hyp: there is no association between churn_yes and highcreditr\n",
      "Alt. hyp: there is an association between churn_yes and highcreditr\n",
      "\n",
      "Observed:\n",
      "\n",
      "highcreditr      no    yes   Total\n",
      "churn_yes                         \n",
      "0            11,169  2,481  13,650\n",
      "1            12,394  1,256  13,650\n",
      "Total        23,563  3,737  27,300\n",
      "\n",
      "Expected: (row total x column total) / total\n",
      "\n",
      "highcreditr        no      yes     Total\n",
      "churn_yes                               \n",
      "0            11,781.5  1,868.5  13,650.0\n",
      "1            11,781.5  1,868.5  13,650.0\n",
      "Total        23,563.0  3,737.0  27,300.0\n",
      "\n",
      "Chi-squared: 465.24 df(1), p.value 0.0\n",
      "\n"
     ]
    }
   ],
   "source": [
    "#Checking the impact of each variable\n",
    "\n",
    "ct = rsm.cross_tabs(s_mobile.query('training == 1'),'churn_yes','highcreditr')\n",
    "ct.summary()"
   ]
  },
  {
   "cell_type": "code",
   "execution_count": 892,
   "metadata": {},
   "outputs": [
    {
     "data": {
      "image/png": "[encoded data removed]",
      "text/plain": [
       "<Figure size 900x600 with 1 Axes>"
      ]
     },
     "metadata": {
      "needs_background": "light"
     },
     "output_type": "display_data"
    }
   ],
   "source": [
    "ct.plot()"
   ]
  },
  {
   "cell_type": "code",
   "execution_count": 893,
   "metadata": {},
   "outputs": [
    {
     "name": "stdout",
     "output_type": "stream",
     "text": [
      "\n",
      "Cross-tabs\n",
      "Variables: churn_yes, mcycle\n",
      "Null hyp: there is no association between churn_yes and mcycle\n",
      "Alt. hyp: there is an association between churn_yes and mcycle\n",
      "\n",
      "Observed:\n",
      "\n",
      "mcycle         no    yes   Total\n",
      "churn_yes                       \n",
      "0          11,085  2,565  13,650\n",
      "1          11,077  2,573  13,650\n",
      "Total      22,162  5,138  27,300\n",
      "\n",
      "Expected: (row total x column total) / total\n",
      "\n",
      "mcycle           no      yes     Total\n",
      "churn_yes                             \n",
      "0          11,081.0  2,569.0  13,650.0\n",
      "1          11,081.0  2,569.0  13,650.0\n",
      "Total      22,162.0  5,138.0  27,300.0\n",
      "\n",
      "Chi-squared: 0.02 df(1), p.value 0.9\n",
      "\n"
     ]
    }
   ],
   "source": [
    "#Checking the impact of each variable\n",
    "\n",
    "ct = rsm.cross_tabs(s_mobile.query('training == 1'),'churn_yes','mcycle')\n",
    "ct.summary()"
   ]
  },
  {
   "cell_type": "code",
   "execution_count": 894,
   "metadata": {},
   "outputs": [
    {
     "data": {
      "image/png": "[encoded data removed]",
      "text/plain": [
       "<Figure size 900x600 with 1 Axes>"
      ]
     },
     "metadata": {
      "needs_background": "light"
     },
     "output_type": "display_data"
    }
   ],
   "source": [
    "ct.plot()"
   ]
  },
  {
   "cell_type": "code",
   "execution_count": 895,
   "metadata": {},
   "outputs": [
    {
     "name": "stdout",
     "output_type": "stream",
     "text": [
      "\n",
      "Cross-tabs\n",
      "Variables: churn_yes, car\n",
      "Null hyp: there is no association between churn_yes and car\n",
      "Alt. hyp: there is an association between churn_yes and car\n",
      "\n",
      "Observed:\n",
      "\n",
      "car            no    yes   Total\n",
      "churn_yes                       \n",
      "0          12,411  1,239  13,650\n",
      "1          12,376  1,274  13,650\n",
      "Total      24,787  2,513  27,300\n",
      "\n",
      "Expected: (row total x column total) / total\n",
      "\n",
      "car              no      yes     Total\n",
      "churn_yes                             \n",
      "0          12,393.5  1,256.5  13,650.0\n",
      "1          12,393.5  1,256.5  13,650.0\n",
      "Total      24,787.0  2,513.0  27,300.0\n",
      "\n",
      "Chi-squared: 0.54 df(1), p.value 0.46\n",
      "\n"
     ]
    }
   ],
   "source": [
    "#Checking the impact of each variable\n",
    "\n",
    "ct = rsm.cross_tabs(s_mobile.query('training == 1'),'churn_yes','car')\n",
    "ct.summary()"
   ]
  },
  {
   "cell_type": "code",
   "execution_count": 896,
   "metadata": {},
   "outputs": [
    {
     "data": {
      "image/png": "[encoded data removed]",
      "text/plain": [
       "<Figure size 900x600 with 1 Axes>"
      ]
     },
     "metadata": {
      "needs_background": "light"
     },
     "output_type": "display_data"
    }
   ],
   "source": [
    "ct.plot()"
   ]
  },
  {
   "cell_type": "code",
   "execution_count": 897,
   "metadata": {},
   "outputs": [
    {
     "name": "stdout",
     "output_type": "stream",
     "text": [
      "\n",
      "Cross-tabs\n",
      "Variables: churn_yes, travel\n",
      "Null hyp: there is no association between churn_yes and travel\n",
      "Alt. hyp: there is an association between churn_yes and travel\n",
      "\n",
      "Observed:\n",
      "\n",
      "travel         no    yes   Total\n",
      "churn_yes                       \n",
      "0          12,877    773  13,650\n",
      "1          12,900    750  13,650\n",
      "Total      25,777  1,523  27,300\n",
      "\n",
      "Expected: (row total x column total) / total\n",
      "\n",
      "travel           no      yes     Total\n",
      "churn_yes                             \n",
      "0          12,888.5    761.5  13,650.0\n",
      "1          12,888.5    761.5  13,650.0\n",
      "Total      25,777.0  1,523.0  27,300.0\n",
      "\n",
      "Chi-squared: 0.37 df(1), p.value 0.54\n",
      "\n"
     ]
    }
   ],
   "source": [
    "#Checking the impact of each variable\n",
    "\n",
    "ct = rsm.cross_tabs(s_mobile.query('training == 1'),'churn_yes','travel')\n",
    "ct.summary()"
   ]
  },
  {
   "cell_type": "code",
   "execution_count": 898,
   "metadata": {},
   "outputs": [
    {
     "data": {
      "image/png": "[encoded data removed]",
      "text/plain": [
       "<Figure size 900x600 with 1 Axes>"
      ]
     },
     "metadata": {
      "needs_background": "light"
     },
     "output_type": "display_data"
    }
   ],
   "source": [
    "ct.plot()"
   ]
  },
  {
   "cell_type": "code",
   "execution_count": 899,
   "metadata": {},
   "outputs": [
    {
     "name": "stdout",
     "output_type": "stream",
     "text": [
      "\n",
      "Cross-tabs\n",
      "Variables: churn_yes, region\n",
      "Null hyp: there is no association between churn_yes and region\n",
      "Alt. hyp: there is an association between churn_yes and region\n",
      "\n",
      "Observed:\n",
      "\n",
      "region        CS     NE     NW     SE     SW   Total\n",
      "churn_yes                                           \n",
      "0          2,724  2,719  2,723  2,722  2,762  13,650\n",
      "1          3,803  2,421  2,498  2,504  2,424  13,650\n",
      "Total      6,527  5,140  5,221  5,226  5,186  27,300\n",
      "\n",
      "Expected: (row total x column total) / total\n",
      "\n",
      "region          CS       NE       NW       SE       SW     Total\n",
      "churn_yes                                                       \n",
      "0          3,263.5  2,570.0  2,610.5  2,613.0  2,593.0  13,650.0\n",
      "1          3,263.5  2,570.0  2,610.5  2,613.0  2,593.0  13,650.0\n",
      "Total      6,527.0  5,140.0  5,221.0  5,226.0  5,186.0  27,300.0\n",
      "\n",
      "Chi-squared: 236.47 df(4), p.value 0.0\n",
      "\n"
     ]
    }
   ],
   "source": [
    "#Checking the impact of each variable\n",
    "\n",
    "ct = rsm.cross_tabs(s_mobile.query('training == 1'),'churn_yes','region')\n",
    "ct.summary()"
   ]
  },
  {
   "cell_type": "code",
   "execution_count": 900,
   "metadata": {},
   "outputs": [
    {
     "data": {
      "image/png": "[encoded data removed]",
      "text/plain": [
       "<Figure size 900x600 with 1 Axes>"
      ]
     },
     "metadata": {
      "needs_background": "light"
     },
     "output_type": "display_data"
    }
   ],
   "source": [
    "ct.plot()"
   ]
  },
  {
   "cell_type": "code",
   "execution_count": 901,
   "metadata": {},
   "outputs": [
    {
     "name": "stdout",
     "output_type": "stream",
     "text": [
      "\n",
      "Cross-tabs\n",
      "Variables: churn_yes, occupation\n",
      "Null hyp: there is no association between churn_yes and occupation\n",
      "Alt. hyp: there is an association between churn_yes and occupation\n",
      "\n",
      "Observed:\n",
      "\n",
      "occupation   other professional student retired   Total\n",
      "churn_yes                                              \n",
      "0            8,650        2,359     734   1,907  13,650\n",
      "1            8,509        3,431   1,345     365  13,650\n",
      "Total       17,159        5,790   2,079   2,272  27,300\n",
      "\n",
      "Expected: (row total x column total) / total\n",
      "\n",
      "occupation     other professional  student  retired     Total\n",
      "churn_yes                                                    \n",
      "0            8,579.5      2,895.0  1,039.5  1,136.0  13,650.0\n",
      "1            8,579.5      2,895.0  1,039.5  1,136.0  13,650.0\n",
      "Total       17,159.0      5,790.0  2,079.0  2,272.0  27,300.0\n",
      "\n",
      "Chi-squared: 1425.75 df(3), p.value 0.0\n",
      "\n"
     ]
    }
   ],
   "source": [
    "#Checking the impact of each variable\n",
    "\n",
    "ct = rsm.cross_tabs(s_mobile.query('training == 1'),'churn_yes','occupation')\n",
    "ct.summary()"
   ]
  },
  {
   "cell_type": "code",
   "execution_count": 902,
   "metadata": {},
   "outputs": [
    {
     "data": {
      "image/png": "[encoded data removed]",
      "text/plain": [
       "<Figure size 900x600 with 1 Axes>"
      ]
     },
     "metadata": {
      "needs_background": "light"
     },
     "output_type": "display_data"
    }
   ],
   "source": [
    "ct.plot()"
   ]
  },
  {
   "cell_type": "code",
   "execution_count": 903,
   "metadata": {},
   "outputs": [],
   "source": [
    "reg = smf.ols('churn_yes~changer',data=s_mobile.query('training == 1')).fit()"
   ]
  },
  {
   "cell_type": "code",
   "execution_count": 904,
   "metadata": {},
   "outputs": [
    {
     "data": {
      "text/html": [
       "<div>\n",
       "<style scoped>\n",
       "    .dataframe tbody tr th:only-of-type {\n",
       "        vertical-align: middle;\n",
       "    }\n",
       "\n",
       "    .dataframe tbody tr th {\n",
       "        vertical-align: top;\n",
       "    }\n",
       "\n",
       "    .dataframe thead th {\n",
       "        text-align: right;\n",
       "    }\n",
       "</style>\n",
       "<table border=\"1\" class=\"dataframe\">\n",
       "  <thead>\n",
       "    <tr style=\"text-align: right;\">\n",
       "      <th></th>\n",
       "      <th>index</th>\n",
       "      <th>coefficient</th>\n",
       "      <th>2.5%</th>\n",
       "      <th>97.5%</th>\n",
       "      <th>p.values</th>\n",
       "      <th></th>\n",
       "    </tr>\n",
       "  </thead>\n",
       "  <tbody>\n",
       "    <tr>\n",
       "      <th>1</th>\n",
       "      <td>changer</td>\n",
       "      <td>0.0</td>\n",
       "      <td>0.0</td>\n",
       "      <td>0.0</td>\n",
       "      <td>0.006</td>\n",
       "      <td>**</td>\n",
       "    </tr>\n",
       "  </tbody>\n",
       "</table>\n",
       "</div>"
      ],
      "text/plain": [
       "     index  coefficient  2.5%  97.5% p.values    \n",
       "1  changer          0.0   0.0    0.0    0.006  **"
      ]
     },
     "execution_count": 904,
     "metadata": {},
     "output_type": "execute_result"
    }
   ],
   "source": [
    "rsm.coef_ci(reg)"
   ]
  },
  {
   "cell_type": "code",
   "execution_count": 905,
   "metadata": {},
   "outputs": [],
   "source": [
    "reg = smf.ols('churn_yes~changem',data=s_mobile.query('training == 1')).fit()"
   ]
  },
  {
   "cell_type": "code",
   "execution_count": 906,
   "metadata": {},
   "outputs": [
    {
     "data": {
      "text/html": [
       "<div>\n",
       "<style scoped>\n",
       "    .dataframe tbody tr th:only-of-type {\n",
       "        vertical-align: middle;\n",
       "    }\n",
       "\n",
       "    .dataframe tbody tr th {\n",
       "        vertical-align: top;\n",
       "    }\n",
       "\n",
       "    .dataframe thead th {\n",
       "        text-align: right;\n",
       "    }\n",
       "</style>\n",
       "<table border=\"1\" class=\"dataframe\">\n",
       "  <thead>\n",
       "    <tr style=\"text-align: right;\">\n",
       "      <th></th>\n",
       "      <th>index</th>\n",
       "      <th>coefficient</th>\n",
       "      <th>2.5%</th>\n",
       "      <th>97.5%</th>\n",
       "      <th>p.values</th>\n",
       "      <th></th>\n",
       "    </tr>\n",
       "  </thead>\n",
       "  <tbody>\n",
       "    <tr>\n",
       "      <th>1</th>\n",
       "      <td>changem</td>\n",
       "      <td>-0.0</td>\n",
       "      <td>-0.0</td>\n",
       "      <td>-0.0</td>\n",
       "      <td>&lt; .001</td>\n",
       "      <td>***</td>\n",
       "    </tr>\n",
       "  </tbody>\n",
       "</table>\n",
       "</div>"
      ],
      "text/plain": [
       "     index  coefficient  2.5%  97.5% p.values     \n",
       "1  changem         -0.0  -0.0   -0.0   < .001  ***"
      ]
     },
     "execution_count": 906,
     "metadata": {},
     "output_type": "execute_result"
    }
   ],
   "source": [
    "rsm.coef_ci(reg)"
   ]
  },
  {
   "cell_type": "code",
   "execution_count": 907,
   "metadata": {},
   "outputs": [],
   "source": [
    "reg = smf.ols('churn_yes~revenue',data=s_mobile.query('training == 1')).fit()"
   ]
  },
  {
   "cell_type": "code",
   "execution_count": 908,
   "metadata": {},
   "outputs": [
    {
     "data": {
      "text/html": [
       "<div>\n",
       "<style scoped>\n",
       "    .dataframe tbody tr th:only-of-type {\n",
       "        vertical-align: middle;\n",
       "    }\n",
       "\n",
       "    .dataframe tbody tr th {\n",
       "        vertical-align: top;\n",
       "    }\n",
       "\n",
       "    .dataframe thead th {\n",
       "        text-align: right;\n",
       "    }\n",
       "</style>\n",
       "<table border=\"1\" class=\"dataframe\">\n",
       "  <thead>\n",
       "    <tr style=\"text-align: right;\">\n",
       "      <th></th>\n",
       "      <th>index</th>\n",
       "      <th>coefficient</th>\n",
       "      <th>2.5%</th>\n",
       "      <th>97.5%</th>\n",
       "      <th>p.values</th>\n",
       "      <th></th>\n",
       "    </tr>\n",
       "  </thead>\n",
       "  <tbody>\n",
       "    <tr>\n",
       "      <th>1</th>\n",
       "      <td>revenue</td>\n",
       "      <td>0.0</td>\n",
       "      <td>-0.0</td>\n",
       "      <td>0.0</td>\n",
       "      <td>0.144</td>\n",
       "      <td></td>\n",
       "    </tr>\n",
       "  </tbody>\n",
       "</table>\n",
       "</div>"
      ],
      "text/plain": [
       "     index  coefficient  2.5%  97.5% p.values   \n",
       "1  revenue          0.0  -0.0    0.0    0.144   "
      ]
     },
     "execution_count": 908,
     "metadata": {},
     "output_type": "execute_result"
    }
   ],
   "source": [
    "rsm.coef_ci(reg)"
   ]
  },
  {
   "cell_type": "code",
   "execution_count": 909,
   "metadata": {},
   "outputs": [],
   "source": [
    "reg = smf.ols('churn_yes~mou',data=s_mobile.query('training == 1')).fit()"
   ]
  },
  {
   "cell_type": "code",
   "execution_count": 910,
   "metadata": {},
   "outputs": [
    {
     "data": {
      "text/html": [
       "<div>\n",
       "<style scoped>\n",
       "    .dataframe tbody tr th:only-of-type {\n",
       "        vertical-align: middle;\n",
       "    }\n",
       "\n",
       "    .dataframe tbody tr th {\n",
       "        vertical-align: top;\n",
       "    }\n",
       "\n",
       "    .dataframe thead th {\n",
       "        text-align: right;\n",
       "    }\n",
       "</style>\n",
       "<table border=\"1\" class=\"dataframe\">\n",
       "  <thead>\n",
       "    <tr style=\"text-align: right;\">\n",
       "      <th></th>\n",
       "      <th>index</th>\n",
       "      <th>coefficient</th>\n",
       "      <th>2.5%</th>\n",
       "      <th>97.5%</th>\n",
       "      <th>p.values</th>\n",
       "      <th></th>\n",
       "    </tr>\n",
       "  </thead>\n",
       "  <tbody>\n",
       "    <tr>\n",
       "      <th>1</th>\n",
       "      <td>mou</td>\n",
       "      <td>-0.0</td>\n",
       "      <td>-0.0</td>\n",
       "      <td>-0.0</td>\n",
       "      <td>&lt; .001</td>\n",
       "      <td>***</td>\n",
       "    </tr>\n",
       "  </tbody>\n",
       "</table>\n",
       "</div>"
      ],
      "text/plain": [
       "  index  coefficient  2.5%  97.5% p.values     \n",
       "1   mou         -0.0  -0.0   -0.0   < .001  ***"
      ]
     },
     "execution_count": 910,
     "metadata": {},
     "output_type": "execute_result"
    }
   ],
   "source": [
    "rsm.coef_ci(reg)"
   ]
  },
  {
   "cell_type": "code",
   "execution_count": 911,
   "metadata": {},
   "outputs": [],
   "source": [
    "reg = smf.ols('churn_yes~overage',data=s_mobile.query('training == 1')).fit()"
   ]
  },
  {
   "cell_type": "code",
   "execution_count": 912,
   "metadata": {},
   "outputs": [
    {
     "data": {
      "text/html": [
       "<div>\n",
       "<style scoped>\n",
       "    .dataframe tbody tr th:only-of-type {\n",
       "        vertical-align: middle;\n",
       "    }\n",
       "\n",
       "    .dataframe tbody tr th {\n",
       "        vertical-align: top;\n",
       "    }\n",
       "\n",
       "    .dataframe thead th {\n",
       "        text-align: right;\n",
       "    }\n",
       "</style>\n",
       "<table border=\"1\" class=\"dataframe\">\n",
       "  <thead>\n",
       "    <tr style=\"text-align: right;\">\n",
       "      <th></th>\n",
       "      <th>index</th>\n",
       "      <th>coefficient</th>\n",
       "      <th>2.5%</th>\n",
       "      <th>97.5%</th>\n",
       "      <th>p.values</th>\n",
       "      <th></th>\n",
       "    </tr>\n",
       "  </thead>\n",
       "  <tbody>\n",
       "    <tr>\n",
       "      <th>1</th>\n",
       "      <td>overage</td>\n",
       "      <td>0.001</td>\n",
       "      <td>0.0</td>\n",
       "      <td>0.001</td>\n",
       "      <td>&lt; .001</td>\n",
       "      <td>***</td>\n",
       "    </tr>\n",
       "  </tbody>\n",
       "</table>\n",
       "</div>"
      ],
      "text/plain": [
       "     index  coefficient  2.5%  97.5% p.values     \n",
       "1  overage        0.001   0.0  0.001   < .001  ***"
      ]
     },
     "execution_count": 912,
     "metadata": {},
     "output_type": "execute_result"
    }
   ],
   "source": [
    "rsm.coef_ci(reg)"
   ]
  },
  {
   "cell_type": "code",
   "execution_count": 913,
   "metadata": {},
   "outputs": [],
   "source": [
    "reg = smf.ols('churn_yes~roam',data=s_mobile.query('training == 1')).fit()"
   ]
  },
  {
   "cell_type": "code",
   "execution_count": 914,
   "metadata": {},
   "outputs": [
    {
     "data": {
      "text/html": [
       "<div>\n",
       "<style scoped>\n",
       "    .dataframe tbody tr th:only-of-type {\n",
       "        vertical-align: middle;\n",
       "    }\n",
       "\n",
       "    .dataframe tbody tr th {\n",
       "        vertical-align: top;\n",
       "    }\n",
       "\n",
       "    .dataframe thead th {\n",
       "        text-align: right;\n",
       "    }\n",
       "</style>\n",
       "<table border=\"1\" class=\"dataframe\">\n",
       "  <thead>\n",
       "    <tr style=\"text-align: right;\">\n",
       "      <th></th>\n",
       "      <th>index</th>\n",
       "      <th>coefficient</th>\n",
       "      <th>2.5%</th>\n",
       "      <th>97.5%</th>\n",
       "      <th>p.values</th>\n",
       "      <th></th>\n",
       "    </tr>\n",
       "  </thead>\n",
       "  <tbody>\n",
       "    <tr>\n",
       "      <th>1</th>\n",
       "      <td>roam</td>\n",
       "      <td>0.001</td>\n",
       "      <td>0.0</td>\n",
       "      <td>0.002</td>\n",
       "      <td>0.002</td>\n",
       "      <td>**</td>\n",
       "    </tr>\n",
       "  </tbody>\n",
       "</table>\n",
       "</div>"
      ],
      "text/plain": [
       "  index  coefficient  2.5%  97.5% p.values    \n",
       "1  roam        0.001   0.0  0.002    0.002  **"
      ]
     },
     "execution_count": 914,
     "metadata": {},
     "output_type": "execute_result"
    }
   ],
   "source": [
    "rsm.coef_ci(reg)"
   ]
  },
  {
   "cell_type": "code",
   "execution_count": 915,
   "metadata": {},
   "outputs": [],
   "source": [
    "reg = smf.ols('churn_yes~conference',data=s_mobile.query('training == 1')).fit()"
   ]
  },
  {
   "cell_type": "code",
   "execution_count": 916,
   "metadata": {},
   "outputs": [
    {
     "data": {
      "text/html": [
       "<div>\n",
       "<style scoped>\n",
       "    .dataframe tbody tr th:only-of-type {\n",
       "        vertical-align: middle;\n",
       "    }\n",
       "\n",
       "    .dataframe tbody tr th {\n",
       "        vertical-align: top;\n",
       "    }\n",
       "\n",
       "    .dataframe thead th {\n",
       "        text-align: right;\n",
       "    }\n",
       "</style>\n",
       "<table border=\"1\" class=\"dataframe\">\n",
       "  <thead>\n",
       "    <tr style=\"text-align: right;\">\n",
       "      <th></th>\n",
       "      <th>index</th>\n",
       "      <th>coefficient</th>\n",
       "      <th>2.5%</th>\n",
       "      <th>97.5%</th>\n",
       "      <th>p.values</th>\n",
       "      <th></th>\n",
       "    </tr>\n",
       "  </thead>\n",
       "  <tbody>\n",
       "    <tr>\n",
       "      <th>1</th>\n",
       "      <td>conference</td>\n",
       "      <td>-0.011</td>\n",
       "      <td>-0.017</td>\n",
       "      <td>-0.006</td>\n",
       "      <td>&lt; .001</td>\n",
       "      <td>***</td>\n",
       "    </tr>\n",
       "  </tbody>\n",
       "</table>\n",
       "</div>"
      ],
      "text/plain": [
       "        index  coefficient   2.5%  97.5% p.values     \n",
       "1  conference       -0.011 -0.017 -0.006   < .001  ***"
      ]
     },
     "execution_count": 916,
     "metadata": {},
     "output_type": "execute_result"
    }
   ],
   "source": [
    "rsm.coef_ci(reg)"
   ]
  },
  {
   "cell_type": "code",
   "execution_count": 917,
   "metadata": {},
   "outputs": [],
   "source": [
    "reg = smf.ols('churn_yes~months',data=s_mobile.query('training == 1')).fit()"
   ]
  },
  {
   "cell_type": "code",
   "execution_count": 918,
   "metadata": {},
   "outputs": [
    {
     "data": {
      "text/html": [
       "<div>\n",
       "<style scoped>\n",
       "    .dataframe tbody tr th:only-of-type {\n",
       "        vertical-align: middle;\n",
       "    }\n",
       "\n",
       "    .dataframe tbody tr th {\n",
       "        vertical-align: top;\n",
       "    }\n",
       "\n",
       "    .dataframe thead th {\n",
       "        text-align: right;\n",
       "    }\n",
       "</style>\n",
       "<table border=\"1\" class=\"dataframe\">\n",
       "  <thead>\n",
       "    <tr style=\"text-align: right;\">\n",
       "      <th></th>\n",
       "      <th>index</th>\n",
       "      <th>coefficient</th>\n",
       "      <th>2.5%</th>\n",
       "      <th>97.5%</th>\n",
       "      <th>p.values</th>\n",
       "      <th></th>\n",
       "    </tr>\n",
       "  </thead>\n",
       "  <tbody>\n",
       "    <tr>\n",
       "      <th>1</th>\n",
       "      <td>months</td>\n",
       "      <td>0.001</td>\n",
       "      <td>0.001</td>\n",
       "      <td>0.002</td>\n",
       "      <td>&lt; .001</td>\n",
       "      <td>***</td>\n",
       "    </tr>\n",
       "  </tbody>\n",
       "</table>\n",
       "</div>"
      ],
      "text/plain": [
       "    index  coefficient   2.5%  97.5% p.values     \n",
       "1  months        0.001  0.001  0.002   < .001  ***"
      ]
     },
     "execution_count": 918,
     "metadata": {},
     "output_type": "execute_result"
    }
   ],
   "source": [
    "rsm.coef_ci(reg)"
   ]
  },
  {
   "cell_type": "code",
   "execution_count": 919,
   "metadata": {},
   "outputs": [],
   "source": [
    "reg = smf.ols('churn_yes~uniqsubs',data=s_mobile.query('training == 1')).fit()"
   ]
  },
  {
   "cell_type": "code",
   "execution_count": 920,
   "metadata": {},
   "outputs": [
    {
     "data": {
      "text/html": [
       "<div>\n",
       "<style scoped>\n",
       "    .dataframe tbody tr th:only-of-type {\n",
       "        vertical-align: middle;\n",
       "    }\n",
       "\n",
       "    .dataframe tbody tr th {\n",
       "        vertical-align: top;\n",
       "    }\n",
       "\n",
       "    .dataframe thead th {\n",
       "        text-align: right;\n",
       "    }\n",
       "</style>\n",
       "<table border=\"1\" class=\"dataframe\">\n",
       "  <thead>\n",
       "    <tr style=\"text-align: right;\">\n",
       "      <th></th>\n",
       "      <th>index</th>\n",
       "      <th>coefficient</th>\n",
       "      <th>2.5%</th>\n",
       "      <th>97.5%</th>\n",
       "      <th>p.values</th>\n",
       "      <th></th>\n",
       "    </tr>\n",
       "  </thead>\n",
       "  <tbody>\n",
       "    <tr>\n",
       "      <th>1</th>\n",
       "      <td>uniqsubs</td>\n",
       "      <td>0.016</td>\n",
       "      <td>0.01</td>\n",
       "      <td>0.023</td>\n",
       "      <td>&lt; .001</td>\n",
       "      <td>***</td>\n",
       "    </tr>\n",
       "  </tbody>\n",
       "</table>\n",
       "</div>"
      ],
      "text/plain": [
       "      index  coefficient  2.5%  97.5% p.values     \n",
       "1  uniqsubs        0.016  0.01  0.023   < .001  ***"
      ]
     },
     "execution_count": 920,
     "metadata": {},
     "output_type": "execute_result"
    }
   ],
   "source": [
    "rsm.coef_ci(reg)"
   ]
  },
  {
   "cell_type": "code",
   "execution_count": 921,
   "metadata": {},
   "outputs": [],
   "source": [
    "reg = smf.ols('churn_yes~custcare',data=s_mobile.query('training == 1')).fit()"
   ]
  },
  {
   "cell_type": "code",
   "execution_count": 922,
   "metadata": {},
   "outputs": [
    {
     "data": {
      "text/html": [
       "<div>\n",
       "<style scoped>\n",
       "    .dataframe tbody tr th:only-of-type {\n",
       "        vertical-align: middle;\n",
       "    }\n",
       "\n",
       "    .dataframe tbody tr th {\n",
       "        vertical-align: top;\n",
       "    }\n",
       "\n",
       "    .dataframe thead th {\n",
       "        text-align: right;\n",
       "    }\n",
       "</style>\n",
       "<table border=\"1\" class=\"dataframe\">\n",
       "  <thead>\n",
       "    <tr style=\"text-align: right;\">\n",
       "      <th></th>\n",
       "      <th>index</th>\n",
       "      <th>coefficient</th>\n",
       "      <th>2.5%</th>\n",
       "      <th>97.5%</th>\n",
       "      <th>p.values</th>\n",
       "      <th></th>\n",
       "    </tr>\n",
       "  </thead>\n",
       "  <tbody>\n",
       "    <tr>\n",
       "      <th>1</th>\n",
       "      <td>custcare</td>\n",
       "      <td>-0.006</td>\n",
       "      <td>-0.008</td>\n",
       "      <td>-0.005</td>\n",
       "      <td>&lt; .001</td>\n",
       "      <td>***</td>\n",
       "    </tr>\n",
       "  </tbody>\n",
       "</table>\n",
       "</div>"
      ],
      "text/plain": [
       "      index  coefficient   2.5%  97.5% p.values     \n",
       "1  custcare       -0.006 -0.008 -0.005   < .001  ***"
      ]
     },
     "execution_count": 922,
     "metadata": {},
     "output_type": "execute_result"
    }
   ],
   "source": [
    "rsm.coef_ci(reg)"
   ]
  },
  {
   "cell_type": "code",
   "execution_count": 923,
   "metadata": {},
   "outputs": [],
   "source": [
    "reg = smf.ols('churn_yes~retcalls',data=s_mobile.query('training == 1')).fit()"
   ]
  },
  {
   "cell_type": "code",
   "execution_count": 924,
   "metadata": {},
   "outputs": [
    {
     "data": {
      "text/html": [
       "<div>\n",
       "<style scoped>\n",
       "    .dataframe tbody tr th:only-of-type {\n",
       "        vertical-align: middle;\n",
       "    }\n",
       "\n",
       "    .dataframe tbody tr th {\n",
       "        vertical-align: top;\n",
       "    }\n",
       "\n",
       "    .dataframe thead th {\n",
       "        text-align: right;\n",
       "    }\n",
       "</style>\n",
       "<table border=\"1\" class=\"dataframe\">\n",
       "  <thead>\n",
       "    <tr style=\"text-align: right;\">\n",
       "      <th></th>\n",
       "      <th>index</th>\n",
       "      <th>coefficient</th>\n",
       "      <th>2.5%</th>\n",
       "      <th>97.5%</th>\n",
       "      <th>p.values</th>\n",
       "      <th></th>\n",
       "    </tr>\n",
       "  </thead>\n",
       "  <tbody>\n",
       "    <tr>\n",
       "      <th>1</th>\n",
       "      <td>retcalls</td>\n",
       "      <td>0.141</td>\n",
       "      <td>0.115</td>\n",
       "      <td>0.168</td>\n",
       "      <td>&lt; .001</td>\n",
       "      <td>***</td>\n",
       "    </tr>\n",
       "  </tbody>\n",
       "</table>\n",
       "</div>"
      ],
      "text/plain": [
       "      index  coefficient   2.5%  97.5% p.values     \n",
       "1  retcalls        0.141  0.115  0.168   < .001  ***"
      ]
     },
     "execution_count": 924,
     "metadata": {},
     "output_type": "execute_result"
    }
   ],
   "source": [
    "rsm.coef_ci(reg)"
   ]
  },
  {
   "cell_type": "code",
   "execution_count": 925,
   "metadata": {},
   "outputs": [],
   "source": [
    "reg = smf.ols('churn_yes~dropvce',data=s_mobile.query('training == 1')).fit()"
   ]
  },
  {
   "cell_type": "code",
   "execution_count": 926,
   "metadata": {},
   "outputs": [
    {
     "data": {
      "text/html": [
       "<div>\n",
       "<style scoped>\n",
       "    .dataframe tbody tr th:only-of-type {\n",
       "        vertical-align: middle;\n",
       "    }\n",
       "\n",
       "    .dataframe tbody tr th {\n",
       "        vertical-align: top;\n",
       "    }\n",
       "\n",
       "    .dataframe thead th {\n",
       "        text-align: right;\n",
       "    }\n",
       "</style>\n",
       "<table border=\"1\" class=\"dataframe\">\n",
       "  <thead>\n",
       "    <tr style=\"text-align: right;\">\n",
       "      <th></th>\n",
       "      <th>index</th>\n",
       "      <th>coefficient</th>\n",
       "      <th>2.5%</th>\n",
       "      <th>97.5%</th>\n",
       "      <th>p.values</th>\n",
       "      <th></th>\n",
       "    </tr>\n",
       "  </thead>\n",
       "  <tbody>\n",
       "    <tr>\n",
       "      <th>1</th>\n",
       "      <td>dropvce</td>\n",
       "      <td>-0.002</td>\n",
       "      <td>-0.004</td>\n",
       "      <td>-0.001</td>\n",
       "      <td>&lt; .001</td>\n",
       "      <td>***</td>\n",
       "    </tr>\n",
       "  </tbody>\n",
       "</table>\n",
       "</div>"
      ],
      "text/plain": [
       "     index  coefficient   2.5%  97.5% p.values     \n",
       "1  dropvce       -0.002 -0.004 -0.001   < .001  ***"
      ]
     },
     "execution_count": 926,
     "metadata": {},
     "output_type": "execute_result"
    }
   ],
   "source": [
    "rsm.coef_ci(reg)"
   ]
  },
  {
   "cell_type": "code",
   "execution_count": 927,
   "metadata": {},
   "outputs": [],
   "source": [
    "reg = smf.ols('churn_yes~eqpdays',data=s_mobile.query('training == 1')).fit()"
   ]
  },
  {
   "cell_type": "code",
   "execution_count": 928,
   "metadata": {},
   "outputs": [
    {
     "data": {
      "text/html": [
       "<div>\n",
       "<style scoped>\n",
       "    .dataframe tbody tr th:only-of-type {\n",
       "        vertical-align: middle;\n",
       "    }\n",
       "\n",
       "    .dataframe tbody tr th {\n",
       "        vertical-align: top;\n",
       "    }\n",
       "\n",
       "    .dataframe thead th {\n",
       "        text-align: right;\n",
       "    }\n",
       "</style>\n",
       "<table border=\"1\" class=\"dataframe\">\n",
       "  <thead>\n",
       "    <tr style=\"text-align: right;\">\n",
       "      <th></th>\n",
       "      <th>index</th>\n",
       "      <th>coefficient</th>\n",
       "      <th>2.5%</th>\n",
       "      <th>97.5%</th>\n",
       "      <th>p.values</th>\n",
       "      <th></th>\n",
       "    </tr>\n",
       "  </thead>\n",
       "  <tbody>\n",
       "    <tr>\n",
       "      <th>1</th>\n",
       "      <td>eqpdays</td>\n",
       "      <td>0.0</td>\n",
       "      <td>0.0</td>\n",
       "      <td>0.0</td>\n",
       "      <td>&lt; .001</td>\n",
       "      <td>***</td>\n",
       "    </tr>\n",
       "  </tbody>\n",
       "</table>\n",
       "</div>"
      ],
      "text/plain": [
       "     index  coefficient  2.5%  97.5% p.values     \n",
       "1  eqpdays          0.0   0.0    0.0   < .001  ***"
      ]
     },
     "execution_count": 928,
     "metadata": {},
     "output_type": "execute_result"
    }
   ],
   "source": [
    "rsm.coef_ci(reg)"
   ]
  },
  {
   "cell_type": "markdown",
   "metadata": {},
   "source": [
    "#### Correlations"
   ]
  },
  {
   "cell_type": "code",
   "execution_count": 929,
   "metadata": {},
   "outputs": [
    {
     "name": "stdout",
     "output_type": "stream",
     "text": [
      "Correlation\n",
      "Variables: changer, changem, revenue, mou, overage, roam, conference, months, uniqsubs, custcare, retcalls, dropvce, eqpdays\n",
      "Null hyp.: variables x and y are not correlated\n",
      "Alt. hyp.: variables x and y are correlated\n",
      "\n",
      "Correlation matrix:\n",
      "           changer changem revenue    mou overage   roam conference months  \\\n",
      "changem       0.43                                                           \n",
      "revenue       0.12   -0.01                                                   \n",
      "mou           0.08   -0.06     0.7                                           \n",
      "overage       0.23    0.02    0.57   0.53                                    \n",
      "roam          0.03    -0.0    0.27   0.12    0.06                            \n",
      "conference    0.04   -0.01    0.24   0.33    0.16   0.04                     \n",
      "months       -0.04   -0.01   -0.02  -0.08   -0.03  -0.02      -0.06          \n",
      "uniqsubs      -0.0    -0.0   -0.02  -0.04   -0.02  -0.01      -0.02   0.01   \n",
      "custcare      0.01   -0.05    0.24   0.47    0.24   0.02       0.22  -0.14   \n",
      "retcalls      0.01   -0.02    0.01   0.01    0.02  -0.01       0.01   0.07   \n",
      "dropvce       0.03   -0.07    0.45   0.61    0.34   0.09        0.3  -0.05   \n",
      "eqpdays      -0.06   -0.01   -0.22  -0.31   -0.16  -0.03      -0.11   0.48   \n",
      "\n",
      "           uniqsubs custcare retcalls dropvce  \n",
      "changem                                        \n",
      "revenue                                        \n",
      "mou                                            \n",
      "overage                                        \n",
      "roam                                           \n",
      "conference                                     \n",
      "months                                         \n",
      "uniqsubs                                       \n",
      "custcare      -0.09                            \n",
      "retcalls      -0.02     0.04                   \n",
      "dropvce       -0.03     0.36     0.02          \n",
      "eqpdays       -0.03    -0.23    -0.03   -0.22  \n",
      "\n",
      "p.values:\n",
      "           changer changem revenue   mou overage  roam conference months  \\\n",
      "changem        0.0                                                         \n",
      "revenue        0.0    0.17                                                 \n",
      "mou            0.0     0.0     0.0                                         \n",
      "overage        0.0    0.01     0.0   0.0                                   \n",
      "roam           0.0    0.62     0.0   0.0     0.0                           \n",
      "conference     0.0    0.17     0.0   0.0     0.0   0.0                     \n",
      "months         0.0    0.18    0.01   0.0     0.0  0.01        0.0          \n",
      "uniqsubs      0.98    0.89     0.0   0.0     0.0  0.14        0.0   0.22   \n",
      "custcare      0.01     0.0     0.0   0.0     0.0   0.0        0.0    0.0   \n",
      "retcalls      0.21    0.01    0.03  0.15    0.01  0.35       0.04    0.0   \n",
      "dropvce        0.0     0.0     0.0   0.0     0.0   0.0        0.0    0.0   \n",
      "eqpdays        0.0    0.37     0.0   0.0     0.0   0.0        0.0    0.0   \n",
      "\n",
      "           uniqsubs custcare retcalls dropvce  \n",
      "changem                                        \n",
      "revenue                                        \n",
      "mou                                            \n",
      "overage                                        \n",
      "roam                                           \n",
      "conference                                     \n",
      "months                                         \n",
      "uniqsubs                                       \n",
      "custcare        0.0                            \n",
      "retcalls       0.01      0.0                   \n",
      "dropvce         0.0      0.0     0.01          \n",
      "eqpdays         0.0      0.0      0.0     0.0  \n"
     ]
    }
   ],
   "source": [
    "num_vars = list(s_mobile.dtypes[(s_mobile.dtypes != 'category') & (s_mobile.dtypes != 'object')].reset_index()['index'])[:13]\n",
    "\n",
    "cor = rsm.correlation(s_mobile.query('training == 1').loc[:,num_vars])\n",
    "cor.summary()"
   ]
  },
  {
   "cell_type": "markdown",
   "metadata": {},
   "source": [
    "- After performing an exploratory data analysis, we can see that mcycle, car, travel, and revenue are not statistically significant\n",
    "- We will however still include these variables in our initial model to see if their significance changes when they are used with the remaining variables"
   ]
  },
  {
   "cell_type": "markdown",
   "metadata": {},
   "source": [
    "#### Logistic Regression"
   ]
  },
  {
   "cell_type": "code",
   "execution_count": 930,
   "metadata": {},
   "outputs": [
    {
     "data": {
      "text/html": [
       "<div>\n",
       "<style scoped>\n",
       "    .dataframe tbody tr th:only-of-type {\n",
       "        vertical-align: middle;\n",
       "    }\n",
       "\n",
       "    .dataframe tbody tr th {\n",
       "        vertical-align: top;\n",
       "    }\n",
       "\n",
       "    .dataframe thead th {\n",
       "        text-align: right;\n",
       "    }\n",
       "</style>\n",
       "<table border=\"1\" class=\"dataframe\">\n",
       "  <thead>\n",
       "    <tr style=\"text-align: right;\">\n",
       "      <th></th>\n",
       "      <th>changer</th>\n",
       "      <th>changem</th>\n",
       "      <th>revenue</th>\n",
       "      <th>mou</th>\n",
       "      <th>overage</th>\n",
       "      <th>roam</th>\n",
       "      <th>conference</th>\n",
       "      <th>months</th>\n",
       "      <th>uniqsubs</th>\n",
       "      <th>custcare</th>\n",
       "      <th>...</th>\n",
       "      <th>eqpdays</th>\n",
       "      <th>refurb</th>\n",
       "      <th>smartphone</th>\n",
       "      <th>highcreditr</th>\n",
       "      <th>mcycle</th>\n",
       "      <th>car</th>\n",
       "      <th>travel</th>\n",
       "      <th>region</th>\n",
       "      <th>occupation</th>\n",
       "      <th>churn_yes</th>\n",
       "    </tr>\n",
       "  </thead>\n",
       "  <tbody>\n",
       "    <tr>\n",
       "      <th>0</th>\n",
       "      <td>1.795996</td>\n",
       "      <td>0.648059</td>\n",
       "      <td>0.059201</td>\n",
       "      <td>0.051482</td>\n",
       "      <td>0.583946</td>\n",
       "      <td>-0.090861</td>\n",
       "      <td>-0.126390</td>\n",
       "      <td>-0.534447</td>\n",
       "      <td>-0.299926</td>\n",
       "      <td>-0.285786</td>\n",
       "      <td>...</td>\n",
       "      <td>-0.272399</td>\n",
       "      <td>no</td>\n",
       "      <td>yes</td>\n",
       "      <td>no</td>\n",
       "      <td>no</td>\n",
       "      <td>no</td>\n",
       "      <td>no</td>\n",
       "      <td>CS</td>\n",
       "      <td>other</td>\n",
       "      <td>1</td>\n",
       "    </tr>\n",
       "    <tr>\n",
       "      <th>1</th>\n",
       "      <td>-0.146109</td>\n",
       "      <td>-0.134122</td>\n",
       "      <td>-0.032648</td>\n",
       "      <td>-0.364217</td>\n",
       "      <td>-0.453367</td>\n",
       "      <td>-0.090861</td>\n",
       "      <td>-0.126390</td>\n",
       "      <td>-0.534447</td>\n",
       "      <td>0.275305</td>\n",
       "      <td>-0.285786</td>\n",
       "      <td>...</td>\n",
       "      <td>-0.288119</td>\n",
       "      <td>no</td>\n",
       "      <td>yes</td>\n",
       "      <td>yes</td>\n",
       "      <td>no</td>\n",
       "      <td>no</td>\n",
       "      <td>no</td>\n",
       "      <td>SE</td>\n",
       "      <td>other</td>\n",
       "      <td>0</td>\n",
       "    </tr>\n",
       "    <tr>\n",
       "      <th>2</th>\n",
       "      <td>-0.146109</td>\n",
       "      <td>-0.254458</td>\n",
       "      <td>-0.204864</td>\n",
       "      <td>0.562407</td>\n",
       "      <td>0.252889</td>\n",
       "      <td>-0.090861</td>\n",
       "      <td>0.310452</td>\n",
       "      <td>-0.483883</td>\n",
       "      <td>-0.299926</td>\n",
       "      <td>1.891054</td>\n",
       "      <td>...</td>\n",
       "      <td>-0.602518</td>\n",
       "      <td>no</td>\n",
       "      <td>yes</td>\n",
       "      <td>no</td>\n",
       "      <td>yes</td>\n",
       "      <td>no</td>\n",
       "      <td>yes</td>\n",
       "      <td>NW</td>\n",
       "      <td>professional</td>\n",
       "      <td>0</td>\n",
       "    </tr>\n",
       "    <tr>\n",
       "      <th>3</th>\n",
       "      <td>-0.146109</td>\n",
       "      <td>-0.244430</td>\n",
       "      <td>-0.250789</td>\n",
       "      <td>0.014857</td>\n",
       "      <td>-0.453367</td>\n",
       "      <td>-0.090861</td>\n",
       "      <td>-0.126390</td>\n",
       "      <td>0.931900</td>\n",
       "      <td>-0.299926</td>\n",
       "      <td>-0.285786</td>\n",
       "      <td>...</td>\n",
       "      <td>0.172251</td>\n",
       "      <td>no</td>\n",
       "      <td>yes</td>\n",
       "      <td>yes</td>\n",
       "      <td>yes</td>\n",
       "      <td>no</td>\n",
       "      <td>no</td>\n",
       "      <td>NW</td>\n",
       "      <td>retired</td>\n",
       "      <td>0</td>\n",
       "    </tr>\n",
       "    <tr>\n",
       "      <th>4</th>\n",
       "      <td>-0.181744</td>\n",
       "      <td>-0.244430</td>\n",
       "      <td>0.495484</td>\n",
       "      <td>1.230822</td>\n",
       "      <td>0.370598</td>\n",
       "      <td>0.675463</td>\n",
       "      <td>-0.126390</td>\n",
       "      <td>0.072318</td>\n",
       "      <td>0.850537</td>\n",
       "      <td>-0.056645</td>\n",
       "      <td>...</td>\n",
       "      <td>-0.299347</td>\n",
       "      <td>no</td>\n",
       "      <td>yes</td>\n",
       "      <td>no</td>\n",
       "      <td>yes</td>\n",
       "      <td>yes</td>\n",
       "      <td>no</td>\n",
       "      <td>SW</td>\n",
       "      <td>other</td>\n",
       "      <td>0</td>\n",
       "    </tr>\n",
       "    <tr>\n",
       "      <th>...</th>\n",
       "      <td>...</td>\n",
       "      <td>...</td>\n",
       "      <td>...</td>\n",
       "      <td>...</td>\n",
       "      <td>...</td>\n",
       "      <td>...</td>\n",
       "      <td>...</td>\n",
       "      <td>...</td>\n",
       "      <td>...</td>\n",
       "      <td>...</td>\n",
       "      <td>...</td>\n",
       "      <td>...</td>\n",
       "      <td>...</td>\n",
       "      <td>...</td>\n",
       "      <td>...</td>\n",
       "      <td>...</td>\n",
       "      <td>...</td>\n",
       "      <td>...</td>\n",
       "      <td>...</td>\n",
       "      <td>...</td>\n",
       "      <td>...</td>\n",
       "    </tr>\n",
       "    <tr>\n",
       "      <th>68995</th>\n",
       "      <td>-0.146109</td>\n",
       "      <td>-0.314625</td>\n",
       "      <td>-0.273751</td>\n",
       "      <td>-0.453034</td>\n",
       "      <td>-0.453367</td>\n",
       "      <td>-0.090861</td>\n",
       "      <td>-0.126390</td>\n",
       "      <td>0.021754</td>\n",
       "      <td>-0.299926</td>\n",
       "      <td>-0.285786</td>\n",
       "      <td>...</td>\n",
       "      <td>0.399067</td>\n",
       "      <td>no</td>\n",
       "      <td>yes</td>\n",
       "      <td>no</td>\n",
       "      <td>yes</td>\n",
       "      <td>yes</td>\n",
       "      <td>no</td>\n",
       "      <td>SW</td>\n",
       "      <td>other</td>\n",
       "      <td>0</td>\n",
       "    </tr>\n",
       "    <tr>\n",
       "      <th>68996</th>\n",
       "      <td>-0.146109</td>\n",
       "      <td>0.788450</td>\n",
       "      <td>-0.308194</td>\n",
       "      <td>-0.426480</td>\n",
       "      <td>-0.453367</td>\n",
       "      <td>-0.090861</td>\n",
       "      <td>-0.126390</td>\n",
       "      <td>-0.028810</td>\n",
       "      <td>0.275305</td>\n",
       "      <td>-0.285786</td>\n",
       "      <td>...</td>\n",
       "      <td>0.354153</td>\n",
       "      <td>no</td>\n",
       "      <td>no</td>\n",
       "      <td>no</td>\n",
       "      <td>yes</td>\n",
       "      <td>yes</td>\n",
       "      <td>no</td>\n",
       "      <td>SE</td>\n",
       "      <td>other</td>\n",
       "      <td>0</td>\n",
       "    </tr>\n",
       "    <tr>\n",
       "      <th>68997</th>\n",
       "      <td>-0.146109</td>\n",
       "      <td>-0.114066</td>\n",
       "      <td>-0.158940</td>\n",
       "      <td>-0.268991</td>\n",
       "      <td>-0.063455</td>\n",
       "      <td>-0.090861</td>\n",
       "      <td>-0.126390</td>\n",
       "      <td>0.325136</td>\n",
       "      <td>0.275305</td>\n",
       "      <td>-0.285786</td>\n",
       "      <td>...</td>\n",
       "      <td>0.789820</td>\n",
       "      <td>no</td>\n",
       "      <td>no</td>\n",
       "      <td>no</td>\n",
       "      <td>no</td>\n",
       "      <td>no</td>\n",
       "      <td>no</td>\n",
       "      <td>CS</td>\n",
       "      <td>student</td>\n",
       "      <td>1</td>\n",
       "    </tr>\n",
       "    <tr>\n",
       "      <th>68998</th>\n",
       "      <td>-0.199561</td>\n",
       "      <td>-0.455017</td>\n",
       "      <td>-0.181902</td>\n",
       "      <td>-0.234197</td>\n",
       "      <td>-0.453367</td>\n",
       "      <td>-0.090861</td>\n",
       "      <td>-0.126390</td>\n",
       "      <td>0.021754</td>\n",
       "      <td>-0.299926</td>\n",
       "      <td>-0.285786</td>\n",
       "      <td>...</td>\n",
       "      <td>0.372119</td>\n",
       "      <td>no</td>\n",
       "      <td>yes</td>\n",
       "      <td>no</td>\n",
       "      <td>no</td>\n",
       "      <td>no</td>\n",
       "      <td>no</td>\n",
       "      <td>CS</td>\n",
       "      <td>other</td>\n",
       "      <td>1</td>\n",
       "    </tr>\n",
       "    <tr>\n",
       "      <th>68999</th>\n",
       "      <td>-0.128291</td>\n",
       "      <td>0.417416</td>\n",
       "      <td>-0.021167</td>\n",
       "      <td>0.141214</td>\n",
       "      <td>-0.453367</td>\n",
       "      <td>-0.090861</td>\n",
       "      <td>0.310452</td>\n",
       "      <td>-0.585011</td>\n",
       "      <td>-0.299926</td>\n",
       "      <td>0.287067</td>\n",
       "      <td>...</td>\n",
       "      <td>-0.279136</td>\n",
       "      <td>no</td>\n",
       "      <td>yes</td>\n",
       "      <td>no</td>\n",
       "      <td>no</td>\n",
       "      <td>no</td>\n",
       "      <td>no</td>\n",
       "      <td>SW</td>\n",
       "      <td>other</td>\n",
       "      <td>0</td>\n",
       "    </tr>\n",
       "  </tbody>\n",
       "</table>\n",
       "<p>69000 rows × 22 columns</p>\n",
       "</div>"
      ],
      "text/plain": [
       "        changer   changem   revenue       mou   overage      roam  conference  \\\n",
       "0      1.795996  0.648059  0.059201  0.051482  0.583946 -0.090861   -0.126390   \n",
       "1     -0.146109 -0.134122 -0.032648 -0.364217 -0.453367 -0.090861   -0.126390   \n",
       "2     -0.146109 -0.254458 -0.204864  0.562407  0.252889 -0.090861    0.310452   \n",
       "3     -0.146109 -0.244430 -0.250789  0.014857 -0.453367 -0.090861   -0.126390   \n",
       "4     -0.181744 -0.244430  0.495484  1.230822  0.370598  0.675463   -0.126390   \n",
       "...         ...       ...       ...       ...       ...       ...         ...   \n",
       "68995 -0.146109 -0.314625 -0.273751 -0.453034 -0.453367 -0.090861   -0.126390   \n",
       "68996 -0.146109  0.788450 -0.308194 -0.426480 -0.453367 -0.090861   -0.126390   \n",
       "68997 -0.146109 -0.114066 -0.158940 -0.268991 -0.063455 -0.090861   -0.126390   \n",
       "68998 -0.199561 -0.455017 -0.181902 -0.234197 -0.453367 -0.090861   -0.126390   \n",
       "68999 -0.128291  0.417416 -0.021167  0.141214 -0.453367 -0.090861    0.310452   \n",
       "\n",
       "         months  uniqsubs  custcare  ...   eqpdays  refurb  smartphone  \\\n",
       "0     -0.534447 -0.299926 -0.285786  ... -0.272399      no         yes   \n",
       "1     -0.534447  0.275305 -0.285786  ... -0.288119      no         yes   \n",
       "2     -0.483883 -0.299926  1.891054  ... -0.602518      no         yes   \n",
       "3      0.931900 -0.299926 -0.285786  ...  0.172251      no         yes   \n",
       "4      0.072318  0.850537 -0.056645  ... -0.299347      no         yes   \n",
       "...         ...       ...       ...  ...       ...     ...         ...   \n",
       "68995  0.021754 -0.299926 -0.285786  ...  0.399067      no         yes   \n",
       "68996 -0.028810  0.275305 -0.285786  ...  0.354153      no          no   \n",
       "68997  0.325136  0.275305 -0.285786  ...  0.789820      no          no   \n",
       "68998  0.021754 -0.299926 -0.285786  ...  0.372119      no         yes   \n",
       "68999 -0.585011 -0.299926  0.287067  ... -0.279136      no         yes   \n",
       "\n",
       "      highcreditr mcycle  car travel region    occupation churn_yes  \n",
       "0              no     no   no     no     CS         other         1  \n",
       "1             yes     no   no     no     SE         other         0  \n",
       "2              no    yes   no    yes     NW  professional         0  \n",
       "3             yes    yes   no     no     NW       retired         0  \n",
       "4              no    yes  yes     no     SW         other         0  \n",
       "...           ...    ...  ...    ...    ...           ...       ...  \n",
       "68995          no    yes  yes     no     SW         other         0  \n",
       "68996          no    yes  yes     no     SE         other         0  \n",
       "68997          no     no   no     no     CS       student         1  \n",
       "68998          no     no   no     no     CS         other         1  \n",
       "68999          no     no   no     no     SW         other         0  \n",
       "\n",
       "[69000 rows x 22 columns]"
      ]
     },
     "execution_count": 930,
     "metadata": {},
     "output_type": "execute_result"
    }
   ],
   "source": [
    "# Standardising the numerics\n",
    "\n",
    "Xs = rsm.scale_df(\n",
    "    s_mobile.loc[:, 'changer':'occupation'],\n",
    "    wt=s_mobile.cweight,\n",
    "    train=s_mobile.training == 1,\n",
    ")\n",
    "Xs[\"churn_yes\"] = s_mobile.churn_yes\n",
    "Xs"
   ]
  },
  {
   "cell_type": "markdown",
   "metadata": {},
   "source": [
    "#### Initial Model"
   ]
  },
  {
   "cell_type": "code",
   "execution_count": 931,
   "metadata": {},
   "outputs": [],
   "source": [
    "evar = list(pd.Series(Xs.columns)[:-1])"
   ]
  },
  {
   "cell_type": "code",
   "execution_count": 932,
   "metadata": {},
   "outputs": [],
   "source": [
    "form = \"churn_yes ~ \" + \" + \".join(evar)"
   ]
  },
  {
   "cell_type": "code",
   "execution_count": 933,
   "metadata": {},
   "outputs": [
    {
     "data": {
      "text/html": [
       "<div>\n",
       "<style scoped>\n",
       "    .dataframe tbody tr th:only-of-type {\n",
       "        vertical-align: middle;\n",
       "    }\n",
       "\n",
       "    .dataframe tbody tr th {\n",
       "        vertical-align: top;\n",
       "    }\n",
       "\n",
       "    .dataframe thead th {\n",
       "        text-align: right;\n",
       "    }\n",
       "</style>\n",
       "<table border=\"1\" class=\"dataframe\">\n",
       "  <thead>\n",
       "    <tr style=\"text-align: right;\">\n",
       "      <th></th>\n",
       "      <th>index</th>\n",
       "      <th>OR</th>\n",
       "      <th>OR%</th>\n",
       "      <th>2.5%</th>\n",
       "      <th>97.5%</th>\n",
       "      <th>p.values</th>\n",
       "      <th></th>\n",
       "    </tr>\n",
       "  </thead>\n",
       "  <tbody>\n",
       "    <tr>\n",
       "      <th>1</th>\n",
       "      <td>refurb[T.yes]</td>\n",
       "      <td>1.318</td>\n",
       "      <td>31.8%</td>\n",
       "      <td>1.255</td>\n",
       "      <td>1.385</td>\n",
       "      <td>&lt; .001</td>\n",
       "      <td>***</td>\n",
       "    </tr>\n",
       "    <tr>\n",
       "      <th>2</th>\n",
       "      <td>smartphone[T.yes]</td>\n",
       "      <td>0.913</td>\n",
       "      <td>-8.7%</td>\n",
       "      <td>0.860</td>\n",
       "      <td>0.969</td>\n",
       "      <td>0.003</td>\n",
       "      <td>**</td>\n",
       "    </tr>\n",
       "    <tr>\n",
       "      <th>3</th>\n",
       "      <td>highcreditr[T.yes]</td>\n",
       "      <td>0.483</td>\n",
       "      <td>-51.7%</td>\n",
       "      <td>0.455</td>\n",
       "      <td>0.513</td>\n",
       "      <td>&lt; .001</td>\n",
       "      <td>***</td>\n",
       "    </tr>\n",
       "    <tr>\n",
       "      <th>4</th>\n",
       "      <td>mcycle[T.yes]</td>\n",
       "      <td>0.883</td>\n",
       "      <td>-11.7%</td>\n",
       "      <td>0.834</td>\n",
       "      <td>0.934</td>\n",
       "      <td>&lt; .001</td>\n",
       "      <td>***</td>\n",
       "    </tr>\n",
       "    <tr>\n",
       "      <th>5</th>\n",
       "      <td>car[T.yes]</td>\n",
       "      <td>0.991</td>\n",
       "      <td>-0.9%</td>\n",
       "      <td>0.919</td>\n",
       "      <td>1.068</td>\n",
       "      <td>0.809</td>\n",
       "      <td></td>\n",
       "    </tr>\n",
       "    <tr>\n",
       "      <th>6</th>\n",
       "      <td>travel[T.yes]</td>\n",
       "      <td>0.781</td>\n",
       "      <td>-21.9%</td>\n",
       "      <td>0.723</td>\n",
       "      <td>0.844</td>\n",
       "      <td>&lt; .001</td>\n",
       "      <td>***</td>\n",
       "    </tr>\n",
       "    <tr>\n",
       "      <th>7</th>\n",
       "      <td>region[T.NE]</td>\n",
       "      <td>0.644</td>\n",
       "      <td>-35.6%</td>\n",
       "      <td>0.611</td>\n",
       "      <td>0.678</td>\n",
       "      <td>&lt; .001</td>\n",
       "      <td>***</td>\n",
       "    </tr>\n",
       "    <tr>\n",
       "      <th>8</th>\n",
       "      <td>region[T.NW]</td>\n",
       "      <td>0.660</td>\n",
       "      <td>-34.0%</td>\n",
       "      <td>0.627</td>\n",
       "      <td>0.695</td>\n",
       "      <td>&lt; .001</td>\n",
       "      <td>***</td>\n",
       "    </tr>\n",
       "    <tr>\n",
       "      <th>9</th>\n",
       "      <td>region[T.SE]</td>\n",
       "      <td>0.651</td>\n",
       "      <td>-34.9%</td>\n",
       "      <td>0.618</td>\n",
       "      <td>0.685</td>\n",
       "      <td>&lt; .001</td>\n",
       "      <td>***</td>\n",
       "    </tr>\n",
       "    <tr>\n",
       "      <th>10</th>\n",
       "      <td>region[T.SW]</td>\n",
       "      <td>0.627</td>\n",
       "      <td>-37.3%</td>\n",
       "      <td>0.595</td>\n",
       "      <td>0.660</td>\n",
       "      <td>&lt; .001</td>\n",
       "      <td>***</td>\n",
       "    </tr>\n",
       "    <tr>\n",
       "      <th>11</th>\n",
       "      <td>occupation[T.professional]</td>\n",
       "      <td>1.416</td>\n",
       "      <td>41.6%</td>\n",
       "      <td>1.355</td>\n",
       "      <td>1.479</td>\n",
       "      <td>&lt; .001</td>\n",
       "      <td>***</td>\n",
       "    </tr>\n",
       "    <tr>\n",
       "      <th>12</th>\n",
       "      <td>occupation[T.student]</td>\n",
       "      <td>1.900</td>\n",
       "      <td>90.0%</td>\n",
       "      <td>1.788</td>\n",
       "      <td>2.018</td>\n",
       "      <td>&lt; .001</td>\n",
       "      <td>***</td>\n",
       "    </tr>\n",
       "    <tr>\n",
       "      <th>13</th>\n",
       "      <td>occupation[T.retired]</td>\n",
       "      <td>0.184</td>\n",
       "      <td>-81.6%</td>\n",
       "      <td>0.166</td>\n",
       "      <td>0.205</td>\n",
       "      <td>&lt; .001</td>\n",
       "      <td>***</td>\n",
       "    </tr>\n",
       "    <tr>\n",
       "      <th>14</th>\n",
       "      <td>changer</td>\n",
       "      <td>1.066</td>\n",
       "      <td>6.6%</td>\n",
       "      <td>1.028</td>\n",
       "      <td>1.105</td>\n",
       "      <td>&lt; .001</td>\n",
       "      <td>***</td>\n",
       "    </tr>\n",
       "    <tr>\n",
       "      <th>15</th>\n",
       "      <td>changem</td>\n",
       "      <td>0.865</td>\n",
       "      <td>-13.5%</td>\n",
       "      <td>0.826</td>\n",
       "      <td>0.905</td>\n",
       "      <td>&lt; .001</td>\n",
       "      <td>***</td>\n",
       "    </tr>\n",
       "    <tr>\n",
       "      <th>16</th>\n",
       "      <td>revenue</td>\n",
       "      <td>0.956</td>\n",
       "      <td>-4.4%</td>\n",
       "      <td>0.900</td>\n",
       "      <td>1.014</td>\n",
       "      <td>0.134</td>\n",
       "      <td></td>\n",
       "    </tr>\n",
       "    <tr>\n",
       "      <th>17</th>\n",
       "      <td>mou</td>\n",
       "      <td>0.680</td>\n",
       "      <td>-32.0%</td>\n",
       "      <td>0.630</td>\n",
       "      <td>0.733</td>\n",
       "      <td>&lt; .001</td>\n",
       "      <td>***</td>\n",
       "    </tr>\n",
       "    <tr>\n",
       "      <th>18</th>\n",
       "      <td>overage</td>\n",
       "      <td>1.786</td>\n",
       "      <td>78.6%</td>\n",
       "      <td>1.706</td>\n",
       "      <td>1.870</td>\n",
       "      <td>&lt; .001</td>\n",
       "      <td>***</td>\n",
       "    </tr>\n",
       "    <tr>\n",
       "      <th>19</th>\n",
       "      <td>roam</td>\n",
       "      <td>1.097</td>\n",
       "      <td>9.7%</td>\n",
       "      <td>1.072</td>\n",
       "      <td>1.123</td>\n",
       "      <td>&lt; .001</td>\n",
       "      <td>***</td>\n",
       "    </tr>\n",
       "    <tr>\n",
       "      <th>20</th>\n",
       "      <td>conference</td>\n",
       "      <td>0.963</td>\n",
       "      <td>-3.7%</td>\n",
       "      <td>0.913</td>\n",
       "      <td>1.016</td>\n",
       "      <td>0.163</td>\n",
       "      <td></td>\n",
       "    </tr>\n",
       "    <tr>\n",
       "      <th>21</th>\n",
       "      <td>months</td>\n",
       "      <td>0.704</td>\n",
       "      <td>-29.6%</td>\n",
       "      <td>0.674</td>\n",
       "      <td>0.736</td>\n",
       "      <td>&lt; .001</td>\n",
       "      <td>***</td>\n",
       "    </tr>\n",
       "    <tr>\n",
       "      <th>22</th>\n",
       "      <td>uniqsubs</td>\n",
       "      <td>1.066</td>\n",
       "      <td>6.6%</td>\n",
       "      <td>1.031</td>\n",
       "      <td>1.102</td>\n",
       "      <td>&lt; .001</td>\n",
       "      <td>***</td>\n",
       "    </tr>\n",
       "    <tr>\n",
       "      <th>23</th>\n",
       "      <td>custcare</td>\n",
       "      <td>0.975</td>\n",
       "      <td>-2.5%</td>\n",
       "      <td>0.933</td>\n",
       "      <td>1.019</td>\n",
       "      <td>0.259</td>\n",
       "      <td></td>\n",
       "    </tr>\n",
       "    <tr>\n",
       "      <th>24</th>\n",
       "      <td>retcalls</td>\n",
       "      <td>1.244</td>\n",
       "      <td>24.4%</td>\n",
       "      <td>1.215</td>\n",
       "      <td>1.273</td>\n",
       "      <td>&lt; .001</td>\n",
       "      <td>***</td>\n",
       "    </tr>\n",
       "    <tr>\n",
       "      <th>25</th>\n",
       "      <td>dropvce</td>\n",
       "      <td>1.138</td>\n",
       "      <td>13.8%</td>\n",
       "      <td>1.089</td>\n",
       "      <td>1.189</td>\n",
       "      <td>&lt; .001</td>\n",
       "      <td>***</td>\n",
       "    </tr>\n",
       "    <tr>\n",
       "      <th>26</th>\n",
       "      <td>eqpdays</td>\n",
       "      <td>1.828</td>\n",
       "      <td>82.8%</td>\n",
       "      <td>1.751</td>\n",
       "      <td>1.909</td>\n",
       "      <td>&lt; .001</td>\n",
       "      <td>***</td>\n",
       "    </tr>\n",
       "  </tbody>\n",
       "</table>\n",
       "</div>"
      ],
      "text/plain": [
       "                         index     OR     OR%   2.5%  97.5% p.values     \n",
       "1                refurb[T.yes]  1.318   31.8%  1.255  1.385   < .001  ***\n",
       "2            smartphone[T.yes]  0.913   -8.7%  0.860  0.969    0.003   **\n",
       "3           highcreditr[T.yes]  0.483  -51.7%  0.455  0.513   < .001  ***\n",
       "4                mcycle[T.yes]  0.883  -11.7%  0.834  0.934   < .001  ***\n",
       "5                   car[T.yes]  0.991   -0.9%  0.919  1.068    0.809     \n",
       "6                travel[T.yes]  0.781  -21.9%  0.723  0.844   < .001  ***\n",
       "7                 region[T.NE]  0.644  -35.6%  0.611  0.678   < .001  ***\n",
       "8                 region[T.NW]  0.660  -34.0%  0.627  0.695   < .001  ***\n",
       "9                 region[T.SE]  0.651  -34.9%  0.618  0.685   < .001  ***\n",
       "10                region[T.SW]  0.627  -37.3%  0.595  0.660   < .001  ***\n",
       "11  occupation[T.professional]  1.416   41.6%  1.355  1.479   < .001  ***\n",
       "12       occupation[T.student]  1.900   90.0%  1.788  2.018   < .001  ***\n",
       "13       occupation[T.retired]  0.184  -81.6%  0.166  0.205   < .001  ***\n",
       "14                     changer  1.066    6.6%  1.028  1.105   < .001  ***\n",
       "15                     changem  0.865  -13.5%  0.826  0.905   < .001  ***\n",
       "16                     revenue  0.956   -4.4%  0.900  1.014    0.134     \n",
       "17                         mou  0.680  -32.0%  0.630  0.733   < .001  ***\n",
       "18                     overage  1.786   78.6%  1.706  1.870   < .001  ***\n",
       "19                        roam  1.097    9.7%  1.072  1.123   < .001  ***\n",
       "20                  conference  0.963   -3.7%  0.913  1.016    0.163     \n",
       "21                      months  0.704  -29.6%  0.674  0.736   < .001  ***\n",
       "22                    uniqsubs  1.066    6.6%  1.031  1.102   < .001  ***\n",
       "23                    custcare  0.975   -2.5%  0.933  1.019    0.259     \n",
       "24                    retcalls  1.244   24.4%  1.215  1.273   < .001  ***\n",
       "25                     dropvce  1.138   13.8%  1.089  1.189   < .001  ***\n",
       "26                     eqpdays  1.828   82.8%  1.751  1.909   < .001  ***"
      ]
     },
     "execution_count": 933,
     "metadata": {},
     "output_type": "execute_result"
    }
   ],
   "source": [
    "lr_b = smf.glm(\n",
    "    formula=form,\n",
    "    family=Binomial(link=logit()),\n",
    "    freq_weights=s_mobile.loc[s_mobile.training == 1, \"cweight\"],\n",
    "    data=Xs[s_mobile.training == 1],\n",
    ")\n",
    "\n",
    "lr = lr_b.fit(cov_type=\"HC1\")\n",
    "\n",
    "rsm.or_ci(lr)"
   ]
  },
  {
   "cell_type": "code",
   "execution_count": 934,
   "metadata": {},
   "outputs": [
    {
     "name": "stdout",
     "output_type": "stream",
     "text": [
      "\n",
      "Pseudo R-squared (McFadden): 0.047\n",
      "Pseudo R-squared (McFadden adjusted): 0.046\n",
      "Log-likelihood: -63795.467, AIC: 127644.935, BIC: 127953.64\n",
      "Chi-squared: 691107.451 df(26), p.value < 0.001 \n",
      "Nr obs: 27,300\n",
      "\n"
     ]
    }
   ],
   "source": [
    "rsm.model_fit(lr)"
   ]
  },
  {
   "cell_type": "code",
   "execution_count": 935,
   "metadata": {},
   "outputs": [
    {
     "data": {
      "text/html": [
       "<div>\n",
       "<style scoped>\n",
       "    .dataframe tbody tr th:only-of-type {\n",
       "        vertical-align: middle;\n",
       "    }\n",
       "\n",
       "    .dataframe tbody tr th {\n",
       "        vertical-align: top;\n",
       "    }\n",
       "\n",
       "    .dataframe thead th {\n",
       "        text-align: right;\n",
       "    }\n",
       "</style>\n",
       "<table border=\"1\" class=\"dataframe\">\n",
       "  <thead>\n",
       "    <tr style=\"text-align: right;\">\n",
       "      <th></th>\n",
       "      <th>statistic</th>\n",
       "      <th>pvalue</th>\n",
       "      <th>df_constraint</th>\n",
       "    </tr>\n",
       "  </thead>\n",
       "  <tbody>\n",
       "    <tr>\n",
       "      <th>Intercept</th>\n",
       "      <td>10416.621</td>\n",
       "      <td>0.000</td>\n",
       "      <td>1</td>\n",
       "    </tr>\n",
       "    <tr>\n",
       "      <th>refurb</th>\n",
       "      <td>121.728</td>\n",
       "      <td>0.000</td>\n",
       "      <td>1</td>\n",
       "    </tr>\n",
       "    <tr>\n",
       "      <th>smartphone</th>\n",
       "      <td>8.950</td>\n",
       "      <td>0.003</td>\n",
       "      <td>1</td>\n",
       "    </tr>\n",
       "    <tr>\n",
       "      <th>highcreditr</th>\n",
       "      <td>559.722</td>\n",
       "      <td>0.000</td>\n",
       "      <td>1</td>\n",
       "    </tr>\n",
       "    <tr>\n",
       "      <th>mcycle</th>\n",
       "      <td>18.519</td>\n",
       "      <td>0.000</td>\n",
       "      <td>1</td>\n",
       "    </tr>\n",
       "    <tr>\n",
       "      <th>car</th>\n",
       "      <td>0.058</td>\n",
       "      <td>0.809</td>\n",
       "      <td>1</td>\n",
       "    </tr>\n",
       "    <tr>\n",
       "      <th>travel</th>\n",
       "      <td>38.734</td>\n",
       "      <td>0.000</td>\n",
       "      <td>1</td>\n",
       "    </tr>\n",
       "    <tr>\n",
       "      <th>region</th>\n",
       "      <td>506.107</td>\n",
       "      <td>0.000</td>\n",
       "      <td>4</td>\n",
       "    </tr>\n",
       "    <tr>\n",
       "      <th>occupation</th>\n",
       "      <td>1693.227</td>\n",
       "      <td>0.000</td>\n",
       "      <td>3</td>\n",
       "    </tr>\n",
       "    <tr>\n",
       "      <th>changer</th>\n",
       "      <td>11.976</td>\n",
       "      <td>0.001</td>\n",
       "      <td>1</td>\n",
       "    </tr>\n",
       "    <tr>\n",
       "      <th>changem</th>\n",
       "      <td>39.529</td>\n",
       "      <td>0.000</td>\n",
       "      <td>1</td>\n",
       "    </tr>\n",
       "    <tr>\n",
       "      <th>revenue</th>\n",
       "      <td>2.241</td>\n",
       "      <td>0.134</td>\n",
       "      <td>1</td>\n",
       "    </tr>\n",
       "    <tr>\n",
       "      <th>mou</th>\n",
       "      <td>99.279</td>\n",
       "      <td>0.000</td>\n",
       "      <td>1</td>\n",
       "    </tr>\n",
       "    <tr>\n",
       "      <th>overage</th>\n",
       "      <td>611.797</td>\n",
       "      <td>0.000</td>\n",
       "      <td>1</td>\n",
       "    </tr>\n",
       "    <tr>\n",
       "      <th>roam</th>\n",
       "      <td>62.478</td>\n",
       "      <td>0.000</td>\n",
       "      <td>1</td>\n",
       "    </tr>\n",
       "    <tr>\n",
       "      <th>conference</th>\n",
       "      <td>1.945</td>\n",
       "      <td>0.163</td>\n",
       "      <td>1</td>\n",
       "    </tr>\n",
       "    <tr>\n",
       "      <th>months</th>\n",
       "      <td>244.693</td>\n",
       "      <td>0.000</td>\n",
       "      <td>1</td>\n",
       "    </tr>\n",
       "    <tr>\n",
       "      <th>uniqsubs</th>\n",
       "      <td>14.277</td>\n",
       "      <td>0.000</td>\n",
       "      <td>1</td>\n",
       "    </tr>\n",
       "    <tr>\n",
       "      <th>custcare</th>\n",
       "      <td>1.272</td>\n",
       "      <td>0.259</td>\n",
       "      <td>1</td>\n",
       "    </tr>\n",
       "    <tr>\n",
       "      <th>retcalls</th>\n",
       "      <td>336.844</td>\n",
       "      <td>0.000</td>\n",
       "      <td>1</td>\n",
       "    </tr>\n",
       "    <tr>\n",
       "      <th>dropvce</th>\n",
       "      <td>33.021</td>\n",
       "      <td>0.000</td>\n",
       "      <td>1</td>\n",
       "    </tr>\n",
       "    <tr>\n",
       "      <th>eqpdays</th>\n",
       "      <td>745.837</td>\n",
       "      <td>0.000</td>\n",
       "      <td>1</td>\n",
       "    </tr>\n",
       "  </tbody>\n",
       "</table>\n",
       "</div>"
      ],
      "text/plain": [
       "             statistic  pvalue  df_constraint\n",
       "Intercept    10416.621   0.000              1\n",
       "refurb         121.728   0.000              1\n",
       "smartphone       8.950   0.003              1\n",
       "highcreditr    559.722   0.000              1\n",
       "mcycle          18.519   0.000              1\n",
       "car              0.058   0.809              1\n",
       "travel          38.734   0.000              1\n",
       "region         506.107   0.000              4\n",
       "occupation    1693.227   0.000              3\n",
       "changer         11.976   0.001              1\n",
       "changem         39.529   0.000              1\n",
       "revenue          2.241   0.134              1\n",
       "mou             99.279   0.000              1\n",
       "overage        611.797   0.000              1\n",
       "roam            62.478   0.000              1\n",
       "conference       1.945   0.163              1\n",
       "months         244.693   0.000              1\n",
       "uniqsubs        14.277   0.000              1\n",
       "custcare         1.272   0.259              1\n",
       "retcalls       336.844   0.000              1\n",
       "dropvce         33.021   0.000              1\n",
       "eqpdays        745.837   0.000              1"
      ]
     },
     "execution_count": 935,
     "metadata": {},
     "output_type": "execute_result"
    }
   ],
   "source": [
    "lr.wald_test_terms().table.round(3)"
   ]
  },
  {
   "cell_type": "code",
   "execution_count": 936,
   "metadata": {},
   "outputs": [
    {
     "data": {
      "text/html": [
       "<div>\n",
       "<style scoped>\n",
       "    .dataframe tbody tr th:only-of-type {\n",
       "        vertical-align: middle;\n",
       "    }\n",
       "\n",
       "    .dataframe tbody tr th {\n",
       "        vertical-align: top;\n",
       "    }\n",
       "\n",
       "    .dataframe thead th {\n",
       "        text-align: right;\n",
       "    }\n",
       "</style>\n",
       "<table border=\"1\" class=\"dataframe\">\n",
       "  <thead>\n",
       "    <tr style=\"text-align: right;\">\n",
       "      <th></th>\n",
       "      <th>variable</th>\n",
       "      <th>vif</th>\n",
       "      <th>Rsq</th>\n",
       "    </tr>\n",
       "  </thead>\n",
       "  <tbody>\n",
       "    <tr>\n",
       "      <th>0</th>\n",
       "      <td>mou</td>\n",
       "      <td>3.139</td>\n",
       "      <td>0.681</td>\n",
       "    </tr>\n",
       "    <tr>\n",
       "      <th>1</th>\n",
       "      <td>revenue</td>\n",
       "      <td>2.541</td>\n",
       "      <td>0.606</td>\n",
       "    </tr>\n",
       "    <tr>\n",
       "      <th>2</th>\n",
       "      <td>eqpdays</td>\n",
       "      <td>1.677</td>\n",
       "      <td>0.404</td>\n",
       "    </tr>\n",
       "    <tr>\n",
       "      <th>3</th>\n",
       "      <td>mcycle[T.yes]</td>\n",
       "      <td>1.672</td>\n",
       "      <td>0.402</td>\n",
       "    </tr>\n",
       "    <tr>\n",
       "      <th>4</th>\n",
       "      <td>dropvce</td>\n",
       "      <td>1.667</td>\n",
       "      <td>0.400</td>\n",
       "    </tr>\n",
       "    <tr>\n",
       "      <th>5</th>\n",
       "      <td>overage</td>\n",
       "      <td>1.653</td>\n",
       "      <td>0.395</td>\n",
       "    </tr>\n",
       "    <tr>\n",
       "      <th>6</th>\n",
       "      <td>car[T.yes]</td>\n",
       "      <td>1.650</td>\n",
       "      <td>0.394</td>\n",
       "    </tr>\n",
       "    <tr>\n",
       "      <th>7</th>\n",
       "      <td>region[T.NW]</td>\n",
       "      <td>1.458</td>\n",
       "      <td>0.314</td>\n",
       "    </tr>\n",
       "    <tr>\n",
       "      <th>8</th>\n",
       "      <td>region[T.SE]</td>\n",
       "      <td>1.457</td>\n",
       "      <td>0.314</td>\n",
       "    </tr>\n",
       "    <tr>\n",
       "      <th>9</th>\n",
       "      <td>region[T.SW]</td>\n",
       "      <td>1.456</td>\n",
       "      <td>0.313</td>\n",
       "    </tr>\n",
       "    <tr>\n",
       "      <th>10</th>\n",
       "      <td>region[T.NE]</td>\n",
       "      <td>1.453</td>\n",
       "      <td>0.312</td>\n",
       "    </tr>\n",
       "    <tr>\n",
       "      <th>11</th>\n",
       "      <td>custcare</td>\n",
       "      <td>1.397</td>\n",
       "      <td>0.284</td>\n",
       "    </tr>\n",
       "    <tr>\n",
       "      <th>12</th>\n",
       "      <td>months</td>\n",
       "      <td>1.370</td>\n",
       "      <td>0.270</td>\n",
       "    </tr>\n",
       "    <tr>\n",
       "      <th>13</th>\n",
       "      <td>changer</td>\n",
       "      <td>1.312</td>\n",
       "      <td>0.238</td>\n",
       "    </tr>\n",
       "    <tr>\n",
       "      <th>14</th>\n",
       "      <td>changem</td>\n",
       "      <td>1.246</td>\n",
       "      <td>0.198</td>\n",
       "    </tr>\n",
       "    <tr>\n",
       "      <th>15</th>\n",
       "      <td>smartphone[T.yes]</td>\n",
       "      <td>1.201</td>\n",
       "      <td>0.167</td>\n",
       "    </tr>\n",
       "    <tr>\n",
       "      <th>16</th>\n",
       "      <td>conference</td>\n",
       "      <td>1.151</td>\n",
       "      <td>0.132</td>\n",
       "    </tr>\n",
       "    <tr>\n",
       "      <th>17</th>\n",
       "      <td>occupation[T.professional]</td>\n",
       "      <td>1.150</td>\n",
       "      <td>0.131</td>\n",
       "    </tr>\n",
       "    <tr>\n",
       "      <th>18</th>\n",
       "      <td>roam</td>\n",
       "      <td>1.103</td>\n",
       "      <td>0.094</td>\n",
       "    </tr>\n",
       "    <tr>\n",
       "      <th>19</th>\n",
       "      <td>occupation[T.retired]</td>\n",
       "      <td>1.079</td>\n",
       "      <td>0.073</td>\n",
       "    </tr>\n",
       "    <tr>\n",
       "      <th>20</th>\n",
       "      <td>highcreditr[T.yes]</td>\n",
       "      <td>1.078</td>\n",
       "      <td>0.072</td>\n",
       "    </tr>\n",
       "    <tr>\n",
       "      <th>21</th>\n",
       "      <td>travel[T.yes]</td>\n",
       "      <td>1.064</td>\n",
       "      <td>0.060</td>\n",
       "    </tr>\n",
       "    <tr>\n",
       "      <th>22</th>\n",
       "      <td>refurb[T.yes]</td>\n",
       "      <td>1.063</td>\n",
       "      <td>0.059</td>\n",
       "    </tr>\n",
       "    <tr>\n",
       "      <th>23</th>\n",
       "      <td>occupation[T.student]</td>\n",
       "      <td>1.055</td>\n",
       "      <td>0.052</td>\n",
       "    </tr>\n",
       "    <tr>\n",
       "      <th>24</th>\n",
       "      <td>uniqsubs</td>\n",
       "      <td>1.025</td>\n",
       "      <td>0.025</td>\n",
       "    </tr>\n",
       "    <tr>\n",
       "      <th>25</th>\n",
       "      <td>retcalls</td>\n",
       "      <td>1.018</td>\n",
       "      <td>0.017</td>\n",
       "    </tr>\n",
       "  </tbody>\n",
       "</table>\n",
       "</div>"
      ],
      "text/plain": [
       "                      variable    vif    Rsq\n",
       "0                          mou  3.139  0.681\n",
       "1                      revenue  2.541  0.606\n",
       "2                      eqpdays  1.677  0.404\n",
       "3                mcycle[T.yes]  1.672  0.402\n",
       "4                      dropvce  1.667  0.400\n",
       "5                      overage  1.653  0.395\n",
       "6                   car[T.yes]  1.650  0.394\n",
       "7                 region[T.NW]  1.458  0.314\n",
       "8                 region[T.SE]  1.457  0.314\n",
       "9                 region[T.SW]  1.456  0.313\n",
       "10                region[T.NE]  1.453  0.312\n",
       "11                    custcare  1.397  0.284\n",
       "12                      months  1.370  0.270\n",
       "13                     changer  1.312  0.238\n",
       "14                     changem  1.246  0.198\n",
       "15           smartphone[T.yes]  1.201  0.167\n",
       "16                  conference  1.151  0.132\n",
       "17  occupation[T.professional]  1.150  0.131\n",
       "18                        roam  1.103  0.094\n",
       "19       occupation[T.retired]  1.079  0.073\n",
       "20          highcreditr[T.yes]  1.078  0.072\n",
       "21               travel[T.yes]  1.064  0.060\n",
       "22               refurb[T.yes]  1.063  0.059\n",
       "23       occupation[T.student]  1.055  0.052\n",
       "24                    uniqsubs  1.025  0.025\n",
       "25                    retcalls  1.018  0.017"
      ]
     },
     "execution_count": 936,
     "metadata": {},
     "output_type": "execute_result"
    }
   ],
   "source": [
    "rsm.vif(lr_b)"
   ]
  },
  {
   "cell_type": "markdown",
   "metadata": {},
   "source": [
    "- In this initial model, the wald test tells us that car, revenue, conference and custcare are statistically insignificant. The p values of these variables in the model is also high\n",
    "- Hence we will remove these variables one at a time and see if this action changes the odds ratios of the remaining variables by a considerable amount\n",
    "- The chi-squared p value of these variables is also good, indicating that the variables are good predictors of churn"
   ]
  },
  {
   "cell_type": "markdown",
   "metadata": {},
   "source": [
    "#### Final Model"
   ]
  },
  {
   "cell_type": "code",
   "execution_count": 937,
   "metadata": {},
   "outputs": [],
   "source": [
    "evar = list(pd.Series(Xs.columns)[:-1])\n",
    "evar.remove('car')\n",
    "evar.remove('revenue')\n",
    "evar.remove('conference')"
   ]
  },
  {
   "cell_type": "code",
   "execution_count": 938,
   "metadata": {},
   "outputs": [],
   "source": [
    "form = \"churn_yes ~ \" + \" + \".join(evar)"
   ]
  },
  {
   "cell_type": "code",
   "execution_count": 939,
   "metadata": {},
   "outputs": [
    {
     "data": {
      "text/html": [
       "<div>\n",
       "<style scoped>\n",
       "    .dataframe tbody tr th:only-of-type {\n",
       "        vertical-align: middle;\n",
       "    }\n",
       "\n",
       "    .dataframe tbody tr th {\n",
       "        vertical-align: top;\n",
       "    }\n",
       "\n",
       "    .dataframe thead th {\n",
       "        text-align: right;\n",
       "    }\n",
       "</style>\n",
       "<table border=\"1\" class=\"dataframe\">\n",
       "  <thead>\n",
       "    <tr style=\"text-align: right;\">\n",
       "      <th></th>\n",
       "      <th>index</th>\n",
       "      <th>OR</th>\n",
       "      <th>OR%</th>\n",
       "      <th>2.5%</th>\n",
       "      <th>97.5%</th>\n",
       "      <th>p.values</th>\n",
       "      <th></th>\n",
       "    </tr>\n",
       "  </thead>\n",
       "  <tbody>\n",
       "    <tr>\n",
       "      <th>1</th>\n",
       "      <td>refurb[T.yes]</td>\n",
       "      <td>1.319</td>\n",
       "      <td>31.9%</td>\n",
       "      <td>1.256</td>\n",
       "      <td>1.385</td>\n",
       "      <td>&lt; .001</td>\n",
       "      <td>***</td>\n",
       "    </tr>\n",
       "    <tr>\n",
       "      <th>2</th>\n",
       "      <td>smartphone[T.yes]</td>\n",
       "      <td>0.913</td>\n",
       "      <td>-8.7%</td>\n",
       "      <td>0.860</td>\n",
       "      <td>0.969</td>\n",
       "      <td>0.003</td>\n",
       "      <td>**</td>\n",
       "    </tr>\n",
       "    <tr>\n",
       "      <th>3</th>\n",
       "      <td>highcreditr[T.yes]</td>\n",
       "      <td>0.483</td>\n",
       "      <td>-51.7%</td>\n",
       "      <td>0.454</td>\n",
       "      <td>0.513</td>\n",
       "      <td>&lt; .001</td>\n",
       "      <td>***</td>\n",
       "    </tr>\n",
       "    <tr>\n",
       "      <th>4</th>\n",
       "      <td>mcycle[T.yes]</td>\n",
       "      <td>0.880</td>\n",
       "      <td>-12.0%</td>\n",
       "      <td>0.841</td>\n",
       "      <td>0.920</td>\n",
       "      <td>&lt; .001</td>\n",
       "      <td>***</td>\n",
       "    </tr>\n",
       "    <tr>\n",
       "      <th>5</th>\n",
       "      <td>travel[T.yes]</td>\n",
       "      <td>0.781</td>\n",
       "      <td>-21.9%</td>\n",
       "      <td>0.723</td>\n",
       "      <td>0.844</td>\n",
       "      <td>&lt; .001</td>\n",
       "      <td>***</td>\n",
       "    </tr>\n",
       "    <tr>\n",
       "      <th>6</th>\n",
       "      <td>region[T.NE]</td>\n",
       "      <td>0.645</td>\n",
       "      <td>-35.5%</td>\n",
       "      <td>0.612</td>\n",
       "      <td>0.679</td>\n",
       "      <td>&lt; .001</td>\n",
       "      <td>***</td>\n",
       "    </tr>\n",
       "    <tr>\n",
       "      <th>7</th>\n",
       "      <td>region[T.NW]</td>\n",
       "      <td>0.661</td>\n",
       "      <td>-33.9%</td>\n",
       "      <td>0.627</td>\n",
       "      <td>0.695</td>\n",
       "      <td>&lt; .001</td>\n",
       "      <td>***</td>\n",
       "    </tr>\n",
       "    <tr>\n",
       "      <th>8</th>\n",
       "      <td>region[T.SE]</td>\n",
       "      <td>0.651</td>\n",
       "      <td>-34.9%</td>\n",
       "      <td>0.618</td>\n",
       "      <td>0.685</td>\n",
       "      <td>&lt; .001</td>\n",
       "      <td>***</td>\n",
       "    </tr>\n",
       "    <tr>\n",
       "      <th>9</th>\n",
       "      <td>region[T.SW]</td>\n",
       "      <td>0.627</td>\n",
       "      <td>-37.3%</td>\n",
       "      <td>0.596</td>\n",
       "      <td>0.661</td>\n",
       "      <td>&lt; .001</td>\n",
       "      <td>***</td>\n",
       "    </tr>\n",
       "    <tr>\n",
       "      <th>10</th>\n",
       "      <td>occupation[T.professional]</td>\n",
       "      <td>1.415</td>\n",
       "      <td>41.5%</td>\n",
       "      <td>1.354</td>\n",
       "      <td>1.479</td>\n",
       "      <td>&lt; .001</td>\n",
       "      <td>***</td>\n",
       "    </tr>\n",
       "    <tr>\n",
       "      <th>11</th>\n",
       "      <td>occupation[T.student]</td>\n",
       "      <td>1.899</td>\n",
       "      <td>89.9%</td>\n",
       "      <td>1.788</td>\n",
       "      <td>2.018</td>\n",
       "      <td>&lt; .001</td>\n",
       "      <td>***</td>\n",
       "    </tr>\n",
       "    <tr>\n",
       "      <th>12</th>\n",
       "      <td>occupation[T.retired]</td>\n",
       "      <td>0.186</td>\n",
       "      <td>-81.4%</td>\n",
       "      <td>0.168</td>\n",
       "      <td>0.207</td>\n",
       "      <td>&lt; .001</td>\n",
       "      <td>***</td>\n",
       "    </tr>\n",
       "    <tr>\n",
       "      <th>13</th>\n",
       "      <td>changer</td>\n",
       "      <td>1.066</td>\n",
       "      <td>6.6%</td>\n",
       "      <td>1.028</td>\n",
       "      <td>1.105</td>\n",
       "      <td>&lt; .001</td>\n",
       "      <td>***</td>\n",
       "    </tr>\n",
       "    <tr>\n",
       "      <th>14</th>\n",
       "      <td>changem</td>\n",
       "      <td>0.864</td>\n",
       "      <td>-13.6%</td>\n",
       "      <td>0.825</td>\n",
       "      <td>0.904</td>\n",
       "      <td>&lt; .001</td>\n",
       "      <td>***</td>\n",
       "    </tr>\n",
       "    <tr>\n",
       "      <th>15</th>\n",
       "      <td>mou</td>\n",
       "      <td>0.656</td>\n",
       "      <td>-34.4%</td>\n",
       "      <td>0.616</td>\n",
       "      <td>0.699</td>\n",
       "      <td>&lt; .001</td>\n",
       "      <td>***</td>\n",
       "    </tr>\n",
       "    <tr>\n",
       "      <th>16</th>\n",
       "      <td>overage</td>\n",
       "      <td>1.765</td>\n",
       "      <td>76.5%</td>\n",
       "      <td>1.692</td>\n",
       "      <td>1.841</td>\n",
       "      <td>&lt; .001</td>\n",
       "      <td>***</td>\n",
       "    </tr>\n",
       "    <tr>\n",
       "      <th>17</th>\n",
       "      <td>roam</td>\n",
       "      <td>1.090</td>\n",
       "      <td>9.0%</td>\n",
       "      <td>1.067</td>\n",
       "      <td>1.113</td>\n",
       "      <td>&lt; .001</td>\n",
       "      <td>***</td>\n",
       "    </tr>\n",
       "    <tr>\n",
       "      <th>18</th>\n",
       "      <td>months</td>\n",
       "      <td>0.704</td>\n",
       "      <td>-29.6%</td>\n",
       "      <td>0.673</td>\n",
       "      <td>0.735</td>\n",
       "      <td>&lt; .001</td>\n",
       "      <td>***</td>\n",
       "    </tr>\n",
       "    <tr>\n",
       "      <th>19</th>\n",
       "      <td>uniqsubs</td>\n",
       "      <td>1.066</td>\n",
       "      <td>6.6%</td>\n",
       "      <td>1.031</td>\n",
       "      <td>1.102</td>\n",
       "      <td>&lt; .001</td>\n",
       "      <td>***</td>\n",
       "    </tr>\n",
       "    <tr>\n",
       "      <th>20</th>\n",
       "      <td>custcare</td>\n",
       "      <td>0.977</td>\n",
       "      <td>-2.3%</td>\n",
       "      <td>0.936</td>\n",
       "      <td>1.021</td>\n",
       "      <td>0.303</td>\n",
       "      <td></td>\n",
       "    </tr>\n",
       "    <tr>\n",
       "      <th>21</th>\n",
       "      <td>retcalls</td>\n",
       "      <td>1.244</td>\n",
       "      <td>24.4%</td>\n",
       "      <td>1.216</td>\n",
       "      <td>1.273</td>\n",
       "      <td>&lt; .001</td>\n",
       "      <td>***</td>\n",
       "    </tr>\n",
       "    <tr>\n",
       "      <th>22</th>\n",
       "      <td>dropvce</td>\n",
       "      <td>1.130</td>\n",
       "      <td>13.0%</td>\n",
       "      <td>1.082</td>\n",
       "      <td>1.180</td>\n",
       "      <td>&lt; .001</td>\n",
       "      <td>***</td>\n",
       "    </tr>\n",
       "    <tr>\n",
       "      <th>23</th>\n",
       "      <td>eqpdays</td>\n",
       "      <td>1.829</td>\n",
       "      <td>82.9%</td>\n",
       "      <td>1.752</td>\n",
       "      <td>1.910</td>\n",
       "      <td>&lt; .001</td>\n",
       "      <td>***</td>\n",
       "    </tr>\n",
       "  </tbody>\n",
       "</table>\n",
       "</div>"
      ],
      "text/plain": [
       "                         index     OR     OR%   2.5%  97.5% p.values     \n",
       "1                refurb[T.yes]  1.319   31.9%  1.256  1.385   < .001  ***\n",
       "2            smartphone[T.yes]  0.913   -8.7%  0.860  0.969    0.003   **\n",
       "3           highcreditr[T.yes]  0.483  -51.7%  0.454  0.513   < .001  ***\n",
       "4                mcycle[T.yes]  0.880  -12.0%  0.841  0.920   < .001  ***\n",
       "5                travel[T.yes]  0.781  -21.9%  0.723  0.844   < .001  ***\n",
       "6                 region[T.NE]  0.645  -35.5%  0.612  0.679   < .001  ***\n",
       "7                 region[T.NW]  0.661  -33.9%  0.627  0.695   < .001  ***\n",
       "8                 region[T.SE]  0.651  -34.9%  0.618  0.685   < .001  ***\n",
       "9                 region[T.SW]  0.627  -37.3%  0.596  0.661   < .001  ***\n",
       "10  occupation[T.professional]  1.415   41.5%  1.354  1.479   < .001  ***\n",
       "11       occupation[T.student]  1.899   89.9%  1.788  2.018   < .001  ***\n",
       "12       occupation[T.retired]  0.186  -81.4%  0.168  0.207   < .001  ***\n",
       "13                     changer  1.066    6.6%  1.028  1.105   < .001  ***\n",
       "14                     changem  0.864  -13.6%  0.825  0.904   < .001  ***\n",
       "15                         mou  0.656  -34.4%  0.616  0.699   < .001  ***\n",
       "16                     overage  1.765   76.5%  1.692  1.841   < .001  ***\n",
       "17                        roam  1.090    9.0%  1.067  1.113   < .001  ***\n",
       "18                      months  0.704  -29.6%  0.673  0.735   < .001  ***\n",
       "19                    uniqsubs  1.066    6.6%  1.031  1.102   < .001  ***\n",
       "20                    custcare  0.977   -2.3%  0.936  1.021    0.303     \n",
       "21                    retcalls  1.244   24.4%  1.216  1.273   < .001  ***\n",
       "22                     dropvce  1.130   13.0%  1.082  1.180   < .001  ***\n",
       "23                     eqpdays  1.829   82.9%  1.752  1.910   < .001  ***"
      ]
     },
     "execution_count": 939,
     "metadata": {},
     "output_type": "execute_result"
    }
   ],
   "source": [
    "lr_b = smf.glm(\n",
    "    formula=form,\n",
    "    family=Binomial(link=logit()),\n",
    "    freq_weights=s_mobile.loc[s_mobile.training == 1, \"cweight\"],\n",
    "    data=Xs[s_mobile.training == 1],\n",
    ")\n",
    "\n",
    "lr = lr_b.fit(cov_type=\"HC1\")\n",
    "\n",
    "rsm.or_ci(lr)"
   ]
  },
  {
   "cell_type": "code",
   "execution_count": 940,
   "metadata": {},
   "outputs": [
    {
     "name": "stdout",
     "output_type": "stream",
     "text": [
      "\n",
      "Pseudo R-squared (McFadden): 0.047\n",
      "Pseudo R-squared (McFadden adjusted): 0.046\n",
      "Log-likelihood: -63798.075, AIC: 127644.15, BIC: 127918.554\n",
      "Chi-squared: 690912.889 df(23), p.value < 0.001 \n",
      "Nr obs: 27,300\n",
      "\n"
     ]
    }
   ],
   "source": [
    "rsm.model_fit(lr)"
   ]
  },
  {
   "cell_type": "code",
   "execution_count": 941,
   "metadata": {},
   "outputs": [
    {
     "data": {
      "text/html": [
       "<div>\n",
       "<style scoped>\n",
       "    .dataframe tbody tr th:only-of-type {\n",
       "        vertical-align: middle;\n",
       "    }\n",
       "\n",
       "    .dataframe tbody tr th {\n",
       "        vertical-align: top;\n",
       "    }\n",
       "\n",
       "    .dataframe thead th {\n",
       "        text-align: right;\n",
       "    }\n",
       "</style>\n",
       "<table border=\"1\" class=\"dataframe\">\n",
       "  <thead>\n",
       "    <tr style=\"text-align: right;\">\n",
       "      <th></th>\n",
       "      <th>statistic</th>\n",
       "      <th>pvalue</th>\n",
       "      <th>df_constraint</th>\n",
       "    </tr>\n",
       "  </thead>\n",
       "  <tbody>\n",
       "    <tr>\n",
       "      <th>Intercept</th>\n",
       "      <td>10453.691</td>\n",
       "      <td>0.000</td>\n",
       "      <td>1</td>\n",
       "    </tr>\n",
       "    <tr>\n",
       "      <th>refurb</th>\n",
       "      <td>122.230</td>\n",
       "      <td>0.000</td>\n",
       "      <td>1</td>\n",
       "    </tr>\n",
       "    <tr>\n",
       "      <th>smartphone</th>\n",
       "      <td>8.915</td>\n",
       "      <td>0.003</td>\n",
       "      <td>1</td>\n",
       "    </tr>\n",
       "    <tr>\n",
       "      <th>highcreditr</th>\n",
       "      <td>562.438</td>\n",
       "      <td>0.000</td>\n",
       "      <td>1</td>\n",
       "    </tr>\n",
       "    <tr>\n",
       "      <th>mcycle</th>\n",
       "      <td>31.349</td>\n",
       "      <td>0.000</td>\n",
       "      <td>1</td>\n",
       "    </tr>\n",
       "    <tr>\n",
       "      <th>travel</th>\n",
       "      <td>38.790</td>\n",
       "      <td>0.000</td>\n",
       "      <td>1</td>\n",
       "    </tr>\n",
       "    <tr>\n",
       "      <th>region</th>\n",
       "      <td>505.305</td>\n",
       "      <td>0.000</td>\n",
       "      <td>4</td>\n",
       "    </tr>\n",
       "    <tr>\n",
       "      <th>occupation</th>\n",
       "      <td>1701.675</td>\n",
       "      <td>0.000</td>\n",
       "      <td>3</td>\n",
       "    </tr>\n",
       "    <tr>\n",
       "      <th>changer</th>\n",
       "      <td>11.988</td>\n",
       "      <td>0.001</td>\n",
       "      <td>1</td>\n",
       "    </tr>\n",
       "    <tr>\n",
       "      <th>changem</th>\n",
       "      <td>40.330</td>\n",
       "      <td>0.000</td>\n",
       "      <td>1</td>\n",
       "    </tr>\n",
       "    <tr>\n",
       "      <th>mou</th>\n",
       "      <td>170.003</td>\n",
       "      <td>0.000</td>\n",
       "      <td>1</td>\n",
       "    </tr>\n",
       "    <tr>\n",
       "      <th>overage</th>\n",
       "      <td>693.878</td>\n",
       "      <td>0.000</td>\n",
       "      <td>1</td>\n",
       "    </tr>\n",
       "    <tr>\n",
       "      <th>roam</th>\n",
       "      <td>62.691</td>\n",
       "      <td>0.000</td>\n",
       "      <td>1</td>\n",
       "    </tr>\n",
       "    <tr>\n",
       "      <th>months</th>\n",
       "      <td>245.337</td>\n",
       "      <td>0.000</td>\n",
       "      <td>1</td>\n",
       "    </tr>\n",
       "    <tr>\n",
       "      <th>uniqsubs</th>\n",
       "      <td>14.249</td>\n",
       "      <td>0.000</td>\n",
       "      <td>1</td>\n",
       "    </tr>\n",
       "    <tr>\n",
       "      <th>custcare</th>\n",
       "      <td>1.059</td>\n",
       "      <td>0.303</td>\n",
       "      <td>1</td>\n",
       "    </tr>\n",
       "    <tr>\n",
       "      <th>retcalls</th>\n",
       "      <td>338.688</td>\n",
       "      <td>0.000</td>\n",
       "      <td>1</td>\n",
       "    </tr>\n",
       "    <tr>\n",
       "      <th>dropvce</th>\n",
       "      <td>30.943</td>\n",
       "      <td>0.000</td>\n",
       "      <td>1</td>\n",
       "    </tr>\n",
       "    <tr>\n",
       "      <th>eqpdays</th>\n",
       "      <td>747.572</td>\n",
       "      <td>0.000</td>\n",
       "      <td>1</td>\n",
       "    </tr>\n",
       "  </tbody>\n",
       "</table>\n",
       "</div>"
      ],
      "text/plain": [
       "             statistic  pvalue  df_constraint\n",
       "Intercept    10453.691   0.000              1\n",
       "refurb         122.230   0.000              1\n",
       "smartphone       8.915   0.003              1\n",
       "highcreditr    562.438   0.000              1\n",
       "mcycle          31.349   0.000              1\n",
       "travel          38.790   0.000              1\n",
       "region         505.305   0.000              4\n",
       "occupation    1701.675   0.000              3\n",
       "changer         11.988   0.001              1\n",
       "changem         40.330   0.000              1\n",
       "mou            170.003   0.000              1\n",
       "overage        693.878   0.000              1\n",
       "roam            62.691   0.000              1\n",
       "months         245.337   0.000              1\n",
       "uniqsubs        14.249   0.000              1\n",
       "custcare         1.059   0.303              1\n",
       "retcalls       338.688   0.000              1\n",
       "dropvce         30.943   0.000              1\n",
       "eqpdays        747.572   0.000              1"
      ]
     },
     "execution_count": 941,
     "metadata": {},
     "output_type": "execute_result"
    }
   ],
   "source": [
    "lr.wald_test_terms().table.round(3)"
   ]
  },
  {
   "cell_type": "code",
   "execution_count": 942,
   "metadata": {},
   "outputs": [
    {
     "data": {
      "text/html": [
       "<div>\n",
       "<style scoped>\n",
       "    .dataframe tbody tr th:only-of-type {\n",
       "        vertical-align: middle;\n",
       "    }\n",
       "\n",
       "    .dataframe tbody tr th {\n",
       "        vertical-align: top;\n",
       "    }\n",
       "\n",
       "    .dataframe thead th {\n",
       "        text-align: right;\n",
       "    }\n",
       "</style>\n",
       "<table border=\"1\" class=\"dataframe\">\n",
       "  <thead>\n",
       "    <tr style=\"text-align: right;\">\n",
       "      <th></th>\n",
       "      <th>variable</th>\n",
       "      <th>vif</th>\n",
       "      <th>Rsq</th>\n",
       "    </tr>\n",
       "  </thead>\n",
       "  <tbody>\n",
       "    <tr>\n",
       "      <th>0</th>\n",
       "      <td>mou</td>\n",
       "      <td>2.284</td>\n",
       "      <td>0.562</td>\n",
       "    </tr>\n",
       "    <tr>\n",
       "      <th>1</th>\n",
       "      <td>eqpdays</td>\n",
       "      <td>1.674</td>\n",
       "      <td>0.402</td>\n",
       "    </tr>\n",
       "    <tr>\n",
       "      <th>2</th>\n",
       "      <td>dropvce</td>\n",
       "      <td>1.638</td>\n",
       "      <td>0.389</td>\n",
       "    </tr>\n",
       "    <tr>\n",
       "      <th>3</th>\n",
       "      <td>overage</td>\n",
       "      <td>1.473</td>\n",
       "      <td>0.321</td>\n",
       "    </tr>\n",
       "    <tr>\n",
       "      <th>4</th>\n",
       "      <td>region[T.NW]</td>\n",
       "      <td>1.458</td>\n",
       "      <td>0.314</td>\n",
       "    </tr>\n",
       "    <tr>\n",
       "      <th>5</th>\n",
       "      <td>region[T.SE]</td>\n",
       "      <td>1.457</td>\n",
       "      <td>0.314</td>\n",
       "    </tr>\n",
       "    <tr>\n",
       "      <th>6</th>\n",
       "      <td>region[T.SW]</td>\n",
       "      <td>1.455</td>\n",
       "      <td>0.313</td>\n",
       "    </tr>\n",
       "    <tr>\n",
       "      <th>7</th>\n",
       "      <td>region[T.NE]</td>\n",
       "      <td>1.453</td>\n",
       "      <td>0.312</td>\n",
       "    </tr>\n",
       "    <tr>\n",
       "      <th>8</th>\n",
       "      <td>months</td>\n",
       "      <td>1.362</td>\n",
       "      <td>0.266</td>\n",
       "    </tr>\n",
       "    <tr>\n",
       "      <th>9</th>\n",
       "      <td>custcare</td>\n",
       "      <td>1.361</td>\n",
       "      <td>0.265</td>\n",
       "    </tr>\n",
       "    <tr>\n",
       "      <th>10</th>\n",
       "      <td>changer</td>\n",
       "      <td>1.312</td>\n",
       "      <td>0.238</td>\n",
       "    </tr>\n",
       "    <tr>\n",
       "      <th>11</th>\n",
       "      <td>changem</td>\n",
       "      <td>1.245</td>\n",
       "      <td>0.197</td>\n",
       "    </tr>\n",
       "    <tr>\n",
       "      <th>12</th>\n",
       "      <td>smartphone[T.yes]</td>\n",
       "      <td>1.200</td>\n",
       "      <td>0.167</td>\n",
       "    </tr>\n",
       "    <tr>\n",
       "      <th>13</th>\n",
       "      <td>occupation[T.professional]</td>\n",
       "      <td>1.150</td>\n",
       "      <td>0.130</td>\n",
       "    </tr>\n",
       "    <tr>\n",
       "      <th>14</th>\n",
       "      <td>highcreditr[T.yes]</td>\n",
       "      <td>1.077</td>\n",
       "      <td>0.072</td>\n",
       "    </tr>\n",
       "    <tr>\n",
       "      <th>15</th>\n",
       "      <td>travel[T.yes]</td>\n",
       "      <td>1.064</td>\n",
       "      <td>0.060</td>\n",
       "    </tr>\n",
       "    <tr>\n",
       "      <th>16</th>\n",
       "      <td>refurb[T.yes]</td>\n",
       "      <td>1.063</td>\n",
       "      <td>0.059</td>\n",
       "    </tr>\n",
       "    <tr>\n",
       "      <th>17</th>\n",
       "      <td>occupation[T.student]</td>\n",
       "      <td>1.055</td>\n",
       "      <td>0.052</td>\n",
       "    </tr>\n",
       "    <tr>\n",
       "      <th>18</th>\n",
       "      <td>occupation[T.retired]</td>\n",
       "      <td>1.047</td>\n",
       "      <td>0.045</td>\n",
       "    </tr>\n",
       "    <tr>\n",
       "      <th>19</th>\n",
       "      <td>mcycle[T.yes]</td>\n",
       "      <td>1.029</td>\n",
       "      <td>0.028</td>\n",
       "    </tr>\n",
       "    <tr>\n",
       "      <th>20</th>\n",
       "      <td>uniqsubs</td>\n",
       "      <td>1.025</td>\n",
       "      <td>0.024</td>\n",
       "    </tr>\n",
       "    <tr>\n",
       "      <th>21</th>\n",
       "      <td>roam</td>\n",
       "      <td>1.019</td>\n",
       "      <td>0.019</td>\n",
       "    </tr>\n",
       "    <tr>\n",
       "      <th>22</th>\n",
       "      <td>retcalls</td>\n",
       "      <td>1.018</td>\n",
       "      <td>0.017</td>\n",
       "    </tr>\n",
       "  </tbody>\n",
       "</table>\n",
       "</div>"
      ],
      "text/plain": [
       "                      variable    vif    Rsq\n",
       "0                          mou  2.284  0.562\n",
       "1                      eqpdays  1.674  0.402\n",
       "2                      dropvce  1.638  0.389\n",
       "3                      overage  1.473  0.321\n",
       "4                 region[T.NW]  1.458  0.314\n",
       "5                 region[T.SE]  1.457  0.314\n",
       "6                 region[T.SW]  1.455  0.313\n",
       "7                 region[T.NE]  1.453  0.312\n",
       "8                       months  1.362  0.266\n",
       "9                     custcare  1.361  0.265\n",
       "10                     changer  1.312  0.238\n",
       "11                     changem  1.245  0.197\n",
       "12           smartphone[T.yes]  1.200  0.167\n",
       "13  occupation[T.professional]  1.150  0.130\n",
       "14          highcreditr[T.yes]  1.077  0.072\n",
       "15               travel[T.yes]  1.064  0.060\n",
       "16               refurb[T.yes]  1.063  0.059\n",
       "17       occupation[T.student]  1.055  0.052\n",
       "18       occupation[T.retired]  1.047  0.045\n",
       "19               mcycle[T.yes]  1.029  0.028\n",
       "20                    uniqsubs  1.025  0.024\n",
       "21                        roam  1.019  0.019\n",
       "22                    retcalls  1.018  0.017"
      ]
     },
     "execution_count": 942,
     "metadata": {},
     "output_type": "execute_result"
    }
   ],
   "source": [
    "rsm.vif(lr_b)"
   ]
  },
  {
   "cell_type": "code",
   "execution_count": 943,
   "metadata": {},
   "outputs": [
    {
     "name": "stdout",
     "output_type": "stream",
     "text": [
      "Train data auc is 0.6879414778140053\n"
     ]
    }
   ],
   "source": [
    "score = roc_auc_score(s_mobile.query('training==1')['churn_yes'],lr.predict(Xs[s_mobile.training == 1]))\n",
    "\n",
    "print(f'Train data auc is {score}')"
   ]
  },
  {
   "cell_type": "code",
   "execution_count": 944,
   "metadata": {},
   "outputs": [
    {
     "name": "stdout",
     "output_type": "stream",
     "text": [
      "Test data auc is 0.6945277814303455\n"
     ]
    }
   ],
   "source": [
    "score = roc_auc_score(s_mobile.query('training==0')['churn_yes'],lr.predict(Xs[s_mobile.training == 0]))\n",
    "\n",
    "print(f'Test data auc is {score}')"
   ]
  },
  {
   "cell_type": "code",
   "execution_count": 945,
   "metadata": {},
   "outputs": [],
   "source": [
    "# Comparing gains on train and test"
   ]
  },
  {
   "cell_type": "code",
   "execution_count": 946,
   "metadata": {},
   "outputs": [],
   "source": [
    "df_train = pd.DataFrame({'churn_yes':s_mobile.query('training==1')['churn_yes'],'predictions':lr.predict(Xs[s_mobile.training == 1])})\n",
    "df_test = pd.DataFrame({'churn_yes':s_mobile.query('training==0')['churn_yes'],'predictions':lr.predict(Xs[s_mobile.training == 0])})"
   ]
  },
  {
   "cell_type": "code",
   "execution_count": 947,
   "metadata": {},
   "outputs": [
    {
     "data": {
      "text/plain": [
       "<AxesSubplot:xlabel='Proportion of customers', ylabel='Cumulative gains'>"
      ]
     },
     "execution_count": 947,
     "metadata": {},
     "output_type": "execute_result"
    },
    {
     "data": {
      "image/png": "[encoded data removed]",
      "text/plain": [
       "<Figure size 900x600 with 1 Axes>"
      ]
     },
     "metadata": {
      "needs_background": "light"
     },
     "output_type": "display_data"
    }
   ],
   "source": [
    "rsm.gains_plot(df=df_test,rvar='churn_yes',lev=1,pred='predictions',label='test_data')\n",
    "rsm.gains_plot(df=df_train,rvar='churn_yes',lev=1,pred='predictions',label='train_data',marker='*')"
   ]
  },
  {
   "cell_type": "markdown",
   "metadata": {},
   "source": [
    "- We decided to remove car, revenue and conference to arrive at our final model. The removal of these variables did not change the odds ratios of the remaining variables\n",
    "- We decided to keep custcare despite it being insignificant because it made intuitive sense. You would expect churn rates to change with changes in the number of custcare calls\n",
    "- The roc-auc scores of the model on both training and test data are reasonable. There isn't any daylight between the gains curves of the model on both train and test data. Hence there is no overfitting"
   ]
  },
  {
   "cell_type": "markdown",
   "metadata": {},
   "source": [
    "### Question 2"
   ]
  },
  {
   "cell_type": "markdown",
   "metadata": {},
   "source": [
    "Importance table"
   ]
  },
  {
   "cell_type": "code",
   "execution_count": 948,
   "metadata": {},
   "outputs": [
    {
     "data": {
      "text/html": [
       "<div>\n",
       "<style scoped>\n",
       "    .dataframe tbody tr th:only-of-type {\n",
       "        vertical-align: middle;\n",
       "    }\n",
       "\n",
       "    .dataframe tbody tr th {\n",
       "        vertical-align: top;\n",
       "    }\n",
       "\n",
       "    .dataframe thead th {\n",
       "        text-align: right;\n",
       "    }\n",
       "</style>\n",
       "<table border=\"1\" class=\"dataframe\">\n",
       "  <thead>\n",
       "    <tr style=\"text-align: right;\">\n",
       "      <th></th>\n",
       "      <th>index</th>\n",
       "      <th>OR</th>\n",
       "      <th>OR%</th>\n",
       "      <th>2.5%</th>\n",
       "      <th>97.5%</th>\n",
       "      <th>p.values</th>\n",
       "      <th></th>\n",
       "      <th>dummy</th>\n",
       "      <th>importance</th>\n",
       "      <th>wmean</th>\n",
       "      <th>wstd</th>\n",
       "      <th>min</th>\n",
       "      <th>max</th>\n",
       "    </tr>\n",
       "  </thead>\n",
       "  <tbody>\n",
       "    <tr>\n",
       "      <th>0</th>\n",
       "      <td>occupation[T.retired]</td>\n",
       "      <td>0.186</td>\n",
       "      <td>-81.4%</td>\n",
       "      <td>0.168</td>\n",
       "      <td>0.207</td>\n",
       "      <td>&lt; .001</td>\n",
       "      <td>***</td>\n",
       "      <td>True</td>\n",
       "      <td>5.372</td>\n",
       "      <td>0.137</td>\n",
       "      <td>0.344</td>\n",
       "      <td>0.0</td>\n",
       "      <td>1.0</td>\n",
       "    </tr>\n",
       "    <tr>\n",
       "      <th>1</th>\n",
       "      <td>highcreditr[T.yes]</td>\n",
       "      <td>0.483</td>\n",
       "      <td>-51.7%</td>\n",
       "      <td>0.454</td>\n",
       "      <td>0.513</td>\n",
       "      <td>&lt; .001</td>\n",
       "      <td>***</td>\n",
       "      <td>True</td>\n",
       "      <td>2.072</td>\n",
       "      <td>0.180</td>\n",
       "      <td>0.384</td>\n",
       "      <td>0.0</td>\n",
       "      <td>1.0</td>\n",
       "    </tr>\n",
       "    <tr>\n",
       "      <th>2</th>\n",
       "      <td>occupation[T.student]</td>\n",
       "      <td>1.899</td>\n",
       "      <td>89.9%</td>\n",
       "      <td>1.788</td>\n",
       "      <td>2.018</td>\n",
       "      <td>&lt; .001</td>\n",
       "      <td>***</td>\n",
       "      <td>True</td>\n",
       "      <td>1.899</td>\n",
       "      <td>0.055</td>\n",
       "      <td>0.227</td>\n",
       "      <td>0.0</td>\n",
       "      <td>1.0</td>\n",
       "    </tr>\n",
       "    <tr>\n",
       "      <th>3</th>\n",
       "      <td>eqpdays</td>\n",
       "      <td>1.829</td>\n",
       "      <td>82.9%</td>\n",
       "      <td>1.752</td>\n",
       "      <td>1.910</td>\n",
       "      <td>&lt; .001</td>\n",
       "      <td>***</td>\n",
       "      <td>False</td>\n",
       "      <td>1.829</td>\n",
       "      <td>510.298</td>\n",
       "      <td>222.647</td>\n",
       "      <td>22.0</td>\n",
       "      <td>1982.0</td>\n",
       "    </tr>\n",
       "    <tr>\n",
       "      <th>4</th>\n",
       "      <td>overage</td>\n",
       "      <td>1.765</td>\n",
       "      <td>76.5%</td>\n",
       "      <td>1.692</td>\n",
       "      <td>1.841</td>\n",
       "      <td>&lt; .001</td>\n",
       "      <td>***</td>\n",
       "      <td>False</td>\n",
       "      <td>1.765</td>\n",
       "      <td>61.625</td>\n",
       "      <td>67.964</td>\n",
       "      <td>0.0</td>\n",
       "      <td>283.0</td>\n",
       "    </tr>\n",
       "    <tr>\n",
       "      <th>5</th>\n",
       "      <td>region[T.SW]</td>\n",
       "      <td>0.627</td>\n",
       "      <td>-37.3%</td>\n",
       "      <td>0.596</td>\n",
       "      <td>0.661</td>\n",
       "      <td>&lt; .001</td>\n",
       "      <td>***</td>\n",
       "      <td>True</td>\n",
       "      <td>1.594</td>\n",
       "      <td>0.202</td>\n",
       "      <td>0.401</td>\n",
       "      <td>0.0</td>\n",
       "      <td>1.0</td>\n",
       "    </tr>\n",
       "    <tr>\n",
       "      <th>6</th>\n",
       "      <td>region[T.NE]</td>\n",
       "      <td>0.645</td>\n",
       "      <td>-35.5%</td>\n",
       "      <td>0.612</td>\n",
       "      <td>0.679</td>\n",
       "      <td>&lt; .001</td>\n",
       "      <td>***</td>\n",
       "      <td>True</td>\n",
       "      <td>1.551</td>\n",
       "      <td>0.199</td>\n",
       "      <td>0.399</td>\n",
       "      <td>0.0</td>\n",
       "      <td>1.0</td>\n",
       "    </tr>\n",
       "    <tr>\n",
       "      <th>7</th>\n",
       "      <td>region[T.SE]</td>\n",
       "      <td>0.651</td>\n",
       "      <td>-34.9%</td>\n",
       "      <td>0.618</td>\n",
       "      <td>0.685</td>\n",
       "      <td>&lt; .001</td>\n",
       "      <td>***</td>\n",
       "      <td>True</td>\n",
       "      <td>1.537</td>\n",
       "      <td>0.199</td>\n",
       "      <td>0.399</td>\n",
       "      <td>0.0</td>\n",
       "      <td>1.0</td>\n",
       "    </tr>\n",
       "    <tr>\n",
       "      <th>8</th>\n",
       "      <td>mou</td>\n",
       "      <td>0.656</td>\n",
       "      <td>-34.4%</td>\n",
       "      <td>0.616</td>\n",
       "      <td>0.699</td>\n",
       "      <td>&lt; .001</td>\n",
       "      <td>***</td>\n",
       "      <td>False</td>\n",
       "      <td>1.524</td>\n",
       "      <td>543.775</td>\n",
       "      <td>546.068</td>\n",
       "      <td>0.0</td>\n",
       "      <td>7668.0</td>\n",
       "    </tr>\n",
       "    <tr>\n",
       "      <th>9</th>\n",
       "      <td>region[T.NW]</td>\n",
       "      <td>0.661</td>\n",
       "      <td>-33.9%</td>\n",
       "      <td>0.627</td>\n",
       "      <td>0.695</td>\n",
       "      <td>&lt; .001</td>\n",
       "      <td>***</td>\n",
       "      <td>True</td>\n",
       "      <td>1.514</td>\n",
       "      <td>0.199</td>\n",
       "      <td>0.399</td>\n",
       "      <td>0.0</td>\n",
       "      <td>1.0</td>\n",
       "    </tr>\n",
       "    <tr>\n",
       "      <th>10</th>\n",
       "      <td>months</td>\n",
       "      <td>0.704</td>\n",
       "      <td>-29.6%</td>\n",
       "      <td>0.673</td>\n",
       "      <td>0.735</td>\n",
       "      <td>&lt; .001</td>\n",
       "      <td>***</td>\n",
       "      <td>False</td>\n",
       "      <td>1.421</td>\n",
       "      <td>18.570</td>\n",
       "      <td>9.889</td>\n",
       "      <td>6.0</td>\n",
       "      <td>61.0</td>\n",
       "    </tr>\n",
       "    <tr>\n",
       "      <th>11</th>\n",
       "      <td>occupation[T.professional]</td>\n",
       "      <td>1.415</td>\n",
       "      <td>41.5%</td>\n",
       "      <td>1.354</td>\n",
       "      <td>1.479</td>\n",
       "      <td>&lt; .001</td>\n",
       "      <td>***</td>\n",
       "      <td>True</td>\n",
       "      <td>1.415</td>\n",
       "      <td>0.174</td>\n",
       "      <td>0.379</td>\n",
       "      <td>0.0</td>\n",
       "      <td>1.0</td>\n",
       "    </tr>\n",
       "    <tr>\n",
       "      <th>12</th>\n",
       "      <td>refurb[T.yes]</td>\n",
       "      <td>1.319</td>\n",
       "      <td>31.9%</td>\n",
       "      <td>1.256</td>\n",
       "      <td>1.385</td>\n",
       "      <td>&lt; .001</td>\n",
       "      <td>***</td>\n",
       "      <td>True</td>\n",
       "      <td>1.319</td>\n",
       "      <td>0.134</td>\n",
       "      <td>0.341</td>\n",
       "      <td>0.0</td>\n",
       "      <td>1.0</td>\n",
       "    </tr>\n",
       "    <tr>\n",
       "      <th>13</th>\n",
       "      <td>travel[T.yes]</td>\n",
       "      <td>0.781</td>\n",
       "      <td>-21.9%</td>\n",
       "      <td>0.723</td>\n",
       "      <td>0.844</td>\n",
       "      <td>&lt; .001</td>\n",
       "      <td>***</td>\n",
       "      <td>True</td>\n",
       "      <td>1.280</td>\n",
       "      <td>0.057</td>\n",
       "      <td>0.231</td>\n",
       "      <td>0.0</td>\n",
       "      <td>1.0</td>\n",
       "    </tr>\n",
       "    <tr>\n",
       "      <th>14</th>\n",
       "      <td>retcalls</td>\n",
       "      <td>1.244</td>\n",
       "      <td>24.4%</td>\n",
       "      <td>1.216</td>\n",
       "      <td>1.273</td>\n",
       "      <td>&lt; .001</td>\n",
       "      <td>***</td>\n",
       "      <td>False</td>\n",
       "      <td>1.244</td>\n",
       "      <td>0.029</td>\n",
       "      <td>0.185</td>\n",
       "      <td>0.0</td>\n",
       "      <td>4.0</td>\n",
       "    </tr>\n",
       "    <tr>\n",
       "      <th>15</th>\n",
       "      <td>changem</td>\n",
       "      <td>0.864</td>\n",
       "      <td>-13.6%</td>\n",
       "      <td>0.825</td>\n",
       "      <td>0.904</td>\n",
       "      <td>&lt; .001</td>\n",
       "      <td>***</td>\n",
       "      <td>False</td>\n",
       "      <td>1.158</td>\n",
       "      <td>16.375</td>\n",
       "      <td>49.861</td>\n",
       "      <td>-78.0</td>\n",
       "      <td>521.0</td>\n",
       "    </tr>\n",
       "    <tr>\n",
       "      <th>16</th>\n",
       "      <td>mcycle[T.yes]</td>\n",
       "      <td>0.880</td>\n",
       "      <td>-12.0%</td>\n",
       "      <td>0.841</td>\n",
       "      <td>0.920</td>\n",
       "      <td>&lt; .001</td>\n",
       "      <td>***</td>\n",
       "      <td>True</td>\n",
       "      <td>1.137</td>\n",
       "      <td>0.188</td>\n",
       "      <td>0.391</td>\n",
       "      <td>0.0</td>\n",
       "      <td>1.0</td>\n",
       "    </tr>\n",
       "    <tr>\n",
       "      <th>17</th>\n",
       "      <td>dropvce</td>\n",
       "      <td>1.130</td>\n",
       "      <td>13.0%</td>\n",
       "      <td>1.082</td>\n",
       "      <td>1.180</td>\n",
       "      <td>&lt; .001</td>\n",
       "      <td>***</td>\n",
       "      <td>False</td>\n",
       "      <td>1.130</td>\n",
       "      <td>3.038</td>\n",
       "      <td>4.551</td>\n",
       "      <td>0.0</td>\n",
       "      <td>67.0</td>\n",
       "    </tr>\n",
       "    <tr>\n",
       "      <th>18</th>\n",
       "      <td>smartphone[T.yes]</td>\n",
       "      <td>0.913</td>\n",
       "      <td>-8.7%</td>\n",
       "      <td>0.860</td>\n",
       "      <td>0.969</td>\n",
       "      <td>0.003</td>\n",
       "      <td>**</td>\n",
       "      <td>True</td>\n",
       "      <td>1.095</td>\n",
       "      <td>0.914</td>\n",
       "      <td>0.280</td>\n",
       "      <td>0.0</td>\n",
       "      <td>1.0</td>\n",
       "    </tr>\n",
       "    <tr>\n",
       "      <th>19</th>\n",
       "      <td>roam</td>\n",
       "      <td>1.090</td>\n",
       "      <td>9.0%</td>\n",
       "      <td>1.067</td>\n",
       "      <td>1.113</td>\n",
       "      <td>&lt; .001</td>\n",
       "      <td>***</td>\n",
       "      <td>False</td>\n",
       "      <td>1.090</td>\n",
       "      <td>1.067</td>\n",
       "      <td>5.872</td>\n",
       "      <td>0.0</td>\n",
       "      <td>692.0</td>\n",
       "    </tr>\n",
       "    <tr>\n",
       "      <th>20</th>\n",
       "      <td>changer</td>\n",
       "      <td>1.066</td>\n",
       "      <td>6.6%</td>\n",
       "      <td>1.028</td>\n",
       "      <td>1.105</td>\n",
       "      <td>&lt; .001</td>\n",
       "      <td>***</td>\n",
       "      <td>False</td>\n",
       "      <td>1.066</td>\n",
       "      <td>8.200</td>\n",
       "      <td>28.062</td>\n",
       "      <td>-62.0</td>\n",
       "      <td>305.0</td>\n",
       "    </tr>\n",
       "    <tr>\n",
       "      <th>21</th>\n",
       "      <td>uniqsubs</td>\n",
       "      <td>1.066</td>\n",
       "      <td>6.6%</td>\n",
       "      <td>1.031</td>\n",
       "      <td>1.102</td>\n",
       "      <td>&lt; .001</td>\n",
       "      <td>***</td>\n",
       "      <td>False</td>\n",
       "      <td>1.066</td>\n",
       "      <td>1.521</td>\n",
       "      <td>0.869</td>\n",
       "      <td>1.0</td>\n",
       "      <td>18.0</td>\n",
       "    </tr>\n",
       "    <tr>\n",
       "      <th>22</th>\n",
       "      <td>custcare</td>\n",
       "      <td>0.977</td>\n",
       "      <td>-2.3%</td>\n",
       "      <td>0.936</td>\n",
       "      <td>1.021</td>\n",
       "      <td>0.303</td>\n",
       "      <td></td>\n",
       "      <td>False</td>\n",
       "      <td>1.023</td>\n",
       "      <td>2.494</td>\n",
       "      <td>4.364</td>\n",
       "      <td>0.0</td>\n",
       "      <td>32.0</td>\n",
       "    </tr>\n",
       "  </tbody>\n",
       "</table>\n",
       "</div>"
      ],
      "text/plain": [
       "                         index     OR     OR%   2.5%  97.5% p.values       \\\n",
       "0        occupation[T.retired]  0.186  -81.4%  0.168  0.207   < .001  ***   \n",
       "1           highcreditr[T.yes]  0.483  -51.7%  0.454  0.513   < .001  ***   \n",
       "2        occupation[T.student]  1.899   89.9%  1.788  2.018   < .001  ***   \n",
       "3                      eqpdays  1.829   82.9%  1.752  1.910   < .001  ***   \n",
       "4                      overage  1.765   76.5%  1.692  1.841   < .001  ***   \n",
       "5                 region[T.SW]  0.627  -37.3%  0.596  0.661   < .001  ***   \n",
       "6                 region[T.NE]  0.645  -35.5%  0.612  0.679   < .001  ***   \n",
       "7                 region[T.SE]  0.651  -34.9%  0.618  0.685   < .001  ***   \n",
       "8                          mou  0.656  -34.4%  0.616  0.699   < .001  ***   \n",
       "9                 region[T.NW]  0.661  -33.9%  0.627  0.695   < .001  ***   \n",
       "10                      months  0.704  -29.6%  0.673  0.735   < .001  ***   \n",
       "11  occupation[T.professional]  1.415   41.5%  1.354  1.479   < .001  ***   \n",
       "12               refurb[T.yes]  1.319   31.9%  1.256  1.385   < .001  ***   \n",
       "13               travel[T.yes]  0.781  -21.9%  0.723  0.844   < .001  ***   \n",
       "14                    retcalls  1.244   24.4%  1.216  1.273   < .001  ***   \n",
       "15                     changem  0.864  -13.6%  0.825  0.904   < .001  ***   \n",
       "16               mcycle[T.yes]  0.880  -12.0%  0.841  0.920   < .001  ***   \n",
       "17                     dropvce  1.130   13.0%  1.082  1.180   < .001  ***   \n",
       "18           smartphone[T.yes]  0.913   -8.7%  0.860  0.969    0.003   **   \n",
       "19                        roam  1.090    9.0%  1.067  1.113   < .001  ***   \n",
       "20                     changer  1.066    6.6%  1.028  1.105   < .001  ***   \n",
       "21                    uniqsubs  1.066    6.6%  1.031  1.102   < .001  ***   \n",
       "22                    custcare  0.977   -2.3%  0.936  1.021    0.303        \n",
       "\n",
       "    dummy  importance    wmean     wstd   min     max  \n",
       "0    True       5.372    0.137    0.344   0.0     1.0  \n",
       "1    True       2.072    0.180    0.384   0.0     1.0  \n",
       "2    True       1.899    0.055    0.227   0.0     1.0  \n",
       "3   False       1.829  510.298  222.647  22.0  1982.0  \n",
       "4   False       1.765   61.625   67.964   0.0   283.0  \n",
       "5    True       1.594    0.202    0.401   0.0     1.0  \n",
       "6    True       1.551    0.199    0.399   0.0     1.0  \n",
       "7    True       1.537    0.199    0.399   0.0     1.0  \n",
       "8   False       1.524  543.775  546.068   0.0  7668.0  \n",
       "9    True       1.514    0.199    0.399   0.0     1.0  \n",
       "10  False       1.421   18.570    9.889   6.0    61.0  \n",
       "11   True       1.415    0.174    0.379   0.0     1.0  \n",
       "12   True       1.319    0.134    0.341   0.0     1.0  \n",
       "13   True       1.280    0.057    0.231   0.0     1.0  \n",
       "14  False       1.244    0.029    0.185   0.0     4.0  \n",
       "15  False       1.158   16.375   49.861 -78.0   521.0  \n",
       "16   True       1.137    0.188    0.391   0.0     1.0  \n",
       "17  False       1.130    3.038    4.551   0.0    67.0  \n",
       "18   True       1.095    0.914    0.280   0.0     1.0  \n",
       "19  False       1.090    1.067    5.872   0.0   692.0  \n",
       "20  False       1.066    8.200   28.062 -62.0   305.0  \n",
       "21  False       1.066    1.521    0.869   1.0    18.0  \n",
       "22  False       1.023    2.494    4.364   0.0    32.0  "
      ]
     },
     "execution_count": 948,
     "metadata": {},
     "output_type": "execute_result"
    }
   ],
   "source": [
    "(\n",
    "    rsm.or_ci(lr, importance=True, data=s_mobile[s_mobile.training == 1])\n",
    "    .sort_values(\"importance\", ascending=False)\n",
    "    .reset_index(drop=True)\n",
    ")"
   ]
  },
  {
   "cell_type": "markdown",
   "metadata": {},
   "source": [
    "- From the importance leaderboard, we can see that occupation(retired), highcreditr(yes), eqpdays, etc have large effects on the churn rate\n",
    "- An odds ratio of less than 1 indicates that the churn rate reduces with increase in the explanatory variables whereas an odds ratio of mopre than 1 indicates that the churn rate increases with increase in the explanatory variables\n",
    "- Despite some variables having high importance, we cannot act on them in the retention stage. Hence we decided to go forward with occupation(student), eqpdays, overage, region(CS) and mou"
   ]
  },
  {
   "cell_type": "markdown",
   "metadata": {},
   "source": [
    "## Plan 1 - eqpdays"
   ]
  },
  {
   "cell_type": "markdown",
   "metadata": {},
   "source": [
    "### Question 3"
   ]
  },
  {
   "cell_type": "code",
   "execution_count": 949,
   "metadata": {},
   "outputs": [
    {
     "data": {
      "text/plain": [
       "eqp_bin\n",
       "(12.999, 216.0]    0.009810\n",
       "(216.0, 253.0]     0.007968\n",
       "(253.0, 291.0]     0.013495\n",
       "(291.0, 336.0]     0.013963\n",
       "(336.0, 360.0]     0.010989\n",
       "(360.0, 376.0]     0.014189\n",
       "(376.0, 397.0]     0.015436\n",
       "(397.0, 418.0]     0.020380\n",
       "(418.0, 441.0]     0.009162\n",
       "(441.0, 462.0]     0.020067\n",
       "(462.0, 487.0]     0.036716\n",
       "(487.0, 516.0]     0.025316\n",
       "(516.0, 543.0]     0.027445\n",
       "(543.0, 579.0]     0.017544\n",
       "(579.0, 624.0]     0.027554\n",
       "(624.0, 683.0]     0.029880\n",
       "(683.0, 748.0]     0.026525\n",
       "(748.0, 819.1]     0.028302\n",
       "(819.1, 934.0]     0.017964\n",
       "(934.0, 1786.0]    0.028056\n",
       "Name: churn_yes, dtype: float64"
      ]
     },
     "execution_count": 949,
     "metadata": {},
     "output_type": "execute_result"
    }
   ],
   "source": [
    "s_mobile_copy = s_mobile[s_mobile.representative == 1].copy(deep = True)\n",
    "s_mobile_copy['eqp_bin'] = pd.qcut(s_mobile_copy['eqpdays'],20)\n",
    "\n",
    "s_mobile_copy.groupby(['eqp_bin'])['churn_yes'].mean()"
   ]
  },
  {
   "cell_type": "markdown",
   "metadata": {},
   "source": [
    "- From the calculation above, we can see that the average churn rate of customers is higher than 2% for those customers whose eqpdays is above SGD 547.5 \n",
    "\n",
    "*NEW PHONE DEAL*\n",
    "1. We will purchase a large amount of mobile phones from mobile phone companies with a large market share and has a new model out\n",
    "2. We will then offer a deal to our target customers where we offer this phone in a one year installment plan with zero interest\n",
    "3. We will also offer our regular plan options with the phone but at a lower price to further encourage them to accept the offer"
   ]
  },
  {
   "cell_type": "markdown",
   "metadata": {},
   "source": [
    "*Service Cost = SGD 5* \n",
    "- SGD 1 for technical development\n",
    "- SGD 1 for operational training\n",
    "- SGD 3 for Miscellaneous"
   ]
  },
  {
   "cell_type": "markdown",
   "metadata": {},
   "source": [
    "### Question 4"
   ]
  },
  {
   "cell_type": "code",
   "execution_count": 950,
   "metadata": {},
   "outputs": [],
   "source": [
    "lr_b = smf.glm(\n",
    "    formula=form,\n",
    "    family=Binomial(link=logit()),\n",
    "    freq_weights=s_mobile.loc[s_mobile.training == 1, \"cweight\"],\n",
    "    data=s_mobile[s_mobile.training == 1],\n",
    ")\n",
    "\n",
    "lr = lr_b.fit(cov_type=\"HC1\")"
   ]
  },
  {
   "cell_type": "code",
   "execution_count": 951,
   "metadata": {},
   "outputs": [],
   "source": [
    "# Estimated churn on representative sample\n",
    "\n",
    "pred = lr.predict(s_mobile[s_mobile.representative == 1])"
   ]
  },
  {
   "cell_type": "code",
   "execution_count": 952,
   "metadata": {},
   "outputs": [],
   "source": [
    "s_mobile['predictions'] = pred"
   ]
  },
  {
   "cell_type": "code",
   "execution_count": 953,
   "metadata": {},
   "outputs": [
    {
     "name": "stdout",
     "output_type": "stream",
     "text": [
      "The mean monthly churn rate for those with eqpdays above 547.5 in the representative data is 2.51%\n"
     ]
    }
   ],
   "source": [
    "# Mean monnthly churn rate for those above average churn in our data\n",
    "churn = s_mobile[(s_mobile.eqpdays>(1.5*365)) & (s_mobile.representative == 1)].churn_yes.mean()\n",
    "\n",
    "print(f'The mean monthly churn rate for those with eqpdays above {1.5*365} in the representative data is {round(churn*100,2)}%')"
   ]
  },
  {
   "cell_type": "markdown",
   "metadata": {},
   "source": [
    "- We assumed that 70% of the customer that are offered the new phone deal will accept the deal\n",
    "- This deal is offered when a new model is out in the market\n",
    "- The deal is also offered on that phone which has large market share"
   ]
  },
  {
   "cell_type": "code",
   "execution_count": 954,
   "metadata": {},
   "outputs": [
    {
     "name": "stdout",
     "output_type": "stream",
     "text": [
      "The predicted mean monthly churn rate for those with eqpdays above 547.5 in the representative data with eqpdays set to 0 is 1.37%\n"
     ]
    }
   ],
   "source": [
    "# Mean monthly churn rate after setting eqpdays to 0, assuming that only 70% of the target populaton will accept the offer\n",
    "\n",
    "subset_preds = s_mobile[(s_mobile.eqpdays>(1.5*365)) & (s_mobile.representative == 1)].predictions.copy()\n",
    "c = lr.predict(s_mobile[(s_mobile.eqpdays>(1.5*365)) & (s_mobile.representative == 1)].sample(frac=0.7, random_state=42).assign(eqpdays=0))\n",
    "subset_preds[c.index] = c\n",
    "\n",
    "new_churn = subset_preds.mean()\n",
    "\n",
    "print(f'The predicted mean monthly churn rate for those with eqpdays above {1.5*365} in the representative data with eqpdays set to 0 is {round(new_churn*100,2)}%')"
   ]
  },
  {
   "cell_type": "code",
   "execution_count": 955,
   "metadata": {},
   "outputs": [
    {
     "name": "stdout",
     "output_type": "stream",
     "text": [
      "The projected impact of our plan on churn is a reduction of 1.14% for this subset of people\n"
     ]
    }
   ],
   "source": [
    "print(f'The projected impact of our plan on churn is a reduction of {round((churn-new_churn)*100,2)}% for this subset of people')"
   ]
  },
  {
   "cell_type": "markdown",
   "metadata": {},
   "source": [
    "### Question 5"
   ]
  },
  {
   "cell_type": "markdown",
   "metadata": {},
   "source": [
    "The plan will be targeted only at those customers whose eqpdays is above 547.5"
   ]
  },
  {
   "cell_type": "markdown",
   "metadata": {},
   "source": [
    "### Question 6"
   ]
  },
  {
   "cell_type": "code",
   "execution_count": 956,
   "metadata": {},
   "outputs": [],
   "source": [
    "# Mean monthly revenue for customers in this group\n",
    "rev = s_mobile[(s_mobile.eqpdays>(1.5*365)) & (s_mobile.representative == 1)].revenue.mean()"
   ]
  },
  {
   "cell_type": "code",
   "execution_count": 957,
   "metadata": {},
   "outputs": [],
   "source": [
    "ser_cost = 5"
   ]
  },
  {
   "cell_type": "code",
   "execution_count": 958,
   "metadata": {},
   "outputs": [
    {
     "data": {
      "text/plain": [
       "1102.131548263913"
      ]
     },
     "execution_count": 958,
     "metadata": {},
     "output_type": "execute_result"
    }
   ],
   "source": [
    "# Assuming that the incentive costs are 0.\n",
    "\n",
    "clv_old = clv_calculator(rev,ser_cost,churn)\n",
    "clv_old"
   ]
  },
  {
   "cell_type": "code",
   "execution_count": 959,
   "metadata": {},
   "outputs": [
    {
     "data": {
      "text/plain": [
       "1417.5590346245153"
      ]
     },
     "execution_count": 959,
     "metadata": {},
     "output_type": "execute_result"
    }
   ],
   "source": [
    "clv_new = clv_calculator(rev,ser_cost,new_churn)\n",
    "clv_new"
   ]
  },
  {
   "cell_type": "code",
   "execution_count": 960,
   "metadata": {},
   "outputs": [
    {
     "name": "stdout",
     "output_type": "stream",
     "text": [
      "We can spend atmost SGD 315.43 per customer for the incentive today without incurring a loss\n"
     ]
    }
   ],
   "source": [
    "diff = clv_new - clv_old\n",
    "\n",
    "print(f'We can spend atmost SGD {round(diff,2)} per customer for the incentive today without incurring a loss')"
   ]
  },
  {
   "cell_type": "code",
   "execution_count": 961,
   "metadata": {},
   "outputs": [
    {
     "name": "stdout",
     "output_type": "stream",
     "text": [
      "Offering the new mobile phone on the installment plan would cost us SGD 49.91 per customer\n",
      "P.S: You can expect a phone to cost less when bought in bulk\n"
     ]
    }
   ],
   "source": [
    "# Present value of the installment plan\n",
    "\n",
    "payment = np.repeat(999/12,12)\n",
    "dis = np.arange(1,13,1)\n",
    "mdr = ((1+0.1)**(1/12))-1\n",
    "pv = payment/((1+mdr)**dis)\n",
    "\n",
    "installment_value = pv.sum()\n",
    "mobile_cost = 999\n",
    "\n",
    "print(f'Offering the new mobile phone on the installment plan would cost us SGD {round(mobile_cost - installment_value,2)} per customer')\n",
    "print('P.S: You can expect a phone to cost less when bought in bulk')"
   ]
  },
  {
   "cell_type": "code",
   "execution_count": 962,
   "metadata": {},
   "outputs": [
    {
     "name": "stdout",
     "output_type": "stream",
     "text": [
      "Maximum discount that we can offer per month per customer on this incentive plan is SGD 7.83\n"
     ]
    }
   ],
   "source": [
    "# Finding maximum recurring incentive cost\n",
    "\n",
    "inc_cost = []\n",
    "\n",
    "for i in np.arange(1,20,0.001):\n",
    "    clv = clv_old\n",
    "    \n",
    "    if abs(clv_calculator(rev,ser_cost,new_churn, inc_cost=i)-(mobile_cost - installment_value)-clv) < 0.02:\n",
    "        inc_cost.append(i)\n",
    "\n",
    "max_inc_cost = np.mean(inc_cost)\n",
    "\n",
    "print(f'Maximum discount that we can offer per month per customer on this incentive plan is SGD {round(max_inc_cost,2)}')"
   ]
  },
  {
   "cell_type": "markdown",
   "metadata": {},
   "source": [
    "We shall hence offer SGD 3 discount on the plan offered with the new phone."
   ]
  },
  {
   "cell_type": "markdown",
   "metadata": {},
   "source": [
    "*Incentive Cost per customer*\n",
    "- SGD 3 Discount per month\n",
    "- SGD 49.91 for the new phone"
   ]
  },
  {
   "cell_type": "code",
   "execution_count": 963,
   "metadata": {},
   "outputs": [],
   "source": [
    "clv_new = clv_calculator(rev,ser_cost,new_churn, inc_cost=3) - (mobile_cost - installment_value) \n",
    "diff = clv_new - clv_old"
   ]
  },
  {
   "cell_type": "code",
   "execution_count": 964,
   "metadata": {},
   "outputs": [],
   "source": [
    "conc = pd.DataFrame({'plan':['eqpdays'],'clv_old':[clv_old],'clv_new':[clv_new],'clv difference':[diff]})"
   ]
  },
  {
   "cell_type": "code",
   "execution_count": 965,
   "metadata": {},
   "outputs": [
    {
     "data": {
      "text/html": [
       "<div>\n",
       "<style scoped>\n",
       "    .dataframe tbody tr th:only-of-type {\n",
       "        vertical-align: middle;\n",
       "    }\n",
       "\n",
       "    .dataframe tbody tr th {\n",
       "        vertical-align: top;\n",
       "    }\n",
       "\n",
       "    .dataframe thead th {\n",
       "        text-align: right;\n",
       "    }\n",
       "</style>\n",
       "<table border=\"1\" class=\"dataframe\">\n",
       "  <thead>\n",
       "    <tr style=\"text-align: right;\">\n",
       "      <th></th>\n",
       "      <th>plan</th>\n",
       "      <th>clv_old</th>\n",
       "      <th>clv_new</th>\n",
       "      <th>clv difference</th>\n",
       "    </tr>\n",
       "  </thead>\n",
       "  <tbody>\n",
       "    <tr>\n",
       "      <th>0</th>\n",
       "      <td>eqpdays</td>\n",
       "      <td>1102.131548</td>\n",
       "      <td>1265.986505</td>\n",
       "      <td>163.854957</td>\n",
       "    </tr>\n",
       "  </tbody>\n",
       "</table>\n",
       "</div>"
      ],
      "text/plain": [
       "      plan      clv_old      clv_new  clv difference\n",
       "0  eqpdays  1102.131548  1265.986505      163.854957"
      ]
     },
     "execution_count": 965,
     "metadata": {},
     "output_type": "execute_result"
    }
   ],
   "source": [
    "conc.sort_values('clv difference', ascending=False)"
   ]
  },
  {
   "cell_type": "markdown",
   "metadata": {},
   "source": [
    "## Plan 2 - region(CS)"
   ]
  },
  {
   "cell_type": "markdown",
   "metadata": {},
   "source": [
    "### Question 3"
   ]
  },
  {
   "cell_type": "markdown",
   "metadata": {},
   "source": [
    "- From our importance plots, we can see that CS region has the highest probability of churn\n",
    "\n",
    "*CS REGION NETWORK EXPANSION*\n",
    "1. We suspect that the churn in this region is high because the network coverage in this region is low\n",
    "2. We will hence expand our network  by installing new cell phone towers (mostly on top of buildings as the CS region will most probably be a city area)\n",
    "3. We will install as many towers that will bring us close to the network coverage we offer in the SW region\n",
    "4. Our costs for installing new towers will also include lease costs"
   ]
  },
  {
   "cell_type": "markdown",
   "metadata": {},
   "source": [
    "*Service Cost = SGD 5* \n",
    "- SGD 1 for technical development\n",
    "- SGD 1 for operational training\n",
    "- SGD 3 for Miscellaneous"
   ]
  },
  {
   "cell_type": "markdown",
   "metadata": {},
   "source": [
    "### Question 4"
   ]
  },
  {
   "cell_type": "code",
   "execution_count": 966,
   "metadata": {},
   "outputs": [
    {
     "name": "stdout",
     "output_type": "stream",
     "text": [
      "The mean monthly churn rate for those not in the SW region in the representative data is 2.83%\n"
     ]
    }
   ],
   "source": [
    "# Mean monnthly churn rate for those above average churn in our data\n",
    "churn = s_mobile.loc[(s_mobile.region == 'CS') & (s_mobile.representative == 1)].churn_yes.mean()\n",
    "\n",
    "print(f'The mean monthly churn rate for those not in the SW region in the representative data is {round(churn*100,2)}%')"
   ]
  },
  {
   "cell_type": "code",
   "execution_count": 967,
   "metadata": {},
   "outputs": [
    {
     "name": "stdout",
     "output_type": "stream",
     "text": [
      "The predicted mean monthly churn rate for those whose region has been simulated to look like the SW region in the representative data is 1.73%\n"
     ]
    }
   ],
   "source": [
    "# Mean monthly churn rate after setting eqpdays to 0\n",
    "\n",
    "new_churn = lr.predict(s_mobile.loc[(s_mobile.region == 'CS') & (s_mobile.representative == 1)].assign(region='SW')).mean()\n",
    "\n",
    "print(f'The predicted mean monthly churn rate for those whose region has been simulated to look like the SW region in the representative data is {round(new_churn*100,2)}%')"
   ]
  },
  {
   "cell_type": "code",
   "execution_count": 968,
   "metadata": {},
   "outputs": [
    {
     "name": "stdout",
     "output_type": "stream",
     "text": [
      "The projected impact of our plan on churn is a reduction of 1.1% for this subset of people\n"
     ]
    }
   ],
   "source": [
    "print(f'The projected impact of our plan on churn is a reduction of {round((churn-new_churn)*100,2)}% for this subset of people')"
   ]
  },
  {
   "cell_type": "markdown",
   "metadata": {},
   "source": [
    "### Question 5"
   ]
  },
  {
   "cell_type": "markdown",
   "metadata": {},
   "source": [
    "-  We will install new cell phone towers only in the CS region"
   ]
  },
  {
   "cell_type": "markdown",
   "metadata": {},
   "source": [
    "### Question 6"
   ]
  },
  {
   "cell_type": "code",
   "execution_count": 969,
   "metadata": {},
   "outputs": [],
   "source": [
    "# Mean monnthly revenue for customers in this group\n",
    "rev = s_mobile.loc[(s_mobile.region == 'CS') & (s_mobile.representative == 1)].revenue.mean()"
   ]
  },
  {
   "cell_type": "code",
   "execution_count": 970,
   "metadata": {},
   "outputs": [],
   "source": [
    "ser_cost = 5"
   ]
  },
  {
   "cell_type": "code",
   "execution_count": 971,
   "metadata": {},
   "outputs": [
    {
     "data": {
      "text/plain": [
       "1261.9996971948126"
      ]
     },
     "execution_count": 971,
     "metadata": {},
     "output_type": "execute_result"
    }
   ],
   "source": [
    "clv_old = clv_calculator(rev,ser_cost,churn)\n",
    "clv_old"
   ]
  },
  {
   "cell_type": "code",
   "execution_count": 972,
   "metadata": {},
   "outputs": [
    {
     "data": {
      "text/plain": [
       "1592.6300374326063"
      ]
     },
     "execution_count": 972,
     "metadata": {},
     "output_type": "execute_result"
    }
   ],
   "source": [
    "clv_new = clv_calculator(rev,ser_cost,new_churn)\n",
    "clv_new"
   ]
  },
  {
   "cell_type": "code",
   "execution_count": 973,
   "metadata": {},
   "outputs": [
    {
     "name": "stdout",
     "output_type": "stream",
     "text": [
      "We can spend atmost SGD 330.63 per customer for the plan today without incurring a loss\n"
     ]
    }
   ],
   "source": [
    "diff = clv_new - clv_old\n",
    "\n",
    "print(f'We can spend atmost SGD {round(diff,2)} per customer for the plan today without incurring a loss')"
   ]
  },
  {
   "cell_type": "code",
   "execution_count": 974,
   "metadata": {},
   "outputs": [],
   "source": [
    "target_perc = s_mobile.loc[(s_mobile.region == 'CS') & (s_mobile.representative == 1)].shape[0] / s_mobile.loc[s_mobile.representative == 1].shape[0]"
   ]
  },
  {
   "cell_type": "code",
   "execution_count": 975,
   "metadata": {},
   "outputs": [
    {
     "name": "stdout",
     "output_type": "stream",
     "text": [
      "We have SGD 65872584.79 to spend on cell phone towers to expand the network in the CS region\n"
     ]
    }
   ],
   "source": [
    "max_spend = target_perc * 1000000 * diff\n",
    "\n",
    "print(f'We have SGD {round(max_spend,2)} to spend on cell phone towers to expand the network in the CS region')"
   ]
  },
  {
   "cell_type": "code",
   "execution_count": 976,
   "metadata": {},
   "outputs": [
    {
     "name": "stdout",
     "output_type": "stream",
     "text": [
      "Leasing land will cost SGD 95835.16 per tower\n"
     ]
    }
   ],
   "source": [
    "# Present value of the land lease\n",
    "\n",
    "payment = np.repeat(2000,60)\n",
    "dis = np.arange(0,60,1)\n",
    "mdr = ((1+0.1)**(1/12))-1\n",
    "pv = payment/((1+mdr)**dis)\n",
    "\n",
    "lease_value = pv.sum()\n",
    "\n",
    "print(f'Leasing land will cost SGD {round(lease_value,2)} per tower')"
   ]
  },
  {
   "cell_type": "markdown",
   "metadata": {},
   "source": [
    "Each tower costs around 250000 SGD to install. Leasing land (or spots on top of buildings) will cost us SGD 95835.16 "
   ]
  },
  {
   "cell_type": "code",
   "execution_count": 977,
   "metadata": {},
   "outputs": [],
   "source": [
    "fixed_install_cost = 20*(250000/(target_perc * 1000000))"
   ]
  },
  {
   "cell_type": "code",
   "execution_count": 978,
   "metadata": {},
   "outputs": [],
   "source": [
    "lease_per_cust = 20*(2000/(target_perc * 1000000))"
   ]
  },
  {
   "cell_type": "markdown",
   "metadata": {},
   "source": [
    "*Incentive Cost per customer*\n",
    "- SGD 0.2 per month for the lease\n",
    "- SGD 25.09 fixed initial installation cost"
   ]
  },
  {
   "cell_type": "code",
   "execution_count": 979,
   "metadata": {},
   "outputs": [],
   "source": [
    "clv_new = clv_calculator(rev,ser_cost,new_churn, inc_cost=lease_per_cust) - fixed_install_cost\n",
    "diff = clv_new - clv_old"
   ]
  },
  {
   "cell_type": "code",
   "execution_count": 980,
   "metadata": {},
   "outputs": [],
   "source": [
    "conc_2 = pd.DataFrame({'plan':['region(CS)'],'clv_old':[clv_old],'clv_new':[clv_new],'clv difference':[diff]})"
   ]
  },
  {
   "cell_type": "code",
   "execution_count": 981,
   "metadata": {},
   "outputs": [
    {
     "data": {
      "text/html": [
       "<div>\n",
       "<style scoped>\n",
       "    .dataframe tbody tr th:only-of-type {\n",
       "        vertical-align: middle;\n",
       "    }\n",
       "\n",
       "    .dataframe tbody tr th {\n",
       "        vertical-align: top;\n",
       "    }\n",
       "\n",
       "    .dataframe thead th {\n",
       "        text-align: right;\n",
       "    }\n",
       "</style>\n",
       "<table border=\"1\" class=\"dataframe\">\n",
       "  <thead>\n",
       "    <tr style=\"text-align: right;\">\n",
       "      <th></th>\n",
       "      <th>plan</th>\n",
       "      <th>clv_old</th>\n",
       "      <th>clv_new</th>\n",
       "      <th>clv difference</th>\n",
       "    </tr>\n",
       "  </thead>\n",
       "  <tbody>\n",
       "    <tr>\n",
       "      <th>0</th>\n",
       "      <td>region(CS)</td>\n",
       "      <td>1261.999697</td>\n",
       "      <td>1561.271056</td>\n",
       "      <td>299.271359</td>\n",
       "    </tr>\n",
       "    <tr>\n",
       "      <th>0</th>\n",
       "      <td>eqpdays</td>\n",
       "      <td>1102.131548</td>\n",
       "      <td>1265.986505</td>\n",
       "      <td>163.854957</td>\n",
       "    </tr>\n",
       "  </tbody>\n",
       "</table>\n",
       "</div>"
      ],
      "text/plain": [
       "         plan      clv_old      clv_new  clv difference\n",
       "0  region(CS)  1261.999697  1561.271056      299.271359\n",
       "0     eqpdays  1102.131548  1265.986505      163.854957"
      ]
     },
     "execution_count": 981,
     "metadata": {},
     "output_type": "execute_result"
    }
   ],
   "source": [
    "conc = conc.append(conc_2)\n",
    "conc.sort_values('clv difference', ascending=False)"
   ]
  },
  {
   "cell_type": "markdown",
   "metadata": {},
   "source": [
    "## Plan 3 - overage"
   ]
  },
  {
   "cell_type": "markdown",
   "metadata": {},
   "source": [
    "### Quesion 3"
   ]
  },
  {
   "cell_type": "markdown",
   "metadata": {},
   "source": [
    "**Understanding the pattern of average spending, minutes of usages and overages**"
   ]
  },
  {
   "cell_type": "code",
   "execution_count": 982,
   "metadata": {},
   "outputs": [
    {
     "name": "stdout",
     "output_type": "stream",
     "text": [
      "Users with no overage have mean mou as 290.22 with a total revenue around SGD 41.37 per month\n"
     ]
    }
   ],
   "source": [
    "#Analysis to understand average spending for users who do not have overtime\n",
    "no_overage_rev= s_mobile.query('overage==0 & training==1')['revenue'].mean()\n",
    "no_overage_mins= s_mobile.query('overage==0 & training==1')['mou'].mean()\n",
    "print(f\"Users with no overage have mean mou as {round(no_overage_mins,2)} with a total revenue around SGD {round(no_overage_rev,2)} per month\")"
   ]
  },
  {
   "cell_type": "code",
   "execution_count": 983,
   "metadata": {},
   "outputs": [
    {
     "name": "stdout",
     "output_type": "stream",
     "text": [
      "Users who have overage have mean mou as 670.19 and overage as 111.87 with a total revenue around SGD 68.11 per month\n"
     ]
    }
   ],
   "source": [
    "#Analysis to understand average spending for users who have overtime\n",
    "overage_rev= s_mobile.query('overage>0 & training==1')['revenue'].mean()\n",
    "total_mins= s_mobile.query('overage>0 & training==1')['mou'].mean()\n",
    "overage_mins= s_mobile.query('overage>0 & training==1')['overage'].mean()\n",
    "print(f\"Users who have overage have mean mou as {round(total_mins,2)} and overage as {round(overage_mins,2)} with a total revenue around SGD {round(overage_rev,2)} per month\")"
   ]
  },
  {
   "cell_type": "code",
   "execution_count": 984,
   "metadata": {},
   "outputs": [
    {
     "name": "stdout",
     "output_type": "stream",
     "text": [
      "The difference in average revenue between overages and no overages is 26.74\n"
     ]
    }
   ],
   "source": [
    "#Difference in average revenues for users with and without overage\n",
    "diff_revenue= overage_rev- no_overage_rev\n",
    "print(f\"The difference in average revenue between overages and no overages is {round(diff_revenue,2)}\")"
   ]
  },
  {
   "cell_type": "code",
   "execution_count": 985,
   "metadata": {},
   "outputs": [
    {
     "data": {
      "text/plain": [
       "overage_bin\n",
       "(0.999, 19.0]     0.033970\n",
       "(19.0, 40.0]      0.050139\n",
       "(40.0, 58.0]      0.042303\n",
       "(58.0, 70.0]      0.019157\n",
       "(70.0, 81.0]      0.023171\n",
       "(81.0, 90.0]      0.017456\n",
       "(90.0, 98.0]      0.021767\n",
       "(98.0, 106.0]     0.020690\n",
       "(106.0, 113.0]    0.030750\n",
       "(113.0, 119.0]    0.023136\n",
       "(119.0, 125.0]    0.013716\n",
       "(125.0, 132.0]    0.013889\n",
       "(132.0, 138.0]    0.021739\n",
       "(138.0, 144.0]    0.020434\n",
       "(144.0, 151.0]    0.013699\n",
       "(151.0, 157.0]    0.027778\n",
       "(157.0, 165.0]    0.018029\n",
       "(165.0, 175.0]    0.023199\n",
       "(175.0, 189.0]    0.023544\n",
       "(189.0, 265.0]    0.031888\n",
       "Name: churn_yes, dtype: float64"
      ]
     },
     "execution_count": 985,
     "metadata": {},
     "output_type": "execute_result"
    }
   ],
   "source": [
    "#We create different bins to check the cut-off point for overage minutes that we need to contact\n",
    "s_mobile_copy = s_mobile.query('representative == 1 & overage>0').copy(deep = True)\n",
    "s_mobile_copy['overage_bin'] = pd.qcut(s_mobile_copy['overage'],20)\n",
    "s_mobile_copy.groupby(['overage_bin'])['churn_yes'].mean()"
   ]
  },
  {
   "cell_type": "markdown",
   "metadata": {},
   "source": [
    "Customers with overage minutes have churn rate higher than 2%. Therefore, we will contact all these users in our offer. Currently, the average revenue from users who do not have overage is 41.3 and for the ones who have overage is 68.1"
   ]
  },
  {
   "cell_type": "markdown",
   "metadata": {},
   "source": [
    "*OVERAGE REDUCTION PLAN*\n",
    "1. This plan will target all customers who have overages i.e overages>0 in our dataset\n",
    "2. The plan will cover an additional 100 minutes above the current plan for every user. The reason we chose 100 minutes is because average overage minutes around 111 minutes and we have taken a value slightly lower than that\n",
    "3. Currently, difference in revenues between overages(SGD 68) and non-overages(SGD 41) is SGD 27. We will only charge 2/3rd of this to the customers i.e SGD 18. Thus, the plan will cost SGD (41+18)= SGD 59\n",
    "4. As an additional incentive, we will also provide additional internet plans"
   ]
  },
  {
   "cell_type": "markdown",
   "metadata": {},
   "source": [
    "### Question 4"
   ]
  },
  {
   "cell_type": "code",
   "execution_count": 986,
   "metadata": {},
   "outputs": [
    {
     "data": {
      "text/html": [
       "<div>\n",
       "<style scoped>\n",
       "    .dataframe tbody tr th:only-of-type {\n",
       "        vertical-align: middle;\n",
       "    }\n",
       "\n",
       "    .dataframe tbody tr th {\n",
       "        vertical-align: top;\n",
       "    }\n",
       "\n",
       "    .dataframe thead th {\n",
       "        text-align: right;\n",
       "    }\n",
       "</style>\n",
       "<table border=\"1\" class=\"dataframe\">\n",
       "  <thead>\n",
       "    <tr style=\"text-align: right;\">\n",
       "      <th></th>\n",
       "      <th>churn_yes</th>\n",
       "      <th>p_overage0</th>\n",
       "    </tr>\n",
       "  </thead>\n",
       "  <tbody>\n",
       "    <tr>\n",
       "      <th>count</th>\n",
       "      <td>16264.0000</td>\n",
       "      <td>16264.000</td>\n",
       "    </tr>\n",
       "    <tr>\n",
       "      <th>mean</th>\n",
       "      <td>0.0243</td>\n",
       "      <td>0.014</td>\n",
       "    </tr>\n",
       "  </tbody>\n",
       "</table>\n",
       "</div>"
      ],
      "text/plain": [
       "        churn_yes  p_overage0\n",
       "count  16264.0000   16264.000\n",
       "mean       0.0243       0.014"
      ]
     },
     "execution_count": 986,
     "metadata": {},
     "output_type": "execute_result"
    }
   ],
   "source": [
    "# impact of eliminating overage on churn probability\n",
    "smobile_rep = s_mobile.query(\"representative == 1\").copy()\n",
    "smobile_rep[\"p_overage0\"] = lr.predict(s_mobile[s_mobile.representative == 1].assign(overage=0))\n",
    "comparison= smobile_rep.loc[smobile_rep.overage > 0, [\"churn_yes\", \"p_overage0\"]].agg(\n",
    "    [\"count\", \"mean\"]\n",
    ").round(4)\n",
    "comparison"
   ]
  },
  {
   "cell_type": "markdown",
   "metadata": {},
   "source": [
    "### Question 5"
   ]
  },
  {
   "cell_type": "markdown",
   "metadata": {},
   "source": [
    "The plan will be targeted to all customers who have overages i.e overage>0"
   ]
  },
  {
   "cell_type": "markdown",
   "metadata": {},
   "source": [
    "### Question 6"
   ]
  },
  {
   "cell_type": "code",
   "execution_count": 987,
   "metadata": {},
   "outputs": [],
   "source": [
    "#Churn variables from previous calculation\n",
    "old_churn= comparison.iloc[1,0]\n",
    "new_churn= comparison.iloc[1,1]"
   ]
  },
  {
   "cell_type": "code",
   "execution_count": 988,
   "metadata": {},
   "outputs": [],
   "source": [
    "#Old CLV\n",
    "rev= s_mobile.query('overage>0')['revenue'].mean()\n",
    "incentive_cost= 0\n",
    "ser_cost=5\n",
    "old_clv= clv_calculator(rev,ser_cost,old_churn,inc_cost= incentive_cost)"
   ]
  },
  {
   "cell_type": "code",
   "execution_count": 989,
   "metadata": {},
   "outputs": [
    {
     "name": "stdout",
     "output_type": "stream",
     "text": [
      "Maximum discount that we can offer per month per customer on this plan is 12.95 SGD\n"
     ]
    }
   ],
   "source": [
    "# Finding maximum recurring incentive cost\n",
    "inc_cost = []\n",
    "\n",
    "for i in np.arange(1,20,0.001):\n",
    "    if abs(clv_calculator(rev,ser_cost,new_churn, inc_cost=i)-old_clv) < 0.02:\n",
    "        inc_cost.append(i)\n",
    "\n",
    "max_inc_cost = np.mean(inc_cost)\n",
    "\n",
    "print(f'Maximum discount that we can offer per month per customer on this plan is {round(max_inc_cost,2)} SGD')"
   ]
  },
  {
   "cell_type": "code",
   "execution_count": 990,
   "metadata": {},
   "outputs": [
    {
     "data": {
      "text/plain": [
       "8.911753554687246"
      ]
     },
     "execution_count": 990,
     "metadata": {},
     "output_type": "execute_result"
    }
   ],
   "source": [
    "incentive_cost= (diff_revenue)/3\n",
    "incentive_cost"
   ]
  },
  {
   "cell_type": "markdown",
   "metadata": {},
   "source": [
    "We plan to give a discount of SGD 9 per month which is lower than the maximum discount we can offer to break-even with old CLV"
   ]
  },
  {
   "cell_type": "markdown",
   "metadata": {},
   "source": [
    "*Incentive Cost per customer*\n",
    "- SGD 9 per month discount"
   ]
  },
  {
   "cell_type": "code",
   "execution_count": 991,
   "metadata": {},
   "outputs": [],
   "source": [
    "#New CLV\n",
    "rev= s_mobile.query('overage>0')['revenue'].mean()\n",
    "serv_cost=5\n",
    "new_clv= clv_calculator(rev,ser_cost,inc_cost= incentive_cost, churn= new_churn)"
   ]
  },
  {
   "cell_type": "code",
   "execution_count": 992,
   "metadata": {},
   "outputs": [
    {
     "name": "stdout",
     "output_type": "stream",
     "text": [
      "We can spend atmost 135.8 SGD per customer for the incentive plan without incurring a loss\n"
     ]
    }
   ],
   "source": [
    "diff = new_clv - old_clv\n",
    "\n",
    "print(f'We can spend atmost {round(diff,2)} SGD per customer for the incentive plan without incurring a loss')"
   ]
  },
  {
   "cell_type": "code",
   "execution_count": 993,
   "metadata": {},
   "outputs": [],
   "source": [
    "conc_3 = pd.DataFrame({'plan':['overage'],'clv_old':[old_clv],'clv_new':[new_clv],'clv difference':[diff]})"
   ]
  },
  {
   "cell_type": "code",
   "execution_count": 994,
   "metadata": {},
   "outputs": [
    {
     "data": {
      "text/html": [
       "<div>\n",
       "<style scoped>\n",
       "    .dataframe tbody tr th:only-of-type {\n",
       "        vertical-align: middle;\n",
       "    }\n",
       "\n",
       "    .dataframe tbody tr th {\n",
       "        vertical-align: top;\n",
       "    }\n",
       "\n",
       "    .dataframe thead th {\n",
       "        text-align: right;\n",
       "    }\n",
       "</style>\n",
       "<table border=\"1\" class=\"dataframe\">\n",
       "  <thead>\n",
       "    <tr style=\"text-align: right;\">\n",
       "      <th></th>\n",
       "      <th>plan</th>\n",
       "      <th>clv_old</th>\n",
       "      <th>clv_new</th>\n",
       "      <th>clv difference</th>\n",
       "    </tr>\n",
       "  </thead>\n",
       "  <tbody>\n",
       "    <tr>\n",
       "      <th>0</th>\n",
       "      <td>region(CS)</td>\n",
       "      <td>1261.999697</td>\n",
       "      <td>1561.271056</td>\n",
       "      <td>299.271359</td>\n",
       "    </tr>\n",
       "    <tr>\n",
       "      <th>0</th>\n",
       "      <td>eqpdays</td>\n",
       "      <td>1102.131548</td>\n",
       "      <td>1265.986505</td>\n",
       "      <td>163.854957</td>\n",
       "    </tr>\n",
       "    <tr>\n",
       "      <th>0</th>\n",
       "      <td>overage</td>\n",
       "      <td>1704.909352</td>\n",
       "      <td>1840.705131</td>\n",
       "      <td>135.795779</td>\n",
       "    </tr>\n",
       "  </tbody>\n",
       "</table>\n",
       "</div>"
      ],
      "text/plain": [
       "         plan      clv_old      clv_new  clv difference\n",
       "0  region(CS)  1261.999697  1561.271056      299.271359\n",
       "0     eqpdays  1102.131548  1265.986505      163.854957\n",
       "0     overage  1704.909352  1840.705131      135.795779"
      ]
     },
     "execution_count": 994,
     "metadata": {},
     "output_type": "execute_result"
    }
   ],
   "source": [
    "conc = conc.append(conc_3)\n",
    "conc.sort_values('clv difference', ascending=False)"
   ]
  },
  {
   "cell_type": "markdown",
   "metadata": {},
   "source": [
    "## Plan - 4 - occupation(student)"
   ]
  },
  {
   "cell_type": "markdown",
   "metadata": {},
   "source": [
    "### Question 3"
   ]
  },
  {
   "cell_type": "markdown",
   "metadata": {},
   "source": [
    "After looking at average revenues for different occupation categories, we found that student pay much higher than professionals and retired. Hence, we suspect that the students pay prices that are higher than they can afford which is why they have high churn rates. We plan to give them some student discount to lower their financial burden. After running a randomized controlled trial we found that the churn rate lowers to that of professionals.  <br><br>\n",
    "*STUDENT DISCOUNT PLAN* <br>\n",
    "Student can go to student discount website and verify their identity using their college ID cards and .edu email ID. We can partner with companies like SheerID or Unidays to do this. Once the identity is verified, the student will receive a coupon code which can be applied at the website or store they are purchasing the plan from to get a discount. <br>\n"
   ]
  },
  {
   "cell_type": "markdown",
   "metadata": {},
   "source": [
    "*Service Cost per Student = SGD 5* \n",
    "- SGD 1 for technical development\n",
    "- SGD 1 for operational training\n",
    "- SGD 3 for Miscellaneous"
   ]
  },
  {
   "cell_type": "code",
   "execution_count": 995,
   "metadata": {},
   "outputs": [
    {
     "data": {
      "text/plain": [
       "occupation\n",
       "other           61.790678\n",
       "professional    51.852151\n",
       "student         56.229141\n",
       "retired         39.556346\n",
       "Name: revenue, dtype: float64"
      ]
     },
     "execution_count": 995,
     "metadata": {},
     "output_type": "execute_result"
    }
   ],
   "source": [
    "s_mobile[s_mobile.representative == 1].groupby('occupation')['revenue'].mean()"
   ]
  },
  {
   "cell_type": "markdown",
   "metadata": {},
   "source": [
    "Here we see that the student's have second highest average monthly revenue"
   ]
  },
  {
   "cell_type": "markdown",
   "metadata": {},
   "source": [
    "### Question 4\n",
    "* The current churn rate for student subscribers is 4.17% and after the discount it will reduce by 1.45%.\n",
    "* Elaborating on the experiment, we divided the student subscribers into two randomized groups and gave a SGD 8 discount to one of the groups and found that the churn rates decreased and is closer to the overall churn rate of the professionals."
   ]
  },
  {
   "cell_type": "code",
   "execution_count": 996,
   "metadata": {},
   "outputs": [
    {
     "name": "stdout",
     "output_type": "stream",
     "text": [
      "The mean monthly churn rate for students in the representative data is 4.17%\n"
     ]
    }
   ],
   "source": [
    "# Mean monnthly churn rate for those above average churn in our data\n",
    "student_churn = s_mobile.loc[(s_mobile.occupation== 'student') & (s_mobile.representative == 1)].churn_yes.mean()\n",
    "print(f'The mean monthly churn rate for students in the representative data is {round(student_churn*100,2)}%')"
   ]
  },
  {
   "cell_type": "code",
   "execution_count": 997,
   "metadata": {},
   "outputs": [
    {
     "name": "stdout",
     "output_type": "stream",
     "text": [
      "The mean monthly churn rate for students whose occupation has been simulated to look like the Professionals in the representative data is 2.72%\n"
     ]
    }
   ],
   "source": [
    "# Mean monthly churn rate after setting occupation of students to professional\n",
    "\n",
    "new_churn = lr.predict(s_mobile.loc[(s_mobile.occupation == 'student') & (s_mobile.representative == 1)].assign(occupation='professional')).mean()\n",
    "\n",
    "print(f'The mean monthly churn rate for students whose occupation has been simulated to look like the Professionals in the representative data is {round(new_churn*100,2)}%')"
   ]
  },
  {
   "cell_type": "code",
   "execution_count": 998,
   "metadata": {},
   "outputs": [
    {
     "name": "stdout",
     "output_type": "stream",
     "text": [
      "The projected impact of our plan on churn is a reduction of 1.45% for this subset of people\n"
     ]
    }
   ],
   "source": [
    "print(f'The projected impact of our plan on churn is a reduction of {round((student_churn-new_churn)*100,2)}% for this subset of people')"
   ]
  },
  {
   "cell_type": "markdown",
   "metadata": {},
   "source": [
    "### Question 5\n",
    "The plan is purely targeted to the students subscribers. (i.e. 'student' level in the occupation variable). The motivation to do this is that we see a significantly higher churn rate in the student subscribers and we suspect that it is because the prices of plans are little higher for them. Also, the average revenue of the students is higher than retired and professionals, hence any change in churn rate of the students will be extremely profitable for the company"
   ]
  },
  {
   "cell_type": "markdown",
   "metadata": {},
   "source": [
    "### Question 6"
   ]
  },
  {
   "cell_type": "code",
   "execution_count": 999,
   "metadata": {},
   "outputs": [
    {
     "data": {
      "text/plain": [
       "989.1274354362118"
      ]
     },
     "execution_count": 999,
     "metadata": {},
     "output_type": "execute_result"
    }
   ],
   "source": [
    "rev = s_mobile.loc[(s_mobile.occupation == 'student') & (s_mobile.representative == 1)].revenue.mean()\n",
    "ser_cost = 5\n",
    "clv_old = clv_calculator(rev,ser_cost,student_churn)\n",
    "clv_old"
   ]
  },
  {
   "cell_type": "code",
   "execution_count": 1000,
   "metadata": {},
   "outputs": [
    {
     "data": {
      "text/plain": [
       "1293.5710819460874"
      ]
     },
     "execution_count": 1000,
     "metadata": {},
     "output_type": "execute_result"
    }
   ],
   "source": [
    "clv_new = clv_calculator(rev,ser_cost,new_churn)\n",
    "clv_new"
   ]
  },
  {
   "cell_type": "code",
   "execution_count": 1001,
   "metadata": {},
   "outputs": [
    {
     "name": "stdout",
     "output_type": "stream",
     "text": [
      "We can spend atmost 304.44 SGD per customer for the incentive today without incurring a loss\n"
     ]
    }
   ],
   "source": [
    "diff = clv_new - clv_old\n",
    "\n",
    "print(f'We can spend atmost {round(diff,2)} SGD per customer for the incentive today without incurring a loss')"
   ]
  },
  {
   "cell_type": "markdown",
   "metadata": {},
   "source": [
    "*Incentive Cost*\n",
    "- SGD 5 Discount\n",
    "- SGD 1 Partnership with Unidays/SheerID"
   ]
  },
  {
   "cell_type": "code",
   "execution_count": 1002,
   "metadata": {},
   "outputs": [],
   "source": [
    "clv_new = clv_calculator(rev,ser_cost,new_churn, inc_cost=6)\n",
    "diff = clv_new-clv_old"
   ]
  },
  {
   "cell_type": "code",
   "execution_count": 1003,
   "metadata": {},
   "outputs": [],
   "source": [
    "conc_4 = pd.DataFrame({'plan':['occupation(student)'],'clv_old':[clv_old],'clv_new':[clv_new],'clv difference':[diff]})"
   ]
  },
  {
   "cell_type": "code",
   "execution_count": 1004,
   "metadata": {},
   "outputs": [
    {
     "data": {
      "text/html": [
       "<div>\n",
       "<style scoped>\n",
       "    .dataframe tbody tr th:only-of-type {\n",
       "        vertical-align: middle;\n",
       "    }\n",
       "\n",
       "    .dataframe tbody tr th {\n",
       "        vertical-align: top;\n",
       "    }\n",
       "\n",
       "    .dataframe thead th {\n",
       "        text-align: right;\n",
       "    }\n",
       "</style>\n",
       "<table border=\"1\" class=\"dataframe\">\n",
       "  <thead>\n",
       "    <tr style=\"text-align: right;\">\n",
       "      <th></th>\n",
       "      <th>plan</th>\n",
       "      <th>clv_old</th>\n",
       "      <th>clv_new</th>\n",
       "      <th>clv difference</th>\n",
       "    </tr>\n",
       "  </thead>\n",
       "  <tbody>\n",
       "    <tr>\n",
       "      <th>0</th>\n",
       "      <td>region(CS)</td>\n",
       "      <td>1261.999697</td>\n",
       "      <td>1561.271056</td>\n",
       "      <td>299.271359</td>\n",
       "    </tr>\n",
       "    <tr>\n",
       "      <th>0</th>\n",
       "      <td>eqpdays</td>\n",
       "      <td>1102.131548</td>\n",
       "      <td>1265.986505</td>\n",
       "      <td>163.854957</td>\n",
       "    </tr>\n",
       "    <tr>\n",
       "      <th>0</th>\n",
       "      <td>occupation(student)</td>\n",
       "      <td>989.127435</td>\n",
       "      <td>1142.066952</td>\n",
       "      <td>152.939517</td>\n",
       "    </tr>\n",
       "    <tr>\n",
       "      <th>0</th>\n",
       "      <td>overage</td>\n",
       "      <td>1704.909352</td>\n",
       "      <td>1840.705131</td>\n",
       "      <td>135.795779</td>\n",
       "    </tr>\n",
       "  </tbody>\n",
       "</table>\n",
       "</div>"
      ],
      "text/plain": [
       "                  plan      clv_old      clv_new  clv difference\n",
       "0           region(CS)  1261.999697  1561.271056      299.271359\n",
       "0              eqpdays  1102.131548  1265.986505      163.854957\n",
       "0  occupation(student)   989.127435  1142.066952      152.939517\n",
       "0              overage  1704.909352  1840.705131      135.795779"
      ]
     },
     "execution_count": 1004,
     "metadata": {},
     "output_type": "execute_result"
    }
   ],
   "source": [
    "conc = conc.append(conc_4)\n",
    "conc.sort_values('clv difference', ascending=False)"
   ]
  },
  {
   "cell_type": "markdown",
   "metadata": {},
   "source": [
    "## Plan 5 - mou"
   ]
  },
  {
   "cell_type": "markdown",
   "metadata": {},
   "source": [
    "### Question 3"
   ]
  },
  {
   "cell_type": "code",
   "execution_count": 1005,
   "metadata": {},
   "outputs": [],
   "source": [
    "s_mobile_rep = s_mobile.query(\"representative == 1\").copy()\n"
   ]
  },
  {
   "cell_type": "code",
   "execution_count": 1006,
   "metadata": {},
   "outputs": [
    {
     "data": {
      "text/plain": [
       "mean     540.767067\n",
       "std      536.368824\n",
       "min        0.000000\n",
       "max     7359.000000\n",
       "Name: mou, dtype: float64"
      ]
     },
     "execution_count": 1006,
     "metadata": {},
     "output_type": "execute_result"
    }
   ],
   "source": [
    "s_mobile_rep.mou.agg([\"mean\", \"std\", \"min\", \"max\"])"
   ]
  },
  {
   "cell_type": "code",
   "execution_count": 1007,
   "metadata": {},
   "outputs": [
    {
     "data": {
      "text/plain": [
       "mou_bars\n",
       "(-0.001, 61.0]      0.028249\n",
       "(61.0, 132.0]       0.025734\n",
       "(132.0, 206.0]      0.024048\n",
       "(206.0, 285.0]      0.019852\n",
       "(285.0, 378.0]      0.018543\n",
       "(378.0, 490.0]      0.017126\n",
       "(490.0, 642.0]      0.019346\n",
       "(642.0, 862.0]      0.016944\n",
       "(862.0, 1231.0]     0.016388\n",
       "(1231.0, 7359.0]    0.013676\n",
       "Name: churn_yes, dtype: float64"
      ]
     },
     "execution_count": 1007,
     "metadata": {},
     "output_type": "execute_result"
    }
   ],
   "source": [
    "s_mobile_rep['mou_bars'] = pd.qcut(s_mobile_rep['mou'],10)\n",
    "\n",
    "s_mobile_rep.groupby(['mou_bars'])['churn_yes'].mean()"
   ]
  },
  {
   "cell_type": "markdown",
   "metadata": {},
   "source": [
    "- As we can observe in our importance table, MOU(mean montly minutes of usage) is a big contributor to churn. With one unit increase in MOU, odds of someone churning decreases by a factor of 0.656 or by 34.4%, holding all else constant\n",
    "- Hence our objective is to increase MOU for our customers and consequently reducing churn\n",
    "- As we can see in the above table, customers with MOU less than 200 have over 2% of churn. Hence,we only target customers with mou<200"
   ]
  },
  {
   "cell_type": "markdown",
   "metadata": {},
   "source": [
    "*MOU IMPROVEMENT PLAN*\n",
    "1. For customers with mou<200, we assume that by giving discounts on their plan and providing free additional minutes, they will tend to use our service more which will increase mou\n",
    "2. We will assume that their mou will increase to the average mou for the representative data. This will consequently reduce churn.\n",
    "3. Based on our CLV calculation later, we will decide on the appropriate discount"
   ]
  },
  {
   "cell_type": "markdown",
   "metadata": {},
   "source": [
    "### Question 4"
   ]
  },
  {
   "cell_type": "code",
   "execution_count": 1008,
   "metadata": {},
   "outputs": [],
   "source": [
    "s_mobile_rep = s_mobile.query(\"representative == 1\").copy()"
   ]
  },
  {
   "cell_type": "code",
   "execution_count": 1009,
   "metadata": {},
   "outputs": [
    {
     "data": {
      "text/html": [
       "<div>\n",
       "<style scoped>\n",
       "    .dataframe tbody tr th:only-of-type {\n",
       "        vertical-align: middle;\n",
       "    }\n",
       "\n",
       "    .dataframe tbody tr th {\n",
       "        vertical-align: top;\n",
       "    }\n",
       "\n",
       "    .dataframe thead th {\n",
       "        text-align: right;\n",
       "    }\n",
       "</style>\n",
       "<table border=\"1\" class=\"dataframe\">\n",
       "  <thead>\n",
       "    <tr style=\"text-align: right;\">\n",
       "      <th></th>\n",
       "      <th>churn_yes</th>\n",
       "      <th>mou_mean</th>\n",
       "    </tr>\n",
       "  </thead>\n",
       "  <tbody>\n",
       "    <tr>\n",
       "      <th>count</th>\n",
       "      <td>8736.000</td>\n",
       "      <td>8736.000</td>\n",
       "    </tr>\n",
       "    <tr>\n",
       "      <th>mean</th>\n",
       "      <td>0.026</td>\n",
       "      <td>0.018</td>\n",
       "    </tr>\n",
       "  </tbody>\n",
       "</table>\n",
       "</div>"
      ],
      "text/plain": [
       "       churn_yes  mou_mean\n",
       "count   8736.000  8736.000\n",
       "mean       0.026     0.018"
      ]
     },
     "execution_count": 1009,
     "metadata": {},
     "output_type": "execute_result"
    }
   ],
   "source": [
    "# assigning mou to average mou = 540 to simulate the effect of offering the deal\n",
    "s_mobile_rep[\"mou_mean\"] = lr.predict(s_mobile[s_mobile.representative == 1].assign(mou=540))\n",
    "\n",
    "#seeing the difference in churn % before and after the effects of offering the deal. The deal is only offered to customers in representative data whose mou is less than 200\n",
    "s_mobile_rep.loc[s_mobile_rep.mou < 200, [\"churn_yes\", \"mou_mean\"]].agg(\n",
    "    [\"count\", \"mean\"]\n",
    ").round(4)"
   ]
  },
  {
   "cell_type": "markdown",
   "metadata": {},
   "source": [
    "### Question 5\n",
    "We target customers whose mou is less than 200"
   ]
  },
  {
   "cell_type": "markdown",
   "metadata": {},
   "source": [
    "### Question 6"
   ]
  },
  {
   "cell_type": "code",
   "execution_count": 1010,
   "metadata": {},
   "outputs": [],
   "source": [
    "# Mean monnthly revenue for customers in this group\n",
    "rev= s_mobile[(s_mobile.mou<200) & (s_mobile.representative == 1)].revenue.mean()"
   ]
  },
  {
   "cell_type": "code",
   "execution_count": 1011,
   "metadata": {},
   "outputs": [
    {
     "data": {
      "text/plain": [
       "31.979281135531135"
      ]
     },
     "execution_count": 1011,
     "metadata": {},
     "output_type": "execute_result"
    }
   ],
   "source": [
    "rev"
   ]
  },
  {
   "cell_type": "code",
   "execution_count": 1012,
   "metadata": {},
   "outputs": [],
   "source": [
    "ser_cost = 5"
   ]
  },
  {
   "cell_type": "code",
   "execution_count": 1013,
   "metadata": {},
   "outputs": [
    {
     "data": {
      "text/plain": [
       "698.1376317003111"
      ]
     },
     "execution_count": 1013,
     "metadata": {},
     "output_type": "execute_result"
    }
   ],
   "source": [
    "#clv with old churn rate\n",
    "clv_old = clv_calculator(rev,ser_cost,0.026)\n",
    "clv_old"
   ]
  },
  {
   "cell_type": "code",
   "execution_count": 1014,
   "metadata": {},
   "outputs": [
    {
     "data": {
      "text/plain": [
       "828.3732886869798"
      ]
     },
     "execution_count": 1014,
     "metadata": {},
     "output_type": "execute_result"
    }
   ],
   "source": [
    "#clv with new improved churn rate\n",
    "clv_new = clv_calculator(rev,ser_cost,0.018)\n",
    "clv_new"
   ]
  },
  {
   "cell_type": "code",
   "execution_count": 1015,
   "metadata": {},
   "outputs": [
    {
     "name": "stdout",
     "output_type": "stream",
     "text": [
      "We can spend atmost 130.24 SGD per customer for the incentive today without incurring a loss\n"
     ]
    }
   ],
   "source": [
    "# diff in CLV\n",
    "diff = clv_new - clv_old\n",
    "\n",
    "print(f'We can spend atmost {round(diff,2)} SGD per customer for the incentive today without incurring a loss')"
   ]
  },
  {
   "cell_type": "code",
   "execution_count": 1016,
   "metadata": {},
   "outputs": [
    {
     "name": "stdout",
     "output_type": "stream",
     "text": [
      "Maximum discount that we can offer per month per customer on this incentive plan is 4.24 SGD\n"
     ]
    }
   ],
   "source": [
    "# Finding maximum recurring incentive cost\n",
    "\n",
    "inc_cost = []\n",
    "\n",
    "for i in np.arange(1,20,0.001):\n",
    "    clv = clv_old\n",
    "    \n",
    "    if abs(clv_calculator(rev,ser_cost,0.018, inc_cost=i)-clv) < 0.02:\n",
    "        inc_cost.append(i)\n",
    "\n",
    "max_inc_cost = np.mean(inc_cost)\n",
    "\n",
    "print(f'Maximum discount that we can offer per month per customer on this incentive plan is {round(max_inc_cost,2)} SGD')"
   ]
  },
  {
   "cell_type": "markdown",
   "metadata": {},
   "source": [
    "We will offer monthly discount that is 10% of avg revenue for customers in rep data with mou<200 which is approx SGD 3. We will also offer SGD 0.5 worth of free additional minutes (less than the next best plan).That will be equivalent to incurring SGD 3.5 additional charges monthly"
   ]
  },
  {
   "cell_type": "markdown",
   "metadata": {},
   "source": [
    "*Incentive Cost*\n",
    "- SGD 3 Discount\n",
    "- SGD 0.5 worth of additional minutes"
   ]
  },
  {
   "cell_type": "code",
   "execution_count": 1017,
   "metadata": {},
   "outputs": [],
   "source": [
    "#clv with new improved churn rate\n",
    "clv_new = clv_calculator(rev,ser_cost,0.018, inc_cost=3.5)\n",
    "diff = clv_new-clv_old"
   ]
  },
  {
   "cell_type": "code",
   "execution_count": 1018,
   "metadata": {},
   "outputs": [],
   "source": [
    "conc_5 = pd.DataFrame({'plan':['mou'],'clv_old':[clv_old],'clv_new':[clv_new],'clv difference':[diff]})"
   ]
  },
  {
   "cell_type": "code",
   "execution_count": 1019,
   "metadata": {},
   "outputs": [],
   "source": [
    "conc = conc.append(conc_5)"
   ]
  },
  {
   "cell_type": "markdown",
   "metadata": {},
   "source": [
    "## Conclusion"
   ]
  },
  {
   "cell_type": "code",
   "execution_count": 1020,
   "metadata": {},
   "outputs": [
    {
     "data": {
      "text/html": [
       "<div>\n",
       "<style scoped>\n",
       "    .dataframe tbody tr th:only-of-type {\n",
       "        vertical-align: middle;\n",
       "    }\n",
       "\n",
       "    .dataframe tbody tr th {\n",
       "        vertical-align: top;\n",
       "    }\n",
       "\n",
       "    .dataframe thead th {\n",
       "        text-align: right;\n",
       "    }\n",
       "</style>\n",
       "<table border=\"1\" class=\"dataframe\">\n",
       "  <thead>\n",
       "    <tr style=\"text-align: right;\">\n",
       "      <th></th>\n",
       "      <th>plan</th>\n",
       "      <th>clv_old</th>\n",
       "      <th>clv_new</th>\n",
       "      <th>clv difference</th>\n",
       "    </tr>\n",
       "  </thead>\n",
       "  <tbody>\n",
       "    <tr>\n",
       "      <th>0</th>\n",
       "      <td>region(CS)</td>\n",
       "      <td>1261.999697</td>\n",
       "      <td>1561.271056</td>\n",
       "      <td>299.271359</td>\n",
       "    </tr>\n",
       "    <tr>\n",
       "      <th>0</th>\n",
       "      <td>eqpdays</td>\n",
       "      <td>1102.131548</td>\n",
       "      <td>1265.986505</td>\n",
       "      <td>163.854957</td>\n",
       "    </tr>\n",
       "    <tr>\n",
       "      <th>0</th>\n",
       "      <td>occupation(student)</td>\n",
       "      <td>989.127435</td>\n",
       "      <td>1142.066952</td>\n",
       "      <td>152.939517</td>\n",
       "    </tr>\n",
       "    <tr>\n",
       "      <th>0</th>\n",
       "      <td>overage</td>\n",
       "      <td>1704.909352</td>\n",
       "      <td>1840.705131</td>\n",
       "      <td>135.795779</td>\n",
       "    </tr>\n",
       "    <tr>\n",
       "      <th>0</th>\n",
       "      <td>mou</td>\n",
       "      <td>698.137632</td>\n",
       "      <td>720.909102</td>\n",
       "      <td>22.771470</td>\n",
       "    </tr>\n",
       "  </tbody>\n",
       "</table>\n",
       "</div>"
      ],
      "text/plain": [
       "                  plan      clv_old      clv_new  clv difference\n",
       "0           region(CS)  1261.999697  1561.271056      299.271359\n",
       "0              eqpdays  1102.131548  1265.986505      163.854957\n",
       "0  occupation(student)   989.127435  1142.066952      152.939517\n",
       "0              overage  1704.909352  1840.705131      135.795779\n",
       "0                  mou   698.137632   720.909102       22.771470"
      ]
     },
     "execution_count": 1020,
     "metadata": {},
     "output_type": "execute_result"
    }
   ],
   "source": [
    "conc.sort_values('clv difference', ascending=False)"
   ]
  },
  {
   "cell_type": "markdown",
   "metadata": {},
   "source": [
    "- From the table above we can we see that region(CS) plan brings us the most value for money\n",
    "- the eqpdays and occupation(student) plans are the next best plans in terms of value for money"
   ]
  }
 ],
 "metadata": {
  "kernelspec": {
   "display_name": "Python 3",
   "language": "python",
   "name": "python3"
  },
  "language_info": {
   "codemirror_mode": {
    "name": "ipython",
    "version": 3
   },
   "file_extension": ".py",
   "mimetype": "text/x-python",
   "name": "python",
   "nbconvert_exporter": "python",
   "pygments_lexer": "ipython3",
   "version": "3.8.5"
  }
 },
 "nbformat": 4,
 "nbformat_minor": 4
}
