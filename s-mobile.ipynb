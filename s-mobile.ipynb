{
 "cells": [
  {
   "cell_type": "markdown",
   "metadata": {},
   "source": [
    "## S-Mobile: Predicting Customer Churn\n",
    "* Team-lead GitLab id:\n",
    "* Group name:\n",
    "* Team member names:"
   ]
  },
  {
   "cell_type": "markdown",
   "metadata": {},
   "source": [
    "## Setup\n",
    "\n",
    "Please complete this Jupyter notebook by answering the questions in `s-mobile.pdf` on Canvas (week9/). Create a Notebook and HTML file with all your results and comments and push both the Notebook and HTML file to GitLab when your team is done. All results MUST be reproducible (i.e., the TA and I must be able to recreate the HTML from the Jupyter Notebook file without changes or errors). This means that you should NOT use any python-packages that are not part of the rsm-msba-spark docker container.\n",
    "\n",
    "This is the fourth group assignment for MGTA 455 and you will be using git and GitLab. If two people edit the same file at the same time you could get what is called a \"merge conflict\". git will not decide for you who's change to accept so the team-lead will have to determine which edits to use. To avoid merge conflicts, **always** \"pull\" changes to the repo before you start working on any files. Then, when you are done, save and commit your changes, and then push them to GitLab. Make \"pull first\" a habit!"
   ]
  },
  {
   "cell_type": "code",
   "execution_count": 1,
   "metadata": {},
   "outputs": [],
   "source": [
    "import matplotlib as mpl\n",
    "import matplotlib.pyplot as plt\n",
    "import numpy as np\n",
    "import pandas as pd\n",
    "import pyrsm as rsm\n",
    "import statsmodels.formula.api as smf\n",
    "from sklearn import preprocessing\n",
    "from statsmodels.genmod.families import Binomial\n",
    "from statsmodels.genmod.families.links import logit\n",
    "\n",
    "# increase plot resolution\n",
    "# mpl.rcParams[\"figure.dpi\"] = 150"
   ]
  },
  {
   "cell_type": "code",
   "execution_count": 8,
   "metadata": {},
   "outputs": [],
   "source": [
    "## load the data - this dataset must NOT be changed\n",
    "s_mobile = pd.read_pickle(\"data/s_mobile.pkl\")\n",
    "s_mobile[\"churn_yes\"] = (s_mobile[\"churn\"] == \"yes\").astype(int)"
   ]
  },
  {
   "cell_type": "markdown",
   "metadata": {},
   "source": [
    "If you want access to the full 5M row dataset, use the dropbox link below.\n",
    "\n",
    "https://www.dropbox.com/s/eli6a1q6qisacci/s_mobile_1M.pkl?dl=1\n",
    "\n",
    "The downside to using the dataset with 1M rows is, of course, that estimation time will increase substantially. I do NOT recommend you use this dataset to select your final model or for tuning hyper parameters. You can, however, use this larger dataset to re-estimate your chosen model and generate profit estimates for the representative sample."
   ]
  },
  {
   "cell_type": "code",
   "execution_count": 3,
   "metadata": {},
   "outputs": [
    {
     "data": {
      "text/markdown": [
       "## S-mobile\n",
       "\n",
       "Dataset used to investigate opportunities to decrease customer churn at S-mobile. The sample consists of three parts:\n",
       "\n",
       "1. A training sample with 27,300 observations and a 50% churn rate (\"training == 1\")\n",
       "2. A test sample with 11,700 observations and a 50% churn rate (\"training == 0\")\n",
       "3. A representative sample with 30,000 observations and a churn rate of 2%, i.e., the actual monthly churn rate for S-mobile (\"is.na(training)\" or \"representative == 1\")\n",
       "\n",
       "## Variables\n",
       "\n",
       "* customer: Customer ID\n",
       "* churn: Did consumer churn in the last 30 days? (yes or no)\n",
       "* changer: % change in revenue over the most recent 4 month period\n",
       "* changem: % change in minutes of use over the most recent 4 month period\n",
       "* revenue: Mean monthly revenue in SGD\n",
       "* mou: Mean monthly minutes of use\n",
       "* overage: Mean monthly overage minutes\n",
       "* roam: Mean number of roaming calls\n",
       "* conference: Mean number of conference calls\n",
       "* months: # of months the customer has had service with S-Mobile\n",
       "* uniqsubs: Number of individuals listed on the customer account\n",
       "* custcare: Mean number of calls to customer care \n",
       "* retcalls: Number of calls by the customer to the retention team\n",
       "* dropvce: Mean number of dropped voice calls \n",
       "* eqpdays: Number of days customer has owned current handset\n",
       "* refurb: Handset is refurbished (no or yes)\n",
       "* smartphone: Handset is a smartphone (no or yes)\n",
       "* creditr: High credit rating as opposed to medium or low (no or yes)\n",
       "* mcycle: Subscriber owns a motorcycle (no or yes)\n",
       "* car: Subscriber owns a car (no or yes)\n",
       "* travel: Subscriber has traveled internationally (no or yes)\n",
       "* region: Regions delineated by the 5 Community Development Council Districts (e.g., CS is Central Singapore)\n",
       "* occupation: Categorical variable with 4 occupation levels (professional, student, retired, or other)\n",
       "* training: 1 for training sample, 0 for test sample, NA for representative sample\n",
       "* representative: 1 for representative sample, 0 for training and test sample\n"
      ],
      "text/plain": [
       "<IPython.core.display.Markdown object>"
      ]
     },
     "metadata": {},
     "output_type": "display_data"
    }
   ],
   "source": [
    "# show dataset description\n",
    "rsm.describe(s_mobile)"
   ]
  },
  {
   "cell_type": "markdown",
   "metadata": {},
   "source": [
    "Use `smf.glm` with `freq_weights` and `cov_type` like in the below example\n",
    "    \n",
    "```python\n",
    "lr = smf.glm(\n",
    "    formula=\"churn_yes ~ changer + changem + ...\",\n",
    "    family=Binomial(link=logit()),\n",
    "    data=pentathlon_nptb.query(\"training == 1\"),\n",
    "    freq_weights=s_mobile.loc[mobile.training == 1, \"cweight\"],\n",
    ").fit(cov_type=\"HC1\")\n",
    "```"
   ]
  },
  {
   "cell_type": "code",
   "execution_count": 5,
   "metadata": {},
   "outputs": [
    {
     "name": "stdout",
     "output_type": "stream",
     "text": [
      "     index     OR   OR%  2.5%  97.5% p.values    \n",
      "1  changer  1.001  0.1%   1.0  1.002    0.006  **\n"
     ]
    }
   ],
   "source": [
    "# run python code from another notebook\n",
    "%run ./sub-notebooks/model1.ipynb"
   ]
  },
  {
   "cell_type": "code",
   "execution_count": 6,
   "metadata": {},
   "outputs": [
    {
     "name": "stdout",
     "output_type": "stream",
     "text": [
      "\n",
      "You just accessed a function from your first python packages!\n",
      "Change the code in utils/function.py to whatever you need for this assignment\n",
      "Use 'from utils import functions' to get access to your code\n",
      "You can add modules to import from by adding additional .py files to the 'utils' directory\n",
      "Note: If you make changes to the content of this file you will have to restart the notebook kernel to get the updates\n",
      "\n"
     ]
    }
   ],
   "source": [
    "# importing functions from a module/package\n",
    "from utils import functions\n",
    "functions.example()"
   ]
  },
  {
   "cell_type": "markdown",
   "metadata": {},
   "source": [
    "## Question answers"
   ]
  },
  {
   "cell_type": "code",
   "execution_count": null,
   "metadata": {},
   "outputs": [],
   "source": []
  }
 ],
 "metadata": {
  "kernelspec": {
   "display_name": "Python 3",
   "language": "python",
   "name": "python3"
  },
  "language_info": {
   "codemirror_mode": {
    "name": "ipython",
    "version": 3
   },
   "file_extension": ".py",
   "mimetype": "text/x-python",
   "name": "python",
   "nbconvert_exporter": "python",
   "pygments_lexer": "ipython3",
   "version": "3.8.5"
  }
 },
 "nbformat": 4,
 "nbformat_minor": 4
}