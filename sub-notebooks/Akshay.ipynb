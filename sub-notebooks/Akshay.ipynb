{
 "cells": [
  {
   "cell_type": "code",
   "execution_count": 1,
   "id": "orange-singing",
   "metadata": {},
   "outputs": [],
   "source": [
    "import pandas as pd"
   ]
  },
  {
   "cell_type": "code",
   "execution_count": 2,
   "id": "mexican-taste",
   "metadata": {},
   "outputs": [],
   "source": [
    "df = pd.read_pickle('data/s_mobile.pkl')"
   ]
  },
  {
   "cell_type": "code",
   "execution_count": 3,
   "id": "aware-chapter",
   "metadata": {},
   "outputs": [
    {
     "data": {
      "text/html": [
       "<div>\n",
       "<style scoped>\n",
       "    .dataframe tbody tr th:only-of-type {\n",
       "        vertical-align: middle;\n",
       "    }\n",
       "\n",
       "    .dataframe tbody tr th {\n",
       "        vertical-align: top;\n",
       "    }\n",
       "\n",
       "    .dataframe thead th {\n",
       "        text-align: right;\n",
       "    }\n",
       "</style>\n",
       "<table border=\"1\" class=\"dataframe\">\n",
       "  <thead>\n",
       "    <tr style=\"text-align: right;\">\n",
       "      <th></th>\n",
       "      <th>customer</th>\n",
       "      <th>churn</th>\n",
       "      <th>changer</th>\n",
       "      <th>changem</th>\n",
       "      <th>revenue</th>\n",
       "      <th>mou</th>\n",
       "      <th>overage</th>\n",
       "      <th>roam</th>\n",
       "      <th>conference</th>\n",
       "      <th>months</th>\n",
       "      <th>...</th>\n",
       "      <th>refurb</th>\n",
       "      <th>smartphone</th>\n",
       "      <th>highcreditr</th>\n",
       "      <th>mcycle</th>\n",
       "      <th>car</th>\n",
       "      <th>travel</th>\n",
       "      <th>region</th>\n",
       "      <th>occupation</th>\n",
       "      <th>training</th>\n",
       "      <th>representative</th>\n",
       "    </tr>\n",
       "  </thead>\n",
       "  <tbody>\n",
       "    <tr>\n",
       "      <th>0</th>\n",
       "      <td>U86940794</td>\n",
       "      <td>yes</td>\n",
       "      <td>109</td>\n",
       "      <td>81</td>\n",
       "      <td>62</td>\n",
       "      <td>600</td>\n",
       "      <td>141</td>\n",
       "      <td>0</td>\n",
       "      <td>0</td>\n",
       "      <td>8</td>\n",
       "      <td>...</td>\n",
       "      <td>no</td>\n",
       "      <td>yes</td>\n",
       "      <td>no</td>\n",
       "      <td>no</td>\n",
       "      <td>no</td>\n",
       "      <td>no</td>\n",
       "      <td>CS</td>\n",
       "      <td>other</td>\n",
       "      <td>0.0</td>\n",
       "      <td>0</td>\n",
       "    </tr>\n",
       "    <tr>\n",
       "      <th>1</th>\n",
       "      <td>U56788559</td>\n",
       "      <td>no</td>\n",
       "      <td>0</td>\n",
       "      <td>3</td>\n",
       "      <td>54</td>\n",
       "      <td>146</td>\n",
       "      <td>0</td>\n",
       "      <td>0</td>\n",
       "      <td>0</td>\n",
       "      <td>8</td>\n",
       "      <td>...</td>\n",
       "      <td>no</td>\n",
       "      <td>yes</td>\n",
       "      <td>yes</td>\n",
       "      <td>no</td>\n",
       "      <td>no</td>\n",
       "      <td>no</td>\n",
       "      <td>SE</td>\n",
       "      <td>other</td>\n",
       "      <td>0.0</td>\n",
       "      <td>0</td>\n",
       "    </tr>\n",
       "    <tr>\n",
       "      <th>2</th>\n",
       "      <td>U47928407</td>\n",
       "      <td>no</td>\n",
       "      <td>0</td>\n",
       "      <td>-9</td>\n",
       "      <td>39</td>\n",
       "      <td>1158</td>\n",
       "      <td>96</td>\n",
       "      <td>0</td>\n",
       "      <td>1</td>\n",
       "      <td>9</td>\n",
       "      <td>...</td>\n",
       "      <td>no</td>\n",
       "      <td>yes</td>\n",
       "      <td>no</td>\n",
       "      <td>yes</td>\n",
       "      <td>no</td>\n",
       "      <td>yes</td>\n",
       "      <td>NW</td>\n",
       "      <td>professional</td>\n",
       "      <td>NaN</td>\n",
       "      <td>1</td>\n",
       "    </tr>\n",
       "    <tr>\n",
       "      <th>3</th>\n",
       "      <td>U75794640</td>\n",
       "      <td>no</td>\n",
       "      <td>0</td>\n",
       "      <td>-8</td>\n",
       "      <td>35</td>\n",
       "      <td>560</td>\n",
       "      <td>0</td>\n",
       "      <td>0</td>\n",
       "      <td>0</td>\n",
       "      <td>37</td>\n",
       "      <td>...</td>\n",
       "      <td>no</td>\n",
       "      <td>yes</td>\n",
       "      <td>yes</td>\n",
       "      <td>yes</td>\n",
       "      <td>no</td>\n",
       "      <td>no</td>\n",
       "      <td>NW</td>\n",
       "      <td>retired</td>\n",
       "      <td>1.0</td>\n",
       "      <td>0</td>\n",
       "    </tr>\n",
       "    <tr>\n",
       "      <th>4</th>\n",
       "      <td>U41010771</td>\n",
       "      <td>no</td>\n",
       "      <td>-2</td>\n",
       "      <td>-8</td>\n",
       "      <td>100</td>\n",
       "      <td>1888</td>\n",
       "      <td>112</td>\n",
       "      <td>9</td>\n",
       "      <td>0</td>\n",
       "      <td>20</td>\n",
       "      <td>...</td>\n",
       "      <td>no</td>\n",
       "      <td>yes</td>\n",
       "      <td>no</td>\n",
       "      <td>yes</td>\n",
       "      <td>yes</td>\n",
       "      <td>no</td>\n",
       "      <td>SW</td>\n",
       "      <td>other</td>\n",
       "      <td>NaN</td>\n",
       "      <td>1</td>\n",
       "    </tr>\n",
       "  </tbody>\n",
       "</table>\n",
       "<p>5 rows × 25 columns</p>\n",
       "</div>"
      ],
      "text/plain": [
       "    customer churn  changer  changem  revenue   mou  overage  roam  \\\n",
       "0  U86940794   yes      109       81       62   600      141     0   \n",
       "1  U56788559    no        0        3       54   146        0     0   \n",
       "2  U47928407    no        0       -9       39  1158       96     0   \n",
       "3  U75794640    no        0       -8       35   560        0     0   \n",
       "4  U41010771    no       -2       -8      100  1888      112     9   \n",
       "\n",
       "   conference  months  ...  refurb  smartphone  highcreditr  mcycle  car  \\\n",
       "0           0       8  ...      no         yes           no      no   no   \n",
       "1           0       8  ...      no         yes          yes      no   no   \n",
       "2           1       9  ...      no         yes           no     yes   no   \n",
       "3           0      37  ...      no         yes          yes     yes   no   \n",
       "4           0      20  ...      no         yes           no     yes  yes   \n",
       "\n",
       "  travel region    occupation training representative  \n",
       "0     no     CS         other      0.0              0  \n",
       "1     no     SE         other      0.0              0  \n",
       "2    yes     NW  professional      NaN              1  \n",
       "3     no     NW       retired      1.0              0  \n",
       "4     no     SW         other      NaN              1  \n",
       "\n",
       "[5 rows x 25 columns]"
      ]
     },
     "execution_count": 3,
     "metadata": {},
     "output_type": "execute_result"
    }
   ],
   "source": [
    "df.head()"
   ]
  },
  {
   "cell_type": "code",
   "execution_count": 4,
   "id": "presidential-specification",
   "metadata": {},
   "outputs": [
    {
     "data": {
      "text/plain": [
       "(69000, 25)"
      ]
     },
     "execution_count": 4,
     "metadata": {},
     "output_type": "execute_result"
    }
   ],
   "source": [
    "df.shape"
   ]
  },
  {
   "cell_type": "code",
   "execution_count": 7,
   "id": "unauthorized-forwarding",
   "metadata": {},
   "outputs": [
    {
     "data": {
      "text/html": [
       "<div>\n",
       "<style scoped>\n",
       "    .dataframe tbody tr th:only-of-type {\n",
       "        vertical-align: middle;\n",
       "    }\n",
       "\n",
       "    .dataframe tbody tr th {\n",
       "        vertical-align: top;\n",
       "    }\n",
       "\n",
       "    .dataframe thead th {\n",
       "        text-align: right;\n",
       "    }\n",
       "</style>\n",
       "<table border=\"1\" class=\"dataframe\">\n",
       "  <thead>\n",
       "    <tr style=\"text-align: right;\">\n",
       "      <th></th>\n",
       "      <th>changer</th>\n",
       "      <th>changem</th>\n",
       "      <th>revenue</th>\n",
       "      <th>mou</th>\n",
       "      <th>overage</th>\n",
       "      <th>roam</th>\n",
       "      <th>conference</th>\n",
       "      <th>months</th>\n",
       "      <th>uniqsubs</th>\n",
       "      <th>custcare</th>\n",
       "      <th>retcalls</th>\n",
       "      <th>dropvce</th>\n",
       "      <th>eqpdays</th>\n",
       "      <th>training</th>\n",
       "      <th>representative</th>\n",
       "    </tr>\n",
       "  </thead>\n",
       "  <tbody>\n",
       "    <tr>\n",
       "      <th>count</th>\n",
       "      <td>69000.000000</td>\n",
       "      <td>69000.000000</td>\n",
       "      <td>69000.000000</td>\n",
       "      <td>69000.00000</td>\n",
       "      <td>69000.000000</td>\n",
       "      <td>69000.000000</td>\n",
       "      <td>69000.000000</td>\n",
       "      <td>69000.000000</td>\n",
       "      <td>69000.000000</td>\n",
       "      <td>69000.000000</td>\n",
       "      <td>69000.000000</td>\n",
       "      <td>69000.000000</td>\n",
       "      <td>69000.000000</td>\n",
       "      <td>39000.000000</td>\n",
       "      <td>69000.000000</td>\n",
       "    </tr>\n",
       "    <tr>\n",
       "      <th>mean</th>\n",
       "      <td>8.596870</td>\n",
       "      <td>16.041449</td>\n",
       "      <td>56.959203</td>\n",
       "      <td>525.82229</td>\n",
       "      <td>64.076725</td>\n",
       "      <td>1.195493</td>\n",
       "      <td>0.276275</td>\n",
       "      <td>18.696507</td>\n",
       "      <td>1.526203</td>\n",
       "      <td>2.377652</td>\n",
       "      <td>0.035290</td>\n",
       "      <td>2.986913</td>\n",
       "      <td>526.235696</td>\n",
       "      <td>0.700000</td>\n",
       "      <td>0.434783</td>\n",
       "    </tr>\n",
       "    <tr>\n",
       "      <th>std</th>\n",
       "      <td>28.967754</td>\n",
       "      <td>51.427097</td>\n",
       "      <td>43.439200</td>\n",
       "      <td>530.02473</td>\n",
       "      <td>68.671857</td>\n",
       "      <td>9.083502</td>\n",
       "      <td>1.173325</td>\n",
       "      <td>9.729616</td>\n",
       "      <td>0.866405</td>\n",
       "      <td>4.253015</td>\n",
       "      <td>0.201412</td>\n",
       "      <td>4.539006</td>\n",
       "      <td>230.014550</td>\n",
       "      <td>0.458263</td>\n",
       "      <td>0.495732</td>\n",
       "    </tr>\n",
       "    <tr>\n",
       "      <th>min</th>\n",
       "      <td>-90.000000</td>\n",
       "      <td>-78.000000</td>\n",
       "      <td>0.000000</td>\n",
       "      <td>0.00000</td>\n",
       "      <td>0.000000</td>\n",
       "      <td>0.000000</td>\n",
       "      <td>0.000000</td>\n",
       "      <td>6.000000</td>\n",
       "      <td>1.000000</td>\n",
       "      <td>0.000000</td>\n",
       "      <td>0.000000</td>\n",
       "      <td>0.000000</td>\n",
       "      <td>11.000000</td>\n",
       "      <td>0.000000</td>\n",
       "      <td>0.000000</td>\n",
       "    </tr>\n",
       "    <tr>\n",
       "      <th>25%</th>\n",
       "      <td>-2.000000</td>\n",
       "      <td>-9.000000</td>\n",
       "      <td>32.000000</td>\n",
       "      <td>159.00000</td>\n",
       "      <td>0.000000</td>\n",
       "      <td>0.000000</td>\n",
       "      <td>0.000000</td>\n",
       "      <td>11.000000</td>\n",
       "      <td>1.000000</td>\n",
       "      <td>0.000000</td>\n",
       "      <td>0.000000</td>\n",
       "      <td>0.000000</td>\n",
       "      <td>367.000000</td>\n",
       "      <td>0.000000</td>\n",
       "      <td>0.000000</td>\n",
       "    </tr>\n",
       "    <tr>\n",
       "      <th>50%</th>\n",
       "      <td>0.000000</td>\n",
       "      <td>-1.000000</td>\n",
       "      <td>46.000000</td>\n",
       "      <td>366.00000</td>\n",
       "      <td>40.000000</td>\n",
       "      <td>0.000000</td>\n",
       "      <td>0.000000</td>\n",
       "      <td>16.000000</td>\n",
       "      <td>1.000000</td>\n",
       "      <td>0.000000</td>\n",
       "      <td>0.000000</td>\n",
       "      <td>2.000000</td>\n",
       "      <td>480.000000</td>\n",
       "      <td>1.000000</td>\n",
       "      <td>0.000000</td>\n",
       "    </tr>\n",
       "    <tr>\n",
       "      <th>75%</th>\n",
       "      <td>4.000000</td>\n",
       "      <td>27.000000</td>\n",
       "      <td>69.000000</td>\n",
       "      <td>722.00000</td>\n",
       "      <td>127.000000</td>\n",
       "      <td>0.000000</td>\n",
       "      <td>0.000000</td>\n",
       "      <td>24.000000</td>\n",
       "      <td>2.000000</td>\n",
       "      <td>3.000000</td>\n",
       "      <td>0.000000</td>\n",
       "      <td>4.000000</td>\n",
       "      <td>648.000000</td>\n",
       "      <td>1.000000</td>\n",
       "      <td>1.000000</td>\n",
       "    </tr>\n",
       "    <tr>\n",
       "      <th>max</th>\n",
       "      <td>437.000000</td>\n",
       "      <td>540.000000</td>\n",
       "      <td>1223.000000</td>\n",
       "      <td>7668.00000</td>\n",
       "      <td>283.000000</td>\n",
       "      <td>1112.000000</td>\n",
       "      <td>66.000000</td>\n",
       "      <td>61.000000</td>\n",
       "      <td>18.000000</td>\n",
       "      <td>32.000000</td>\n",
       "      <td>4.000000</td>\n",
       "      <td>111.000000</td>\n",
       "      <td>1982.000000</td>\n",
       "      <td>1.000000</td>\n",
       "      <td>1.000000</td>\n",
       "    </tr>\n",
       "  </tbody>\n",
       "</table>\n",
       "</div>"
      ],
      "text/plain": [
       "            changer       changem       revenue          mou       overage  \\\n",
       "count  69000.000000  69000.000000  69000.000000  69000.00000  69000.000000   \n",
       "mean       8.596870     16.041449     56.959203    525.82229     64.076725   \n",
       "std       28.967754     51.427097     43.439200    530.02473     68.671857   \n",
       "min      -90.000000    -78.000000      0.000000      0.00000      0.000000   \n",
       "25%       -2.000000     -9.000000     32.000000    159.00000      0.000000   \n",
       "50%        0.000000     -1.000000     46.000000    366.00000     40.000000   \n",
       "75%        4.000000     27.000000     69.000000    722.00000    127.000000   \n",
       "max      437.000000    540.000000   1223.000000   7668.00000    283.000000   \n",
       "\n",
       "               roam    conference        months      uniqsubs      custcare  \\\n",
       "count  69000.000000  69000.000000  69000.000000  69000.000000  69000.000000   \n",
       "mean       1.195493      0.276275     18.696507      1.526203      2.377652   \n",
       "std        9.083502      1.173325      9.729616      0.866405      4.253015   \n",
       "min        0.000000      0.000000      6.000000      1.000000      0.000000   \n",
       "25%        0.000000      0.000000     11.000000      1.000000      0.000000   \n",
       "50%        0.000000      0.000000     16.000000      1.000000      0.000000   \n",
       "75%        0.000000      0.000000     24.000000      2.000000      3.000000   \n",
       "max     1112.000000     66.000000     61.000000     18.000000     32.000000   \n",
       "\n",
       "           retcalls       dropvce       eqpdays      training  representative  \n",
       "count  69000.000000  69000.000000  69000.000000  39000.000000    69000.000000  \n",
       "mean       0.035290      2.986913    526.235696      0.700000        0.434783  \n",
       "std        0.201412      4.539006    230.014550      0.458263        0.495732  \n",
       "min        0.000000      0.000000     11.000000      0.000000        0.000000  \n",
       "25%        0.000000      0.000000    367.000000      0.000000        0.000000  \n",
       "50%        0.000000      2.000000    480.000000      1.000000        0.000000  \n",
       "75%        0.000000      4.000000    648.000000      1.000000        1.000000  \n",
       "max        4.000000    111.000000   1982.000000      1.000000        1.000000  "
      ]
     },
     "execution_count": 7,
     "metadata": {},
     "output_type": "execute_result"
    }
   ],
   "source": [
    "df.describe()"
   ]
  },
  {
   "cell_type": "code",
   "execution_count": null,
   "id": "moderate-hollywood",
   "metadata": {},
   "outputs": [],
   "source": []
  },
  {
   "cell_type": "markdown",
   "id": "rising-vatican",
   "metadata": {},
   "source": [
    "### Student Discount Plan"
   ]
  },
  {
   "cell_type": "markdown",
   "id": "quick-currency",
   "metadata": {},
   "source": [
    "Assuming the prices of S-Mobile plans are high for students and that's why they have high churn rates. We plan to give them some student discount so to lower to lower their burden. "
   ]
  },
  {
   "cell_type": "code",
   "execution_count": 96,
   "id": "painful-procurement",
   "metadata": {},
   "outputs": [
    {
     "data": {
      "text/plain": [
       "occupation\n",
       "other           61.790678\n",
       "professional    51.852151\n",
       "student         56.229141\n",
       "retired         39.556346\n",
       "Name: revenue, dtype: float64"
      ]
     },
     "execution_count": 96,
     "metadata": {},
     "output_type": "execute_result"
    }
   ],
   "source": [
    "s_mobile[s_mobile.representative == 1].groupby('occupation')['revenue'].mean()"
   ]
  },
  {
   "cell_type": "code",
   "execution_count": 82,
   "id": "logical-browser",
   "metadata": {},
   "outputs": [
    {
     "name": "stdout",
     "output_type": "stream",
     "text": [
      "The mean monthly churn rate for students in the representative data is 4.17%\n"
     ]
    }
   ],
   "source": [
    "# Mean monnthly churn rate for those above average churn in our data\n",
    "student_churn = s_mobile.loc[(s_mobile.occupation== 'student') & (s_mobile.representative == 1)].churn_yes.mean()\n",
    "\n",
    "print(f'The mean monthly churn rate for students in the representative data is {round(student_churn*100,2)}%')"
   ]
  },
  {
   "cell_type": "code",
   "execution_count": null,
   "id": "inner-drill",
   "metadata": {},
   "outputs": [],
   "source": []
  },
  {
   "cell_type": "code",
   "execution_count": 85,
   "id": "thermal-finance",
   "metadata": {},
   "outputs": [
    {
     "name": "stdout",
     "output_type": "stream",
     "text": [
      "The mean monthly churn rate for those whose occupation has been simulated to look like the Professionals in the representative data is 2.72%\n"
     ]
    }
   ],
   "source": [
    "# Mean monthly churn rate after setting eqpdays to 0\n",
    "\n",
    "new_churn = lr.predict(s_mobile.loc[(s_mobile.occupation == 'student') & (s_mobile.representative == 1)].assign(occupation='professional')).mean()\n",
    "\n",
    "print(f'The mean monthly churn rate for those whose occupation has been simulated to look like the Professionals in the representative data is {round(new_churn*100,2)}%')"
   ]
  },
  {
   "cell_type": "code",
   "execution_count": 86,
   "id": "recreational-march",
   "metadata": {},
   "outputs": [
    {
     "name": "stdout",
     "output_type": "stream",
     "text": [
      "The projected impact of our plan on churn is a reduction of 1.45% for this subset of people\n"
     ]
    }
   ],
   "source": [
    "print(f'The projected impact of our plan on churn is a reduction of {round((student_churn-new_churn)*100,2)}% for this subset of people')"
   ]
  },
  {
   "cell_type": "code",
   "execution_count": 87,
   "id": "existing-blair",
   "metadata": {},
   "outputs": [
    {
     "data": {
      "text/plain": [
       "989.1274354362118"
      ]
     },
     "execution_count": 87,
     "metadata": {},
     "output_type": "execute_result"
    }
   ],
   "source": [
    "rev = s_mobile.loc[(s_mobile.occupation == 'student') & (s_mobile.representative == 1)].revenue.mean()\n",
    "ser_cost = 5\n",
    "clv_old = clv_calculator(rev,ser_cost,student_churn)\n",
    "clv_old"
   ]
  },
  {
   "cell_type": "code",
   "execution_count": 113,
   "id": "diverse-breath",
   "metadata": {},
   "outputs": [
    {
     "data": {
      "text/plain": [
       "1091.5655757523891"
      ]
     },
     "execution_count": 113,
     "metadata": {},
     "output_type": "execute_result"
    }
   ],
   "source": [
    "clv_new = clv_calculator(rev,ser_cost,new_churn, inc_cost=8)\n",
    "clv_new"
   ]
  },
  {
   "cell_type": "code",
   "execution_count": 114,
   "id": "psychological-thing",
   "metadata": {},
   "outputs": [
    {
     "name": "stdout",
     "output_type": "stream",
     "text": [
      "We can spend atmost 102.44 SGD per customer for the incentive today without incurring a loss\n"
     ]
    }
   ],
   "source": [
    "diff = clv_new - clv_old\n",
    "\n",
    "print(f'We can spend atmost {round(diff,2)} SGD per customer for the incentive today without incurring a loss')"
   ]
  },
  {
   "cell_type": "code",
   "execution_count": 115,
   "id": "liable-struggle",
   "metadata": {},
   "outputs": [],
   "source": [
    "target_perc = s_mobile.loc[(s_mobile.occupation == 'student') & (s_mobile.representative == 1)].shape[0] / s_mobile.loc[s_mobile.representative == 1].shape[0]"
   ]
  },
  {
   "cell_type": "code",
   "execution_count": 116,
   "id": "mobile-newman",
   "metadata": {},
   "outputs": [
    {
     "data": {
      "text/plain": [
       "0.05513333333333333"
      ]
     },
     "execution_count": 116,
     "metadata": {},
     "output_type": "execute_result"
    }
   ],
   "source": [
    "target_perc"
   ]
  },
  {
   "cell_type": "code",
   "execution_count": 117,
   "id": "increased-budget",
   "metadata": {},
   "outputs": [
    {
     "data": {
      "text/plain": [
       "5647756.136098575"
      ]
     },
     "execution_count": 117,
     "metadata": {},
     "output_type": "execute_result"
    }
   ],
   "source": [
    "max_spend = target_perc * 1000000 * diff\n",
    "max_spend"
   ]
  },
  {
   "cell_type": "code",
   "execution_count": 95,
   "id": "photographic-peripheral",
   "metadata": {},
   "outputs": [
    {
     "data": {
      "text/plain": [
       "occupation\n",
       "other           61.790678\n",
       "professional    51.852151\n",
       "student         56.229141\n",
       "retired         39.556346\n",
       "Name: revenue, dtype: float64"
      ]
     },
     "execution_count": 95,
     "metadata": {},
     "output_type": "execute_result"
    }
   ],
   "source": [
    "s_mobile[s_mobile.representative == 1].groupby('occupation')['revenue'].mean()"
   ]
  },
  {
   "cell_type": "code",
   "execution_count": 97,
   "id": "metropolitan-fiction",
   "metadata": {},
   "outputs": [
    {
     "data": {
      "text/plain": [
       "occupation\n",
       "other           587.501717\n",
       "professional    420.444124\n",
       "student         488.093712\n",
       "retired         500.293476\n",
       "Name: mou, dtype: float64"
      ]
     },
     "execution_count": 97,
     "metadata": {},
     "output_type": "execute_result"
    }
   ],
   "source": [
    "s_mobile[s_mobile.representative == 1].groupby('occupation')['mou'].mean()"
   ]
  },
  {
   "cell_type": "code",
   "execution_count": 98,
   "id": "spanish-raise",
   "metadata": {},
   "outputs": [
    {
     "data": {
      "text/plain": [
       "occupation\n",
       "other           65.520795\n",
       "professional    50.315092\n",
       "student         58.412334\n",
       "retired         60.070463\n",
       "Name: overage, dtype: float64"
      ]
     },
     "execution_count": 98,
     "metadata": {},
     "output_type": "execute_result"
    }
   ],
   "source": [
    "s_mobile[s_mobile.representative == 1].groupby('occupation')['overage'].mean()"
   ]
  },
  {
   "cell_type": "code",
   "execution_count": 99,
   "id": "geological-medication",
   "metadata": {},
   "outputs": [
    {
     "data": {
      "text/plain": [
       "occupation\n",
       "other           1.299530\n",
       "professional    1.034178\n",
       "student         1.022975\n",
       "retired         0.941163\n",
       "Name: roam, dtype: float64"
      ]
     },
     "execution_count": 99,
     "metadata": {},
     "output_type": "execute_result"
    }
   ],
   "source": [
    "s_mobile[s_mobile.representative == 1].groupby('occupation')['roam'].mean()"
   ]
  },
  {
   "cell_type": "code",
   "execution_count": 100,
   "id": "second-charity",
   "metadata": {},
   "outputs": [
    {
     "data": {
      "text/plain": [
       "occupation\n",
       "other           0.029752\n",
       "professional    0.022081\n",
       "student         0.021161\n",
       "retired         0.025386\n",
       "Name: retcalls, dtype: float64"
      ]
     },
     "execution_count": 100,
     "metadata": {},
     "output_type": "execute_result"
    }
   ],
   "source": [
    "s_mobile[s_mobile.representative == 1].groupby('occupation')['retcalls'].mean()"
   ]
  },
  {
   "cell_type": "code",
   "execution_count": 101,
   "id": "armed-operations",
   "metadata": {},
   "outputs": [
    {
     "data": {
      "text/plain": [
       "occupation\n",
       "other           2.803837\n",
       "professional    1.574117\n",
       "student         2.382104\n",
       "retired         2.429656\n",
       "Name: custcare, dtype: float64"
      ]
     },
     "execution_count": 101,
     "metadata": {},
     "output_type": "execute_result"
    }
   ],
   "source": [
    "s_mobile[s_mobile.representative == 1].groupby('occupation')['custcare'].mean()"
   ]
  },
  {
   "cell_type": "code",
   "execution_count": 103,
   "id": "geological-emperor",
   "metadata": {},
   "outputs": [
    {
     "data": {
      "text/plain": [
       "occupation\n",
       "other           487.324261\n",
       "professional    560.364823\n",
       "student         512.508464\n",
       "retired         543.881376\n",
       "Name: eqpdays, dtype: float64"
      ]
     },
     "execution_count": 103,
     "metadata": {},
     "output_type": "execute_result"
    }
   ],
   "source": [
    "s_mobile[s_mobile.representative == 1].groupby('occupation')['eqpdays'].mean()"
   ]
  },
  {
   "cell_type": "code",
   "execution_count": null,
   "id": "forced-uganda",
   "metadata": {},
   "outputs": [],
   "source": []
  },
  {
   "cell_type": "code",
   "execution_count": 119,
   "id": "stunning-honey",
   "metadata": {},
   "outputs": [
    {
     "name": "stdout",
     "output_type": "stream",
     "text": [
      "\n",
      "Cross-tabs\n",
      "Variables: travel, roam\n",
      "Null hyp: there is no association between travel and roam\n",
      "Alt. hyp: there is an association between travel and roam\n",
      "\n",
      "Observed:\n",
      "\n",
      "roam         0      1    2    3    4    5    6    7    8   9  ... 140 144 148  \\\n",
      "travel                                                        ...               \n",
      "no      20,501  1,966  920  532  342  267  195  142  106  84  ...   1   1   1   \n",
      "yes      1,228    108   43   31   21   15   17    9    7   6  ...   0   0   0   \n",
      "Total   21,729  2,074  963  563  363  282  212  151  113  90  ...   1   1   1   \n",
      "\n",
      "roam   166 172 178 179 201 692   Total  \n",
      "travel                                  \n",
      "no       1   1   1   1   1   1  25,777  \n",
      "yes      0   0   0   0   0   0   1,523  \n",
      "Total    1   1   1   1   1   1  27,300  \n",
      "\n",
      "[3 rows x 99 columns]\n",
      "\n",
      "Expected: (row total x column total) / total\n",
      "\n",
      "roam            0        1       2       3       4       5       6       7  \\\n",
      "travel                                                                       \n",
      "no      20,516.79  1,958.3  909.28  531.59  342.75  266.27  200.17  142.58   \n",
      "yes      1,212.21    115.7   53.72   31.41   20.25   15.73   11.83    8.42   \n",
      "Total    21,729.0  2,074.0   963.0   563.0   363.0   282.0   212.0   151.0   \n",
      "\n",
      "roam        8      9  ...   140   144   148   166   172   178   179   201  \\\n",
      "travel                ...                                                   \n",
      "no      106.7  84.98  ...  0.94  0.94  0.94  0.94  0.94  0.94  0.94  0.94   \n",
      "yes       6.3   5.02  ...  0.06  0.06  0.06  0.06  0.06  0.06  0.06  0.06   \n",
      "Total   113.0   90.0  ...   1.0   1.0   1.0   1.0   1.0   1.0   1.0   1.0   \n",
      "\n",
      "roam     692     Total  \n",
      "travel                  \n",
      "no      0.94  25,777.0  \n",
      "yes     0.06   1,523.0  \n",
      "Total    1.0  27,300.0  \n",
      "\n",
      "[3 rows x 99 columns]\n",
      "\n",
      "Chi-squared: 52.85 df(97), p.value 1.0\n",
      "\n"
     ]
    }
   ],
   "source": [
    "#Checking the impact of each variable\n",
    "\n",
    "ct = rsm.cross_tabs(s_mobile.query('training == 1'),'travel','roam')\n",
    "ct.summary()"
   ]
  },
  {
   "cell_type": "code",
   "execution_count": 120,
   "id": "assisted-support",
   "metadata": {},
   "outputs": [
    {
     "data": {
      "image/png": "[encoded data removed]",
      "text/plain": [
       "<Figure size 900x600 with 1 Axes>"
      ]
     },
     "metadata": {
      "needs_background": "light"
     },
     "output_type": "display_data"
    }
   ],
   "source": [
    "ct.plot()"
   ]
  }
 ],
 "metadata": {
  "kernelspec": {
   "display_name": "Python 3",
   "language": "python",
   "name": "python3"
  },
  "language_info": {
   "codemirror_mode": {
    "name": "ipython",
    "version": 3
   },
   "file_extension": ".py",
   "mimetype": "text/x-python",
   "name": "python",
   "nbconvert_exporter": "python",
   "pygments_lexer": "ipython3",
   "version": "3.8.5"
  }
 },
 "nbformat": 4,
 "nbformat_minor": 5
}
